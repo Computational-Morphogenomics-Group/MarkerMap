{
 "cells": [
  {
   "cell_type": "markdown",
   "metadata": {},
   "source": [
    "07 May 2020\n",
    "\n",
    "# An example: running RankCorr on Paul"
   ]
  },
  {
   "cell_type": "markdown",
   "metadata": {},
   "source": [
    "For editing packages - don't need to run this"
   ]
  },
  {
   "cell_type": "code",
   "execution_count": null,
   "metadata": {},
   "outputs": [],
   "source": [
    "%load_ext autoreload\n",
    "%autoreload 2"
   ]
  },
  {
   "cell_type": "code",
   "execution_count": null,
   "metadata": {},
   "outputs": [],
   "source": [
    "import numpy as np\n",
    "import pandas as pd"
   ]
  },
  {
   "cell_type": "markdown",
   "metadata": {},
   "source": [
    "Also load scanpy for easy access to the Paul data set.  Check out the scanpy repository at https://github.com/theislab/scanpy"
   ]
  },
  {
   "cell_type": "code",
   "execution_count": null,
   "metadata": {},
   "outputs": [],
   "source": [
    "import scanpy.api as sc\n",
    "\n",
    "sc.settings.verbosity = 3  # verbosity: errors (0), warnings (1), info (2), hints (3)\n",
    "sc.settings.set_figure_params(dpi=80, color_map='viridis')  # low dpi (dots per inch) yields small inline figures\n",
    "sc.logging.print_versions()"
   ]
  },
  {
   "cell_type": "code",
   "execution_count": null,
   "metadata": {},
   "outputs": [],
   "source": [
    "import anndata"
   ]
  },
  {
   "cell_type": "markdown",
   "metadata": {},
   "source": [
    "## Load the RankCorr methods"
   ]
  },
  {
   "cell_type": "markdown",
   "metadata": {},
   "source": [
    "The RankCorr code is currently in a heavily modified version of the PicturedRocks package.  See the PicturedRocks repo at https://github.com/umangv/picturedrocks for the original package.\n",
    "\n",
    "The modified package is included in the code here - this needs to be loading the local version for the remainder of the code to run"
   ]
  },
  {
   "cell_type": "code",
   "execution_count": null,
   "metadata": {},
   "outputs": [],
   "source": [
    "from picturedRocks import Rocks"
   ]
  },
  {
   "cell_type": "markdown",
   "metadata": {},
   "source": [
    "Required inputs for the `Rocks` class:\n",
    "\n",
    "* `X`, an `np.ndarry` of gene counts.  Each row should contain the genetic information from a cell; the columns of `X` correspond to the genes (note that this is the transpose of some commonly used packages).\n",
    "* `y`, a vector of cluster labels.  These labels must be consecutive integers starting at 0.\n"
   ]
  },
  {
   "cell_type": "markdown",
   "metadata": {},
   "source": [
    "## Load the Paul dataset\n",
    "\n",
    "This will automatically download the data set if this is your first time running it."
   ]
  },
  {
   "cell_type": "code",
   "execution_count": null,
   "metadata": {},
   "outputs": [],
   "source": [
    "dataset = \"paul15\""
   ]
  },
  {
   "cell_type": "code",
   "execution_count": null,
   "metadata": {},
   "outputs": [],
   "source": [
    "adata = sc.datasets.paul15()"
   ]
  },
  {
   "cell_type": "code",
   "execution_count": null,
   "metadata": {},
   "outputs": [],
   "source": [
    "adata"
   ]
  },
  {
   "cell_type": "markdown",
   "metadata": {},
   "source": [
    "Create the required vector of cluster labels based on the strings provided in the AnnData object."
   ]
  },
  {
   "cell_type": "code",
   "execution_count": null,
   "metadata": {},
   "outputs": [],
   "source": [
    "lookup = list(adata.obs['paul15_clusters'].cat.categories)\n",
    "yVec = np.array([lookup.index( adata.obs['paul15_clusters'][i] ) for i in range(adata.obs['paul15_clusters'].shape[0]) ])"
   ]
  },
  {
   "cell_type": "markdown",
   "metadata": {},
   "source": [
    "Here are cluster names from the Paul data set.  See Paul (2015)."
   ]
  },
  {
   "cell_type": "code",
   "execution_count": null,
   "metadata": {},
   "outputs": [],
   "source": [
    "lookup"
   ]
  },
  {
   "cell_type": "markdown",
   "metadata": {},
   "source": [
    "Create the `Rocks` object as outlined above"
   ]
  },
  {
   "cell_type": "code",
   "execution_count": null,
   "metadata": {},
   "outputs": [],
   "source": [
    "data = Rocks(adata.X, yVec)\n",
    "\n",
    "# PicturedRocks provides normalization capabilities, though this shouldn't be used for marker selection. \n",
    "#data.normalize(log=False, totalexpr=10000)\n",
    "\n",
    "'''\n",
    "# It is also possible to use the PicturedRocks for fold testing, to match the results from the manuscript. \n",
    "# This will be discussed more in the future.\n",
    "ft = FoldTester(data)\n",
    "folds = np.load(\"paul15-scviFolds.npz\")[\"folds\"]\n",
    "ft.folds = folds\n",
    "ft.validatefolds()\n",
    "\n",
    "ft.makerocks(verbose=0)\n",
    "'''"
   ]
  },
  {
   "cell_type": "markdown",
   "metadata": {},
   "source": [
    "## Run RankCorr"
   ]
  },
  {
   "cell_type": "markdown",
   "metadata": {},
   "source": [
    "The main RankCorr method is `CSrankMarkers.`  In addition to the data provided by the `Rocks` object, it requires one parameter:\n",
    "\n",
    "* `lamb` is the sparsity parameter - larger values of `lamb` will result in more markers selected per cluster\n",
    "\n",
    "There are several optional boolean parameters:\n",
    "\n",
    "* `writeOut` defaults to `False` and controls whether or not to write the selected markers to a file.  The deafult filename is \"ovrRankGenes-lamb{}.dat\", with the input value of `lamb`.\n",
    "* `keepZeros` should almost always be set to `False` (the default value).  It provides a tweak to keep the in the data matrix `X` unchanged by the ranking procedure (i.e. the zeros will be mapped to zero).  This has the effect of removing the zero counts from the analysis (while ranking all of the other counts correctly) and is purely added for experimental exploration.\n",
    "* `onlyNonZero` should almost always be set to `False` (the default value).  This provides a tweak to only rank the nonzero counts, pretending that the zero counts did not even exist. This is only useful if the zero counts in the application are completely uninformative (e.g. a zero count could easily represent a complete erasure of a massive count) which is not the case in UMI counts scRNA-seq data.\n",
    "\n",
    "Note that there are really not any hyperparamters to tweak!"
   ]
  },
  {
   "cell_type": "code",
   "execution_count": null,
   "metadata": {},
   "outputs": [],
   "source": [
    "lamb = 3.0 # this can be whatever\n",
    "\n",
    "%time markers = data.CSrankMarkers(lamb=lamb, writeOut=False, keepZeros=False, onlyNonZero=False)"
   ]
  },
  {
   "cell_type": "markdown",
   "metadata": {},
   "source": [
    "By deafault, this gives a list of markers for the whole clustering, without separating markers by the cluster that they are selected for.  If `writeOut = True`, the cluster information is stored in the output file."
   ]
  },
  {
   "cell_type": "code",
   "execution_count": null,
   "metadata": {},
   "outputs": [],
   "source": [
    "len(markers)"
   ]
  },
  {
   "cell_type": "markdown",
   "metadata": {},
   "source": [
    "If you have the geneNames, add them to the `Rocks` object - then these markers can be converted to gene names."
   ]
  },
  {
   "cell_type": "code",
   "execution_count": null,
   "metadata": {},
   "outputs": [],
   "source": [
    "geneNames = np.array(adata.var.index)\n",
    "data.genes = geneNames"
   ]
  },
  {
   "cell_type": "code",
   "execution_count": null,
   "metadata": {},
   "outputs": [],
   "source": [
    "marker_genes = data.markers_to_genes(markers)"
   ]
  },
  {
   "cell_type": "code",
   "execution_count": null,
   "metadata": {},
   "outputs": [],
   "source": [
    "marker_genes[:10]"
   ]
  },
  {
   "cell_type": "code",
   "execution_count": null,
   "metadata": {},
   "outputs": [],
   "source": []
  }
 ],
 "metadata": {
  "kernelspec": {
   "display_name": "bmc-sc-rna",
   "language": "python",
   "name": "bmc"
  },
  "language_info": {
   "codemirror_mode": {
    "name": "ipython",
    "version": 3
   },
   "file_extension": ".py",
   "mimetype": "text/x-python",
   "name": "python",
   "nbconvert_exporter": "python",
   "pygments_lexer": "ipython3",
   "version": "3.8.2"
  }
 },
 "nbformat": 4,
 "nbformat_minor": 2
}
