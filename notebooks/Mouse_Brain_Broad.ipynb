{
 "cells": [
  {
   "cell_type": "markdown",
   "metadata": {
    "id": "kuKoVgDwzrgo"
   },
   "source": [
    "# All the Imports"
   ]
  },
  {
   "cell_type": "code",
   "execution_count": null,
   "metadata": {},
   "outputs": [],
   "source": [
    "import os\n",
    "import logging"
   ]
  },
  {
   "cell_type": "code",
   "execution_count": null,
   "metadata": {
    "colab": {
     "base_uri": "https://localhost:8080/"
    },
    "id": "ZgkcUm9Pzn7_",
    "outputId": "11f9e0e0-1b5e-4b94-c9b0-dd5a1a2f8514"
   },
   "outputs": [],
   "source": [
    "%%time \n",
    "import itertools \n",
    "import numpy as np\n",
    "import pandas as pd\n",
    "import matplotlib.pyplot as plt\n",
    "import seaborn as sns\n",
    "import os\n",
    "from sklearn.preprocessing import LabelEncoder\n",
    "from lassonet import LassoNetClassifier\n",
    "\n",
    "\n",
    "import smashpy as smashpy\n",
    "\n",
    "\n",
    "import torch\n",
    "from torch import nn\n",
    "from torch.autograd import Variable\n",
    "from torch.nn import functional as F\n",
    "\n",
    "from markermap.utils import RankCorrWrapper, SmashPyWrapper\n",
    "from markermap.utils import MarkerMap, ConcreteVAE_NMSL, VAE_Gumbel_GlobalGate, VAE_l1_diag\n",
    "from markermap.utils import (\n",
    "    get_mouse_brain,\n",
    "    model_variances,\n",
    "    new_model_metrics, \n",
    "    plot_confusion_matrix,\n",
    "    plot_umap_embedding, \n",
    "    split_data_into_dataloaders, \n",
    "    train_save_model,\n",
    ")"
   ]
  },
  {
   "cell_type": "code",
   "execution_count": null,
   "metadata": {
    "colab": {
     "base_uri": "https://localhost:8080/"
    },
    "id": "rf5-4zB23Bip",
    "outputId": "cb17d8e9-0a95-4714-b00b-fe21fbf2b74d"
   },
   "outputs": [],
   "source": [
    "logging.getLogger(\"numpy\").setLevel(logging.ERROR)\n",
    "np.warnings.filterwarnings('ignore', category=np.VisibleDeprecationWarning)\n",
    "\n",
    "logging.getLogger(\"lightning\").setLevel(logging.ERROR)\n",
    "pl_loggers = [ logging.getLogger(name) for name in logging.root.manager.loggerDict if 'lightning' in name ]\n",
    "\n",
    "for logger in pl_loggers:\n",
    "    logger.setLevel(logging.ERROR)"
   ]
  },
  {
   "cell_type": "markdown",
   "metadata": {
    "id": "zli798tc3I1E"
   },
   "source": [
    "# These should be parameters later on "
   ]
  },
  {
   "cell_type": "code",
   "execution_count": null,
   "metadata": {
    "id": "dyZgQa5V3Ird"
   },
   "outputs": [],
   "source": [
    "z_size = 16\n",
    "hidden_layer_size = 500\n",
    "\n",
    "# really good results for vanilla VAE on synthetic data with EPOCHS set to 50, \n",
    "# but when running locally set to 10 for reasonable run times\n",
    "batch_size = 64\n",
    "batch_norm = True\n",
    "\n",
    "\n",
    "global_t = 3.0\n",
    "\n",
    "k_range = [10, 50, 100, 250]\n",
    "k = 50\n",
    "num_times = 10\n",
    "\n",
    "gpus = None\n",
    "tpu_cores = None\n",
    "precision = 32\n",
    "\n",
    "# The smashpy methods set global seeds that mess with sampling. These seeds are used \n",
    "# to stop those methods from using the same global seed over and over.\n",
    "possible_seeds = np.random.randint(low=1, high = 1000000, size = 400)\n",
    "seed_index = 0"
   ]
  },
  {
   "cell_type": "code",
   "execution_count": null,
   "metadata": {
    "id": "z3YA3apjf8hc"
   },
   "outputs": [],
   "source": [
    "import multiprocessing\n",
    "\n",
    "num_cores = multiprocessing.cpu_count()"
   ]
  },
  {
   "cell_type": "markdown",
   "metadata": {
    "id": "zNL5KfNXyX_w"
   },
   "source": [
    "# Here goes all the stuff that we change from dataset to dataset"
   ]
  },
  {
   "cell_type": "code",
   "execution_count": null,
   "metadata": {
    "id": "VH7bxl6U3CUC"
   },
   "outputs": [],
   "source": [
    "from os import path"
   ]
  },
  {
   "cell_type": "code",
   "execution_count": null,
   "metadata": {
    "id": "2BQ8JwQoyXhv"
   },
   "outputs": [],
   "source": [
    "dataset_dir = '../data/mouse_brain_broad/'\n",
    "model_save_path = '../data/mouse_brain_broad/models/'\n",
    "viz_save_path = '../data/mouse_brain_broad/visualizations/'\n",
    "\n",
    "if not path.exists(model_save_path):\n",
    "  os.makedirs(model_save_path)\n",
    "\n",
    "if not path.exists(model_save_path + 'experiment_data_folds/'):\n",
    "  os.makedirs(model_save_path + 'experiment_data_folds/')\n",
    "  \n",
    "if not path.exists(viz_save_path):\n",
    "  os.makedirs(viz_save_path)\n",
    "\n",
    "  "
   ]
  },
  {
   "cell_type": "markdown",
   "metadata": {
    "id": "Xv2eoOiMyg3v"
   },
   "source": [
    "# Dataset Specific Processing"
   ]
  },
  {
   "cell_type": "markdown",
   "metadata": {
    "id": "Sa6gNnbY-cnt"
   },
   "source": [
    "`"
   ]
  },
  {
   "cell_type": "code",
   "execution_count": null,
   "metadata": {},
   "outputs": [],
   "source": [
    "X, y, encoder = get_mouse_brain(\n",
    "    dataset_dir + 'mouse_brain_all_cells_20200625.h5ad', \n",
    "    dataset_dir + 'snRNA_annotation_astro_subtypes_refined59_20200823.csv',\n",
    ")"
   ]
  },
  {
   "cell_type": "code",
   "execution_count": null,
   "metadata": {
    "id": "MmNfRwkAS0JC"
   },
   "outputs": [],
   "source": [
    "input_size = X.shape[1]"
   ]
  },
  {
   "cell_type": "code",
   "execution_count": null,
   "metadata": {
    "colab": {
     "base_uri": "https://localhost:8080/"
    },
    "id": "TDw7r-5hY9oL",
    "outputId": "5fe14472-c316-4336-8f04-b82cf1c853c1"
   },
   "outputs": [],
   "source": [
    "X.shape"
   ]
  },
  {
   "cell_type": "markdown",
   "metadata": {
    "id": "CpqrOe55ymwy"
   },
   "source": [
    "# Set Up Models"
   ]
  },
  {
   "cell_type": "markdown",
   "metadata": {
    "id": "ic2LXBmFgPAN"
   },
   "source": [
    "## Baseline"
   ]
  },
  {
   "cell_type": "code",
   "execution_count": null,
   "metadata": {
    "colab": {
     "base_uri": "https://localhost:8080/",
     "height": 1000
    },
    "id": "o5ueuoS6gQ0B",
    "outputId": "96c64deb-0844-428b-d8a6-a0d2262a635e"
   },
   "outputs": [],
   "source": [
    "%%time\n",
    "for tryy in range(1,num_times+1):\n",
    "    _, _, _, train_indices, val_indices, test_indices = split_data_into_dataloaders(X, y, 0.7, 0.1, num_cores)\n",
    "    all_markers = np.arange(X.shape[1])\n",
    "    X_train = X[np.concatenate([train_indices, val_indices]), :]\n",
    "    y_train = y[np.concatenate([train_indices, val_indices])]\n",
    "    X_test = X[test_indices,:]\n",
    "    y_test = y[test_indices]\n",
    "    results = new_model_metrics(X_train, y_train, X_test, y_test, markers = all_markers)\n",
    "    np.save(model_save_path + 'all_markers_results_{}.npy'.format(tryy), results)\n",
    "    np.save(model_save_path + 'all_markers_{}.npy'.format(tryy), all_markers)\n",
    "    np.save(model_save_path + 'experiment_data_folds/all_markers_indices_{}.npy'.format(tryy), (train_indices, val_indices, test_indices))\n",
    "    print('doing viz')\n",
    "    #plot_umap_embedding(X, y, encoder, 'All Marker Visualization', path = viz_save_path + 'all_markers_{}.pdf'.format(tryy), markers = all_markers, close_fig = True)\n"
   ]
  },
  {
   "cell_type": "markdown",
   "metadata": {
    "id": "DaU3wodPT7mV"
   },
   "source": [
    "## Train Smash Random Forest\n",
    "\n",
    "\n",
    "\n"
   ]
  },
  {
   "cell_type": "code",
   "execution_count": null,
   "metadata": {
    "id": "cJuMQIxtXl-r"
   },
   "outputs": [],
   "source": [
    "# needed for random forest Smash\n",
    "!mkdir Figures"
   ]
  },
  {
   "cell_type": "code",
   "execution_count": null,
   "metadata": {
    "id": "3xX1y8POT-ob"
   },
   "outputs": [],
   "source": [
    "%%time\n",
    "for tryy in range(1,num_times+1):\n",
    "    # The smashpy methods set global seeds that mess with sampling. These seeds are used \n",
    "    # to stop those methods from using the same global seed over and over.\n",
    "    np.random.seed(possible_seeds[seed_index])\n",
    "    seed_index += 1\n",
    "    _, _, _, train_indices, val_indices, test_indices = split_data_into_dataloaders(X, y, 0.7, 0.1, num_workers = num_cores)\n",
    "    train_X_y = SmashPyWrapper.prepareData(X, y, train_indices, val_indices, 'annotation')\n",
    "    sm = smashpy.smashpy()\n",
    "    np.random.seed(np.random.randint(low=10, high = 1000))\n",
    "    clf = sm.ensemble_learning(train_X_y, group_by=\"annotation\", classifier=\"RandomForest\", balance=True, verbose=True)\n",
    "    selectedGenes, selectedGenes_dict = sm.gini_importance(train_X_y, clf, group_by=\"annotation\", verbose=True, restrict_top=(\"global\", k))\n",
    "    # since this selects k per class, need select randomly from each classes\n",
    "    smash_markers = train_X_y.var.index.get_indexer(selectedGenes)\n",
    "\n",
    "    X_train = X[np.concatenate([train_indices, val_indices]), :]\n",
    "    y_train = y[np.concatenate([train_indices, val_indices])]\n",
    "    X_test = X[test_indices,:]\n",
    "    y_test = y[test_indices]\n",
    "    results = new_model_metrics(X_train, y_train, X_test, y_test, markers = smash_markers)\n",
    "    np.save(model_save_path + 'smash_rf_results_{}.npy'.format(tryy), results)\n",
    "    np.save(model_save_path + 'smash_rf_markers_{}.npy'.format(tryy), smash_markers)\n",
    "    np.save(model_save_path + 'experiment_data_folds/smash_rf_indices_{}.npy'.format(tryy), (train_indices, val_indices, test_indices))\n",
    "\n",
    "    #plot_umap_embedding(X, y, encoder, 'Smash Random Forest Marker Visualization', path = viz_save_path + 'smash_rf_markers_{}.png'.format(tryy), markers = smash_markers, close_fig = True)"
   ]
  },
  {
   "cell_type": "markdown",
   "metadata": {
    "id": "36K-CYMpTuw2"
   },
   "source": [
    "## Train Smash DNN\n",
    "\n",
    "the data is treated a bit differently than our other models"
   ]
  },
  {
   "cell_type": "code",
   "execution_count": null,
   "metadata": {
    "id": "dihae7ssynzJ"
   },
   "outputs": [],
   "source": [
    "%%time\n",
    "for tryy in range(1,num_times+1):\n",
    "    # The smashpy methods set global seeds that mess with sampling. These seeds are used \n",
    "    # to stop those methods from using the same global seed over and over.\n",
    "    np.random.seed(possible_seeds[seed_index])\n",
    "    seed_index += 1\n",
    "    _, _, _, train_indices, val_indices, test_indices = split_data_into_dataloaders(X, y, 0.7, 0.1)\n",
    "    train_X_y = SmashPyWrapper.prepareData(X, y, train_indices, val_indices, 'annotation')\n",
    "    sm = smashpy.smashpy()\n",
    "    sm.DNN(train_X_y, group_by=\"annotation\", model=None, balance=True, verbose=True, save=False)\n",
    "    selectedGenes, selectedGenes_dict = sm.run_shap(train_X_y, group_by=\"annotation\", model=None, verbose=True, pct=0.1, restrict_top=(\"global\", k))\n",
    "    # since this selects k per class, need select randomly from each classes\n",
    "    smash_markers = train_X_y.var.index.get_indexer(selectedGenes)\n",
    "\n",
    "    X_train = X[np.concatenate([train_indices, val_indices]), :]\n",
    "    y_train = y[np.concatenate([train_indices, val_indices])]\n",
    "    X_test = X[test_indices,:]\n",
    "    y_test = y[test_indices]\n",
    "    results = new_model_metrics(X_train, y_train, X_test, y_test, markers = smash_markers)\n",
    "    np.save(model_save_path + 'smash_results_{}.npy'.format(tryy), results)\n",
    "    np.save(model_save_path + 'smash_markers_{}.npy'.format(tryy), smash_markers)\n",
    "    np.save(model_save_path + 'experiment_data_folds/smash_indices_{}.npy'.format(tryy), (train_indices, val_indices, test_indices))\n",
    "\n",
    "    #plot_umap_embedding(X, y, encoder, 'Smash Marker Visualization', path = viz_save_path + 'smash_markers_{}.png'.format(tryy), markers = smash_markers, close_fig = True)"
   ]
  },
  {
   "cell_type": "code",
   "execution_count": null,
   "metadata": {},
   "outputs": [],
   "source": [
    "# The smashpy methods set global seeds that mess with sampling. These seeds are used \n",
    "# to stop those methods from using the same global seed over and over.\n",
    "np.random.seed(possible_seeds[seed_index])\n",
    "seed_index += 1"
   ]
  },
  {
   "cell_type": "markdown",
   "metadata": {
    "id": "g2fqPVd9tL5R"
   },
   "source": [
    "Names are different than in the example notebook but things like\n",
    "ENSMUSG00000062209 correspond to Erbb4."
   ]
  },
  {
   "cell_type": "markdown",
   "metadata": {
    "id": "L9kicuw3OKgq"
   },
   "source": [
    "## Train RankCorr"
   ]
  },
  {
   "cell_type": "code",
   "execution_count": null,
   "metadata": {
    "id": "MfzfhotGKNxo"
   },
   "outputs": [],
   "source": [
    "for tryy in range(1,num_times+1):\n",
    "    _, _, _, train_indices, val_indices, test_indices = split_data_into_dataloaders(X, y, 0.7, 0.1)\n",
    "    X_train = X[np.concatenate([train_indices, val_indices]), :]\n",
    "    y_train = y[np.concatenate([train_indices, val_indices])]\n",
    "    X_test = X[test_indices,:]\n",
    "    y_test = y[test_indices]\n",
    "\n",
    "    data = RankCorrWrapper(X_train, y_train)\n",
    "    lamb =3.25# this can be whatever\n",
    "\n",
    "    rankcorr_markers = data.CSrankMarkers(lamb=lamb, writeOut=False, keepZeros=False, onlyNonZero=False)\n",
    "    if len(rankcorr_markers) > k:\n",
    "        rankcorr_markers = rankcorr_markers[:k]\n",
    "    \n",
    "\n",
    "    results = new_model_metrics(X_train, y_train, X_test, y_test, markers = rankcorr_markers)\n",
    "    np.save(model_save_path + 'rankcorr_results_{}.npy'.format(tryy), results)\n",
    "    np.save(model_save_path + 'rankcorr_markers_{}.npy'.format(tryy), rankcorr_markers)\n",
    "    np.save(model_save_path + 'experiment_data_folds/rankcorr_indices_{}.npy'.format(tryy), (train_indices, val_indices, test_indices))\n",
    "\n",
    "    #plot_umap_embedding(X, y, encoder, 'RankCorr Marker Visualization', path = viz_save_path + 'rankcorr_markers_{}.png'.format(tryy), markers = rankcorr_markers, close_fig = True)"
   ]
  },
  {
   "cell_type": "markdown",
   "metadata": {
    "id": "4UT0YG-m9CxL"
   },
   "source": [
    "## Train L1 VAE"
   ]
  },
  {
   "cell_type": "code",
   "execution_count": null,
   "metadata": {
    "id": "wcTlqJiJ9CgS"
   },
   "outputs": [],
   "source": [
    "feature_std = torch.tensor(X).std(dim = 0)\n",
    "for tryy in range(1,num_times+1):\n",
    "    train_dataloader, val_dataloader, _, train_indices, val_indices, test_indices = split_data_into_dataloaders(X, y, 0.7, 0.1, num_workers = num_cores)\n",
    "    X_train = X[np.concatenate([train_indices, val_indices]), :]\n",
    "    y_train = y[np.concatenate([train_indices, val_indices])]\n",
    "    X_test = X[test_indices,:]\n",
    "    y_test = y[test_indices]\n",
    "\n",
    "    model = VAE_l1_diag(input_size, hidden_layer_size, z_size, batch_norm = batch_norm)\n",
    "    tmp_path = model_save_path + 'l1_vae_{}.ckpt'.format(tryy)\n",
    "    train_save_model(model, train_dataloader, val_dataloader, tmp_path, gpus=gpus, min_epochs = 25, max_epochs = 100, auto_lr = True, max_lr = 0.00001, early_stopping_patience = 10, \n",
    "                     lr_explore_mode = 'linear', num_lr_rates = 500)\n",
    "    l1_markers = model.markers(feature_std = feature_std.to(model.device), k = k).clone().cpu().detach().numpy()\n",
    "    \n",
    "\n",
    "    results = new_model_metrics(X_train, y_train, X_test, y_test, markers = l1_markers)\n",
    "    np.save(model_save_path + 'l1_vae_results_{}.npy'.format(tryy), results)\n",
    "    np.save(model_save_path + 'l1_vae_markers_{}.npy'.format(tryy), l1_markers)\n",
    "    np.save(model_save_path + 'experiment_data_folds/l1_vae_indices_{}.npy'.format(tryy), (train_indices, val_indices, test_indices))\n",
    "\n",
    "    #plot_umap_embedding(X, y, encoder, 'L1 VAE Marker Visualization', path = viz_save_path + 'l1_vae_markers_{}.png'.format(tryy), markers = l1_markers, close_fig = True)"
   ]
  },
  {
   "cell_type": "markdown",
   "metadata": {
    "id": "NTLLf99HA1o6"
   },
   "source": [
    "## Train Global Gate"
   ]
  },
  {
   "cell_type": "code",
   "execution_count": null,
   "metadata": {
    "id": "G3gYOblwA0r5"
   },
   "outputs": [],
   "source": [
    "for tryy in range(1,num_times+1):\n",
    "    train_dataloader, val_dataloader, _, train_indices, val_indices, test_indices = split_data_into_dataloaders(X, y, 0.7, 0.1, num_workers=num_cores)\n",
    "    X_train = X[np.concatenate([train_indices, val_indices]), :]\n",
    "    y_train = y[np.concatenate([train_indices, val_indices])]\n",
    "    X_test = X[test_indices,:]\n",
    "    y_test = y[test_indices]\n",
    "\n",
    "    model = VAE_Gumbel_GlobalGate(input_size, hidden_layer_size, z_size, k = k, t = global_t, bias = True, batch_norm = batch_norm, temperature_decay=0.95)\n",
    "    tmp_path = model_save_path + 'globalgate_vae_{}.ckpt'.format(tryy)\n",
    "    train_save_model(model, train_dataloader, val_dataloader, tmp_path, gpus = gpus, tpu_cores = tpu_cores, \n",
    "                     min_epochs = 50, max_epochs = 100, auto_lr = True, max_lr = 0.0001, early_stopping_patience =  10, \n",
    "                     lr_explore_mode = 'linear', num_lr_rates = 500)\n",
    "    globalgate_markers = model.markers().clone().cpu().detach().numpy()\n",
    "    \n",
    " \n",
    "    results = new_model_metrics(X_train, y_train, X_test, y_test, markers = globalgate_markers)\n",
    "    np.save(model_save_path + 'globalgate_vae_results_{}.npy'.format(tryy), results)\n",
    "    np.save(model_save_path + 'globalgate_vae_markers_{}.npy'.format(tryy), globalgate_markers)\n",
    "    np.save(model_save_path + 'experiment_data_folds/globalgate_vae_indices_{}.npy'.format(tryy), (train_indices, val_indices, test_indices))\n",
    "\n",
    "    #plot_umap_embedding(X, y, encoder, 'Global Gate VAE Marker Visualization', path = viz_save_path + 'globalgate_vae_markers_{}.png'.format(tryy), markers = globalgate_markers, close_fig = True)"
   ]
  },
  {
   "cell_type": "markdown",
   "metadata": {
    "id": "6Kh0fu77RlWp"
   },
   "source": [
    "## Train MarkerMap Unsupervised"
   ]
  },
  {
   "cell_type": "code",
   "execution_count": null,
   "metadata": {
    "id": "I9BoR6M-Rnfm"
   },
   "outputs": [],
   "source": [
    "for tryy in range(1,num_times+1):\n",
    "    train_dataloader, val_dataloader, _, train_indices, val_indices, test_indices = split_data_into_dataloaders(X, y, 0.7, 0.1, num_workers = num_cores, batch_size = batch_size)\n",
    "    X_train = X[np.concatenate([train_indices, val_indices]), :]\n",
    "    y_train = y[np.concatenate([train_indices, val_indices])]\n",
    "    X_test = X[test_indices,:]\n",
    "    y_test = y[test_indices]\n",
    "    model = MarkerMap(input_size, hidden_layer_size, z_size, k = k, t = global_t, bias = True, temperature_decay=0.95, alpha = 0.95, batch_norm = batch_norm, loss_tradeoff = 1.0, num_classes = None)\n",
    "    tmp_path = model_save_path + 'marker_map_unsupervised_{}.ckpt'.format(tryy)\n",
    "    # DO NOT USE IN OTHER WORKLOADS\n",
    "    train_save_model(model, train_dataloader, val_dataloader, tmp_path, gpus=gpus, min_epochs = 25, max_epochs = 100, auto_lr = True, max_lr = 0.0001, early_stopping_patience = 4, \n",
    "                     lr_explore_mode = 'linear', num_lr_rates = 500, precision = precision)\n",
    "    unsupervised_markers = model.markers().clone().cpu().detach().numpy()\n",
    "    \n",
    "\n",
    "    results = new_model_metrics(X_train, y_train, X_test, y_test, markers = unsupervised_markers)\n",
    "    np.save(model_save_path + 'marker_map_unsupervised_results_{}.npy'.format(tryy), results)\n",
    "    np.save(model_save_path + 'marker_map_unsupervised_markers_{}.npy'.format(tryy), unsupervised_markers)\n",
    "    np.save(model_save_path + 'experiment_data_folds/marker_map_unsupervised_indices_{}.npy'.format(tryy), (train_indices, val_indices, test_indices))\n",
    "\n",
    "    #plot_umap_embedding(X, y, encoder, 'Marker Map Unsupervised Marker Visualization', path = viz_save_path + 'marker_map_unsupervised_markers_{}.png'.format(tryy), markers = unsupervised_markers, close_fig = True)"
   ]
  },
  {
   "cell_type": "markdown",
   "metadata": {
    "id": "06HHTH8FUSOs"
   },
   "source": [
    "## Train MarkerMap Supervised"
   ]
  },
  {
   "cell_type": "code",
   "execution_count": null,
   "metadata": {
    "id": "rFKATvJ0UVoy"
   },
   "outputs": [],
   "source": [
    "for tryy in range(1,num_times+1):\n",
    "    train_dataloader, val_dataloader, _, train_indices, val_indices, test_indices = split_data_into_dataloaders(X, y, 0.7, 0.1, num_workers = num_cores, batch_size = batch_size)\n",
    "    X_train = X[np.concatenate([train_indices, val_indices]), :]\n",
    "    y_train = y[np.concatenate([train_indices, val_indices])]\n",
    "    X_test = X[test_indices,:]\n",
    "    y_test = y[test_indices]\n",
    "    \n",
    "    model = MarkerMap(input_size, hidden_layer_size, z_size, num_classes = len(encoder.classes_), \n",
    "                             k = k, t = global_t, bias = True, temperature_decay=0.95, alpha = 0.95, batch_norm = batch_norm, loss_tradeoff = 0)\n",
    "    tmp_path = model_save_path + 'marker_map_supervised_{}.ckpt'.format(tryy)\n",
    "    # DO NOT USE IN OTHER WORKLOADS\n",
    "    train_save_model(model, train_dataloader, val_dataloader, tmp_path, gpus=gpus, tpu_cores = tpu_cores, \n",
    "                     min_epochs = 25, max_epochs = 100, auto_lr = True, early_stopping_patience = 3, precision = precision, lr_explore_mode = 'linear', num_lr_rates=500)\n",
    "    markers = model.markers().clone().cpu().detach().numpy()\n",
    "    \n",
    "\n",
    "    results = new_model_metrics(X_train, y_train, X_test, y_test, markers = markers)\n",
    "    np.save(model_save_path + 'marker_map_supervised_results_{}.npy'.format(tryy), results)\n",
    "    np.save(model_save_path + 'marker_map_supervised_markers_{}.npy'.format(tryy), markers)\n",
    "    np.save(model_save_path + 'experiment_data_folds/marker_map_supervised_indices_{}.npy'.format(tryy), (train_indices, val_indices, test_indices))\n",
    "\n",
    "    #plot_umap_embedding(X, y, encoder, 'MarkerMap Supervised Marker Visualization', path = viz_save_path + 'marker_map_supervised_markers_{}.png'.format(tryy), markers = markers, close_fig = True)"
   ]
  },
  {
   "cell_type": "markdown",
   "metadata": {
    "id": "gcItWQbL7MkN"
   },
   "source": [
    "## Train MarkerMap Mixed Supervision"
   ]
  },
  {
   "cell_type": "code",
   "execution_count": null,
   "metadata": {
    "id": "atwmDr7m7QuE"
   },
   "outputs": [],
   "source": [
    "for tryy in range(1,num_times+1):\n",
    "    train_dataloader, val_dataloader, _, train_indices, val_indices, test_indices = split_data_into_dataloaders(X, y, 0.7, 0.1, num_workers = num_cores, batch_size = batch_size)\n",
    "    X_train = X[np.concatenate([train_indices, val_indices]), :]\n",
    "    y_train = y[np.concatenate([train_indices, val_indices])]\n",
    "    X_test = X[test_indices,:]\n",
    "    y_test = y[test_indices]\n",
    "    \n",
    "    model = MarkerMap(input_size, hidden_layer_size, z_size, num_classes = len(encoder.classes_), \n",
    "                             k = k, t = global_t, bias = True, temperature_decay=0.95, alpha = 0.95, batch_norm = batch_norm, loss_tradeoff = 0.5)\n",
    "    tmp_path = model_save_path + 'marker_map_mixed_{}.ckpt'.format(tryy)\n",
    "    # DO NOT USE IN OTHER WORKLOADS\n",
    "    train_save_model(model, train_dataloader, val_dataloader, tmp_path, gpus=gpus, tpu_cores = tpu_cores, \n",
    "                     min_epochs = 25, max_epochs = 100, auto_lr = True, early_stopping_patience = 3, precision = precision, lr_explore_mode = 'linear', num_lr_rates=500)\n",
    "    markers = model.markers().clone().cpu().detach().numpy()\n",
    "    \n",
    "\n",
    "    results = new_model_metrics(X_train, y_train, X_test, y_test, markers = markers)\n",
    "    np.save(model_save_path + 'marker_map_mixed_results_{}.npy'.format(tryy), results)\n",
    "    np.save(model_save_path + 'marker_map_mixed_markers_{}.npy'.format(tryy), markers)\n",
    "    np.save(model_save_path + 'experiment_data_folds/marker_map_mixed_indices_{}.npy'.format(tryy), (train_indices, val_indices, test_indices))\n",
    "\n",
    "    #plot_umap_embedding(X, y, encoder, 'MarkerMap Mixed Supervision Marker Visualization', path = viz_save_path + 'marker_map_mixed_markers_{}.png'.format(tryy), markers = markers, close_fig = True)"
   ]
  },
  {
   "cell_type": "markdown",
   "metadata": {
    "id": "Z_uAjoDSde-v"
   },
   "source": [
    "## Concrete VAE"
   ]
  },
  {
   "cell_type": "code",
   "execution_count": null,
   "metadata": {
    "id": "eqbs1Ni8ypMY"
   },
   "outputs": [],
   "source": [
    "for tryy in range(1,num_times+1):\n",
    "    train_dataloader, val_dataloader, _, train_indices, val_indices, test_indices = split_data_into_dataloaders(X, y, 0.7, 0.1)\n",
    "    X_train = X[np.concatenate([train_indices, val_indices]), :]\n",
    "    y_train = y[np.concatenate([train_indices, val_indices])]\n",
    "    X_test = X[test_indices,:]\n",
    "    y_test = y[test_indices]\n",
    "\n",
    "    model = ConcreteVAE_NMSL(input_size, hidden_layer_size, z_size, k = k, t = global_t, bias = True, temperature_decay = 0.95, batch_norm = batch_norm)\n",
    "    tmp_path = model_save_path + 'concrete_vae_{}.ckpt'.format(tryy)\n",
    "    train_save_model(model, train_dataloader, val_dataloader, tmp_path, gpus=gpus, min_epochs = 50, max_epochs = 100, auto_lr = True, max_lr = 0.0001, early_stopping_patience = 10, \n",
    "                     lr_explore_mode = 'linear', num_lr_rates = 500)\n",
    "    concrete_vae_markers = model.markers().clone().cpu().detach().numpy()\n",
    "    \n",
    "\n",
    "    results = new_model_metrics(X_train, y_train, X_test, y_test, markers = concrete_vae_markers)\n",
    "    np.save(model_save_path + 'concrete_vae_results_{}.npy'.format(tryy), results)\n",
    "    np.save(model_save_path + 'concrete_vae_markers_{}.npy'.format(tryy), concrete_vae_markers)\n",
    "    np.save(model_save_path + 'experiment_data_folds/concrete_vae_indices_{}.npy'.format(tryy), (train_indices, val_indices, test_indices))\n",
    "\n",
    "    #plot_umap_embedding(X, y, encoder, 'Concrete VAE Marker Visualization', path = viz_save_path + 'concrete_vae_markers_{}.png'.format(tryy), markers = concrete_vae_markers, close_fig = True)"
   ]
  },
  {
   "cell_type": "markdown",
   "metadata": {
    "id": "reI5mCZIWWUB"
   },
   "source": [
    "## LassoNet"
   ]
  },
  {
   "cell_type": "code",
   "execution_count": null,
   "metadata": {
    "id": "OaTw2PZ0WXOF"
   },
   "outputs": [],
   "source": [
    "dev = torch.device(\"cuda\") if torch.cuda.is_available() else torch.device(\"cpu\")"
   ]
  },
  {
   "cell_type": "code",
   "execution_count": null,
   "metadata": {
    "id": "BpvwT1rjWeWX"
   },
   "outputs": [],
   "source": [
    "for tryy in range(1,num_times+1):  \n",
    "    _, _, _, train_indices, val_indices, test_indices = split_data_into_dataloaders(X, y, 0.7, 0.1)\n",
    "    X_train = X[train_indices, :]\n",
    "    y_train = y[train_indices]\n",
    "    X_val = X[val_indices,:]\n",
    "    y_val = y[val_indices]\n",
    "    X_test = X[test_indices,:]\n",
    "    y_test = y[test_indices]\n",
    "    # was running out of memory as the path got longer\n",
    "    model = LassoNetClassifier(batch_size = batch_size, n_iters = (100, 10), patience=(10, 3))\n",
    "    model.path(X_train, y_train, X_val = X_val, y_val = y_val)\n",
    "    lasso_net_markers = torch.argsort(model.feature_importances_, descending = True).cpu().numpy()[:k]\n",
    "    results = new_model_metrics(X_train, y_train, X_test, y_test, markers = lasso_net_markers)\n",
    "    np.save(model_save_path + 'lasso_net_results_{}.npy'.format(tryy), results)\n",
    "    np.save(model_save_path + 'lasso_net_markers_{}.npy'.format(tryy), lasso_net_markers)\n",
    "    np.save(model_save_path + 'experiment_data_folds/lasso_net_indices_{}.npy'.format(tryy), (train_indices, val_indices, test_indices))\n",
    "\n",
    "    #plot_umap_embedding(X, y, encoder, 'LassoNet Marker Visualization', path = viz_save_path + 'lasso_net_markers_{}.png'.format(tryy), markers = lasso_net_markers, close_fig = True)"
   ]
  },
  {
   "cell_type": "markdown",
   "metadata": {
    "id": "_LT-OGOlrtRg"
   },
   "source": [
    "### Get Model Metrics from KNNs Classifiers"
   ]
  },
  {
   "cell_type": "code",
   "execution_count": null,
   "metadata": {
    "id": "ShTg4TpOrueZ"
   },
   "outputs": [],
   "source": [
    "from sklearn.neighbors import KNeighborsClassifier"
   ]
  },
  {
   "cell_type": "code",
   "execution_count": null,
   "metadata": {
    "id": "NAGwsE6uruSt"
   },
   "outputs": [],
   "source": [
    "def generate_metrics_from_saved_files(X, y, folds_path, markers_path, classifier_model, save_path):\n",
    "    train_indices, val_indices, test_indices = np.load(folds_path, allow_pickle = True)\n",
    "    markers = np.load(markers_path, allow_pickle = True)\n",
    "    X_train = X[np.concatenate([train_indices, val_indices]), :]\n",
    "    y_train = y[np.concatenate([train_indices, val_indices])]\n",
    "    X_test = X[test_indices, :]\n",
    "    y_test = y[test_indices]\n",
    "    results = new_model_metrics(X_train, y_train, X_test, y_test, markers = markers, model = classifier_model)\n",
    "\n",
    "    np.save(save_path, results)\n",
    "    return\n",
    "\n",
    "def batch_generate_metrics_from_saved_files(X, y, format_folds_path, format_markers_path, format_save_path):\n",
    "    for tryy in range(1, num_times+1):\n",
    "        classifier_model = KNeighborsClassifier()\n",
    "        generate_metrics_from_saved_files(X, y, format_folds_path.format(tryy), format_markers_path.format(tryy), classifier_model, format_save_path.format(tryy))\n",
    "    return"
   ]
  },
  {
   "cell_type": "code",
   "execution_count": null,
   "metadata": {
    "id": "yYzrs6MKrt6f"
   },
   "outputs": [],
   "source": [
    "batch_generate_metrics_from_saved_files(X, y,\n",
    "                                  model_save_path+'experiment_data_folds/all_markers_indices_{}.npy',\n",
    "                                  model_save_path+'all_markers_{}.npy',\n",
    "                                  model_save_path+'all_markers_knn_results_{}.npy')\n",
    "\n",
    "batch_generate_metrics_from_saved_files(X, y,\n",
    "                                  model_save_path+'experiment_data_folds/l1_vae_indices_{}.npy',\n",
    "                                  model_save_path+'l1_vae_markers_{}.npy',\n",
    "                                  model_save_path+'l1_vae_knn_results_{}.npy')\n",
    "\n",
    "batch_generate_metrics_from_saved_files(X, y,\n",
    "                                  model_save_path+'experiment_data_folds/smash_rf_indices_{}.npy',\n",
    "                                  model_save_path+'smash_rf_markers_{}.npy',\n",
    "                                  model_save_path+'smash_rf_knn_results_{}.npy')\n",
    "\n",
    "batch_generate_metrics_from_saved_files(X, y,\n",
    "                                  model_save_path+'experiment_data_folds/smash_indices_{}.npy',\n",
    "                                  model_save_path+'smash_markers_{}.npy',\n",
    "                                  model_save_path+'smash_knn_results_{}.npy')\n",
    "\n",
    "batch_generate_metrics_from_saved_files(X, y,\n",
    "                                  model_save_path+'experiment_data_folds/rankcorr_indices_{}.npy',\n",
    "                                  model_save_path+'rankcorr_markers_{}.npy',\n",
    "                                  model_save_path+'rankcorr_knn_results_{}.npy')\n",
    "\n",
    "batch_generate_metrics_from_saved_files(X, y,\n",
    "                                  model_save_path+'experiment_data_folds/globalgate_vae_indices_{}.npy',\n",
    "                                  model_save_path+'globalgate_vae_markers_{}.npy',\n",
    "                                  model_save_path+'globalgate_vae_knn_results_{}.npy')\n",
    "\n",
    "\n",
    "batch_generate_metrics_from_saved_files(X, y,\n",
    "                                  model_save_path+'experiment_data_folds/marker_map_unsupervised_indices_{}.npy',\n",
    "                                  model_save_path+'marker_map_unsupervised_markers_{}.npy',\n",
    "                                  model_save_path+'marker_map_unsupervised_knn_results_{}.npy')\n",
    "\n",
    "\n",
    "batch_generate_metrics_from_saved_files(X, y,\n",
    "                                  model_save_path+'experiment_data_folds/marker_map_supervised_indices_{}.npy',\n",
    "                                  model_save_path+'marker_map_supervised_markers_{}.npy',\n",
    "                                  model_save_path+'marker_map_supervised_knn_results_{}.npy')\n",
    "\n",
    "batch_generate_metrics_from_saved_files(X, y,\n",
    "                                  model_save_path+'experiment_data_folds/marker_map_mixed_indices_{}.npy',\n",
    "                                  model_save_path+'marker_map_mixed_markers_{}.npy',\n",
    "                                  model_save_path+'marker_map_mixed_knn_results_{}.npy')\n",
    "\n",
    "\n",
    "batch_generate_metrics_from_saved_files(X, y,\n",
    "                                  model_save_path+'experiment_data_folds/concrete_vae_indices_{}.npy',\n",
    "                                  model_save_path+'concrete_vae_markers_{}.npy',\n",
    "                                  model_save_path+'concrete_vae_knn_results_{}.npy')\n",
    "\n",
    "batch_generate_metrics_from_saved_files(X, y,\n",
    "                                  model_save_path+'experiment_data_folds/lasso_net_indices_{}.npy',\n",
    "                                  model_save_path+'lasso_net_markers_{}.npy',\n",
    "                                  model_save_path+'lasso_net_knn_results_{}.npy')"
   ]
  },
  {
   "cell_type": "markdown",
   "metadata": {
    "id": "ac3v6MHk6Ag_"
   },
   "source": [
    "# Results and Visualizations"
   ]
  },
  {
   "cell_type": "markdown",
   "metadata": {
    "id": "r49opYsbRZm0"
   },
   "source": [
    "## Accuracies and F1"
   ]
  },
  {
   "cell_type": "code",
   "execution_count": null,
   "metadata": {
    "id": "onT-MVmoGfKO"
   },
   "outputs": [],
   "source": [
    "result_axis = [\n",
    " ('All Markers', 'all_markers_results_{}.npy', 'all_markers_knn_results_{}.npy'), \n",
    " ('L1 VAE', 'l1_vae_results_{}.npy', 'l1_vae_knn_results_{}.npy'),\n",
    " ('Smash RF', 'smash_rf_results_{}.npy', 'smash_rf_knn_results_{}.npy'),\n",
    " ('SMaSH DNN', 'smash_results_{}.npy', 'smash_knn_results_{}.npy'),\n",
    " ('RankCorr', 'rankcorr_results_{}.npy', 'rankcorr_knn_results_{}.npy'),\n",
    " ('Global Gate VAE', 'globalgate_vae_results_{}.npy', 'globalgate_vae_knn_results_{}.npy'),\n",
    " ('MarkerMap Unsupervised', 'marker_map_unsupervised_results_{}.npy', 'marker_map_unsupervised_knn_results_{}.npy'),\n",
    " ('MarkerMap Supervised', 'marker_map_supervised_results_{}.npy', 'marker_map_supervised_knn_results_{}.npy'),\n",
    " ('MarkerMap Mixed Supervision', 'marker_map_mixed_results_{}.npy', 'marker_map_mixed_knn_results_{}.npy'),\n",
    " ('Concrete VAE',  'concrete_vae_results_{}.npy', 'concrete_vae_knn_results_{}.npy'),\n",
    " ('LassoNet', 'lasso_net_results_{}.npy', 'lasso_net_knn_results_{}.npy')\n",
    "]"
   ]
  },
  {
   "cell_type": "code",
   "execution_count": null,
   "metadata": {
    "id": "7LLoa-WyKph2"
   },
   "outputs": [],
   "source": [
    "data_proto = []\n",
    "indices = []\n",
    "for axis in result_axis: \n",
    "    data_proto.append(model_variances(model_save_path + axis[1], num_times))\n",
    "    indices.append(axis[0])"
   ]
  },
  {
   "cell_type": "code",
   "execution_count": null,
   "metadata": {
    "colab": {
     "base_uri": "https://localhost:8080/",
     "height": 390
    },
    "id": "H7R_7QDnLRKV",
    "outputId": "b257f14d-cd6f-4515-bb3a-90e4ab294cb0"
   },
   "outputs": [],
   "source": [
    "pd.DataFrame(data_proto, index = indices, \n",
    "             columns = ['Misclassification Mean', 'Weighted F1 Mean', 'Misclassification Standard Deviation', 'Weighted F1 Standard Deviation'])"
   ]
  },
  {
   "cell_type": "code",
   "execution_count": null,
   "metadata": {
    "id": "oz2wRBoRr1cx"
   },
   "outputs": [],
   "source": [
    "data_proto = []\n",
    "indices = []\n",
    "for axis in result_axis: \n",
    "    data_proto.append(model_variances(model_save_path + axis[2], num_times))\n",
    "    indices.append(axis[0])"
   ]
  },
  {
   "cell_type": "code",
   "execution_count": null,
   "metadata": {
    "colab": {
     "base_uri": "https://localhost:8080/",
     "height": 390
    },
    "id": "4-X1R-isr1N_",
    "outputId": "d99e996a-b960-4ac7-a5d9-7ba17a9d8b81"
   },
   "outputs": [],
   "source": [
    "pd.DataFrame(data_proto, index = indices, \n",
    "             columns = ['Misclassification Mean', 'Weighted F1 Mean', 'Misclassification Standard Deviation', 'Weighted F1 Standard Deviation'])"
   ]
  },
  {
   "cell_type": "markdown",
   "metadata": {
    "id": "Brds9F5jRnYq"
   },
   "source": [
    "## Confusion Matrices"
   ]
  },
  {
   "cell_type": "code",
   "execution_count": null,
   "metadata": {
    "id": "jB1C6EfMedww"
   },
   "outputs": [],
   "source": [
    "k = 50"
   ]
  },
  {
   "cell_type": "markdown",
   "metadata": {
    "id": "YWI8lNkjgbH6"
   },
   "source": [
    "###Baseline"
   ]
  },
  {
   "cell_type": "code",
   "execution_count": null,
   "metadata": {
    "colab": {
     "base_uri": "https://localhost:8080/",
     "height": 467
    },
    "id": "JGe8mYbmgc6S",
    "outputId": "8476d014-1d15-4481-9010-1d0489181eb6"
   },
   "outputs": [],
   "source": [
    "results =  np.load(model_save_path + 'all_markers_results_{}.npy'.format(1), allow_pickle = True)\n",
    "plot_confusion_matrix(results[2], encoder.classes_, title = 'All Markers Confusion Matrix', save_path = viz_save_path + 'all_markers_cm.pdf', cmap = 'icefire')"
   ]
  },
  {
   "cell_type": "markdown",
   "metadata": {
    "id": "7Lp6epw4Mzxe"
   },
   "source": [
    "### Smash RF"
   ]
  },
  {
   "cell_type": "code",
   "execution_count": null,
   "metadata": {
    "id": "9Ig5MZump1Ag"
   },
   "outputs": [],
   "source": [
    "results =  np.load(model_save_path + 'smash_rf_results_{}.npy'.format(1), allow_pickle = True)"
   ]
  },
  {
   "cell_type": "code",
   "execution_count": null,
   "metadata": {
    "colab": {
     "base_uri": "https://localhost:8080/",
     "height": 467
    },
    "id": "SLkCmrh_qtSd",
    "outputId": "6e063e1e-051f-4e73-8b16-2cdd737e32ac"
   },
   "outputs": [],
   "source": [
    "plot_confusion_matrix(results[2], encoder.classes_, title = 'Smash Random Forest Confusion Matrix', save_path = viz_save_path + 'smash_rf_cm.pdf')"
   ]
  },
  {
   "cell_type": "markdown",
   "metadata": {
    "id": "hTlfCrRbefDL"
   },
   "source": [
    "### Smash DNN"
   ]
  },
  {
   "cell_type": "code",
   "execution_count": null,
   "metadata": {
    "colab": {
     "base_uri": "https://localhost:8080/",
     "height": 467
    },
    "id": "JxDRF1Y8egoT",
    "outputId": "96ee3347-a0ad-4080-f793-0095f28c3c8c"
   },
   "outputs": [],
   "source": [
    "results =  np.load(model_save_path + 'smash_results_{}.npy'.format(1), allow_pickle = True)\n",
    "plot_confusion_matrix(results[2], encoder.classes_, title = 'Smash DNN Confusion Matrix', save_path = viz_save_path + 'smash_cm.pdf', cmap = 'icefire')"
   ]
  },
  {
   "cell_type": "markdown",
   "metadata": {
    "id": "RoHIHsMhM1Jc"
   },
   "source": [
    "### RankCorr"
   ]
  },
  {
   "cell_type": "code",
   "execution_count": null,
   "metadata": {
    "colab": {
     "base_uri": "https://localhost:8080/",
     "height": 467
    },
    "id": "zHE1nVLnyJlY",
    "outputId": "c45dc595-a03c-4c31-bf66-63bb89b713f4"
   },
   "outputs": [],
   "source": [
    "results =  np.load(model_save_path + 'rankcorr_results_{}.npy'.format(1), allow_pickle = True)\n",
    "plot_confusion_matrix(results[2], encoder.classes_, title = 'RankCorr Confusion Matrix', save_path = viz_save_path + 'rankcorr_cm.pdf', cmap = 'icefire')"
   ]
  },
  {
   "cell_type": "markdown",
   "metadata": {
    "id": "qe0G8ulp3Cc1"
   },
   "source": [
    "### L1 VAE"
   ]
  },
  {
   "cell_type": "code",
   "execution_count": null,
   "metadata": {
    "colab": {
     "base_uri": "https://localhost:8080/",
     "height": 467
    },
    "id": "mba3I4gS3Fmb",
    "outputId": "966b6256-bb55-4dec-e4b5-36c9d34694d2"
   },
   "outputs": [],
   "source": [
    "results =  np.load(model_save_path + 'l1_vae_results_{}.npy'.format(1), allow_pickle = True)\n",
    "plot_confusion_matrix(results[2], encoder.classes_, title = 'L1 VAE Confusion Matrix', save_path = viz_save_path + 'l1_vae_cm.pdf', cmap = 'icefire')"
   ]
  },
  {
   "cell_type": "markdown",
   "metadata": {
    "id": "k-9W1yk1B4kK"
   },
   "source": [
    "### Global Gate VAE"
   ]
  },
  {
   "cell_type": "code",
   "execution_count": null,
   "metadata": {
    "colab": {
     "base_uri": "https://localhost:8080/",
     "height": 467
    },
    "id": "g5bZpPOvB6W6",
    "outputId": "da09fe8c-03e3-4ac9-a95e-3a49785f5906"
   },
   "outputs": [],
   "source": [
    "results =  np.load(model_save_path + 'globalgate_vae_results_{}.npy'.format(1), allow_pickle = True)\n",
    "plot_confusion_matrix(results[2], encoder.classes_, title = 'GlobalGate VAE Confusion Matrix', save_path = viz_save_path + 'globalgate_vae_cm.pdf', cmap = 'icefire')"
   ]
  },
  {
   "cell_type": "markdown",
   "metadata": {
    "id": "5DqEjpEaM22D"
   },
   "source": [
    "### MarkerMap Unsupervised"
   ]
  },
  {
   "cell_type": "code",
   "execution_count": null,
   "metadata": {
    "colab": {
     "base_uri": "https://localhost:8080/",
     "height": 467
    },
    "id": "It6Bc65UyUM2",
    "outputId": "d93a21d1-76c9-45e5-d994-88307af1640c"
   },
   "outputs": [],
   "source": [
    "results =  np.load(model_save_path + 'marker_map_unsupervised_results_{}.npy'.format(1), allow_pickle = True)\n",
    "plot_confusion_matrix(results[2], encoder.classes_, title = 'MarkerMap Unsupervised Confusion Matrix', save_path = viz_save_path + 'marker_map_unsupervised_cm.pdf', cmap = 'icefire')"
   ]
  },
  {
   "cell_type": "markdown",
   "metadata": {
    "id": "flI6ggosM-f8"
   },
   "source": [
    "### MarkerMap Supervised\n"
   ]
  },
  {
   "cell_type": "code",
   "execution_count": null,
   "metadata": {
    "colab": {
     "base_uri": "https://localhost:8080/",
     "height": 467
    },
    "id": "DXrAepUb0F5G",
    "outputId": "59f40d0d-cf3c-4618-b32b-642ddc088ebe"
   },
   "outputs": [],
   "source": [
    "results =  np.load(model_save_path + 'marker_map_supervised_results_{}.npy'.format(1), allow_pickle = True)\n",
    "plot_confusion_matrix(results[2], encoder.classes_, title = 'MarkerMap Supervised Confusion Matrix', save_path = viz_save_path + 'marker_map_supervised_cm.pdf', cmap = 'icefire')"
   ]
  },
  {
   "cell_type": "markdown",
   "metadata": {
    "id": "tgYv2WSL7iee"
   },
   "source": [
    "### MarkerMap Mixed Supervision"
   ]
  },
  {
   "cell_type": "code",
   "execution_count": null,
   "metadata": {
    "colab": {
     "base_uri": "https://localhost:8080/",
     "height": 467
    },
    "id": "XRbsRy6k7mzh",
    "outputId": "60d0de4d-a027-45e1-8c7e-1fe4c6a89ac9"
   },
   "outputs": [],
   "source": [
    "results =  np.load(model_save_path + 'marker_map_mixed_results_{}.npy'.format(1), allow_pickle = True)\n",
    "plot_confusion_matrix(results[2], encoder.classes_, title = 'MarkerMap Mixed Supervision Confusion Matrix', save_path = viz_save_path + 'marker_map_mixed_cm.pdf', cmap = 'icefire')"
   ]
  },
  {
   "cell_type": "markdown",
   "metadata": {
    "id": "yMJD3N0JM80q"
   },
   "source": [
    "### Concrete VAE"
   ]
  },
  {
   "cell_type": "code",
   "execution_count": null,
   "metadata": {
    "colab": {
     "base_uri": "https://localhost:8080/",
     "height": 467
    },
    "id": "ET_uNpJp0Ujo",
    "outputId": "d29e82ab-dfee-482e-f469-a14124dbeb22"
   },
   "outputs": [],
   "source": [
    "results =  np.load(model_save_path + 'concrete_vae_results_{}.npy'.format(1), allow_pickle = True)\n",
    "plot_confusion_matrix(results[2], encoder.classes_, title = 'Concrete VAE Confusion Matrix', save_path = viz_save_path + 'concrete_vae_cm.pdf', cmap = 'icefire')"
   ]
  },
  {
   "cell_type": "markdown",
   "metadata": {
    "id": "dA_AfG7_W3OD"
   },
   "source": [
    "## LassoNet"
   ]
  },
  {
   "cell_type": "code",
   "execution_count": null,
   "metadata": {
    "colab": {
     "base_uri": "https://localhost:8080/",
     "height": 467
    },
    "id": "x5C56E0TW4Gb",
    "outputId": "7ae00efd-6775-465c-a9c6-aed994b54413"
   },
   "outputs": [],
   "source": [
    "results =  np.load(model_save_path + 'lasso_net_results_{}.npy'.format(1), allow_pickle = True)\n",
    "plot_confusion_matrix(results[2], encoder.classes_, title = 'LassoNet Confusion Matrix', save_path = viz_save_path + 'lasso_net_cm.pdf', cmap = 'icefire')"
   ]
  },
  {
   "cell_type": "code",
   "execution_count": null,
   "metadata": {
    "colab": {
     "background_save": true
    },
    "id": "-aGZeycHRS6D"
   },
   "outputs": [],
   "source": []
  },
  {
   "cell_type": "code",
   "execution_count": null,
   "metadata": {
    "id": "4zqvDbQ3fi_p"
   },
   "outputs": [],
   "source": []
  }
 ],
 "metadata": {
  "colab": {
   "collapsed_sections": [],
   "machine_shape": "hm",
   "name": "Mouse Brain Broad.ipynb",
   "provenance": []
  },
  "kernelspec": {
   "display_name": "Python 3 (ipykernel)",
   "language": "python",
   "name": "python3"
  },
  "language_info": {
   "codemirror_mode": {
    "name": "ipython",
    "version": 3
   },
   "file_extension": ".py",
   "mimetype": "text/x-python",
   "name": "python",
   "nbconvert_exporter": "python",
   "pygments_lexer": "ipython3",
   "version": "3.9.10"
  }
 },
 "nbformat": 4,
 "nbformat_minor": 1
}
