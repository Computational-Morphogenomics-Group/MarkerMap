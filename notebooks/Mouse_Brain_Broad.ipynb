{
 "cells": [
  {
   "cell_type": "markdown",
   "metadata": {
    "id": "kuKoVgDwzrgo"
   },
   "source": [
    "# All the Imports"
   ]
  },
  {
   "cell_type": "code",
   "execution_count": 1,
   "metadata": {},
   "outputs": [],
   "source": [
    "import sys\n",
    "import os\n",
    "import logging\n",
    "sys.path.insert(1, '../src/')"
   ]
  },
  {
   "cell_type": "code",
   "execution_count": 2,
   "metadata": {
    "colab": {
     "base_uri": "https://localhost:8080/"
    },
    "id": "ZgkcUm9Pzn7_",
    "outputId": "11f9e0e0-1b5e-4b94-c9b0-dd5a1a2f8514"
   },
   "outputs": [
    {
     "name": "stdout",
     "output_type": "stream",
     "text": [
      "CPU times: user 7.68 s, sys: 680 ms, total: 8.36 s\n",
      "Wall time: 7.77 s\n"
     ]
    }
   ],
   "source": [
    "%%time \n",
    "import itertools \n",
    "import numpy as np\n",
    "import pandas as pd\n",
    "import scanpy as sc\n",
    "import matplotlib.pyplot as plt\n",
    "import seaborn as sns\n",
    "import os\n",
    "from sklearn.preprocessing import LabelEncoder\n",
    "from lassonet import LassoNetClassifier\n",
    "\n",
    "\n",
    "from RankCorr.picturedRocks import Rocks\n",
    "import smashpy as smashpy\n",
    "\n",
    "\n",
    "import torch\n",
    "from torch import nn\n",
    "from torch.autograd import Variable\n",
    "from torch.nn import functional as F\n",
    "\n",
    "from utils import *\n"
   ]
  },
  {
   "cell_type": "code",
   "execution_count": 3,
   "metadata": {
    "colab": {
     "base_uri": "https://localhost:8080/"
    },
    "id": "rf5-4zB23Bip",
    "outputId": "cb17d8e9-0a95-4714-b00b-fe21fbf2b74d"
   },
   "outputs": [],
   "source": [
    "logging.getLogger(\"lightning\").setLevel(logging.ERROR)\n",
    "pl_loggers = [ logging.getLogger(name) for name in logging.root.manager.loggerDict if 'lightning' in name ]\n",
    "\n",
    "for logger in pl_loggers:\n",
    "    logger.setLevel(logging.ERROR)"
   ]
  },
  {
   "cell_type": "markdown",
   "metadata": {
    "id": "zli798tc3I1E"
   },
   "source": [
    "# These should be parameters later on "
   ]
  },
  {
   "cell_type": "code",
   "execution_count": 4,
   "metadata": {
    "id": "dyZgQa5V3Ird"
   },
   "outputs": [],
   "source": [
    "z_size = 15\n",
    "hidden_layer_size = 500\n",
    "\n",
    "# really good results for vanilla VAE on synthetic data with EPOCHS set to 50, \n",
    "# but when running locally set to 10 for reasonable run times\n",
    "batch_size = 64\n",
    "batch_norm = True\n",
    "\n",
    "\n",
    "global_t = 3.0\n",
    "\n",
    "k_range = [10, 50, 100, 250]\n",
    "k = 50\n",
    "num_times = 10\n",
    "\n",
    "gpus = 1\n",
    "tpu_cores = None\n",
    "precision = 32"
   ]
  },
  {
   "cell_type": "code",
   "execution_count": 5,
   "metadata": {
    "id": "z3YA3apjf8hc"
   },
   "outputs": [],
   "source": [
    "import multiprocessing\n",
    "\n",
    "num_cores = multiprocessing.cpu_count()"
   ]
  },
  {
   "cell_type": "markdown",
   "metadata": {
    "id": "zNL5KfNXyX_w"
   },
   "source": [
    "# Here goes all the stuff that we change from dataset to dataset"
   ]
  },
  {
   "cell_type": "code",
   "execution_count": 6,
   "metadata": {
    "id": "VH7bxl6U3CUC"
   },
   "outputs": [],
   "source": [
    "from os import path"
   ]
  },
  {
   "cell_type": "code",
   "execution_count": 7,
   "metadata": {
    "id": "2BQ8JwQoyXhv"
   },
   "outputs": [],
   "source": [
    "dataset_dir = '../data/mouse_brain_broad/'\n",
    "model_save_path = '../data/mouse_brain_broad/models/'\n",
    "viz_save_path = '../data/mouse_brain_broad/visualizations/'\n",
    "\n",
    "if not path.exists(model_save_path):\n",
    "  os.makedirs(model_save_path)\n",
    "\n",
    "if not path.exists(model_save_path + 'experiment_data_folds/'):\n",
    "  os.makedirs(model_save_path + 'experiment_data_folds/')\n",
    "  \n",
    "if not path.exists(viz_save_path):\n",
    "  os.makedirs(viz_save_path)\n",
    "\n",
    "  "
   ]
  },
  {
   "cell_type": "markdown",
   "metadata": {
    "id": "Xv2eoOiMyg3v"
   },
   "source": [
    "# Dataset Specific Processing"
   ]
  },
  {
   "cell_type": "markdown",
   "metadata": {
    "id": "Sa6gNnbY-cnt"
   },
   "source": [
    "`"
   ]
  },
  {
   "cell_type": "code",
   "execution_count": 8,
   "metadata": {
    "id": "LouR1d696sU1"
   },
   "outputs": [],
   "source": [
    "preprocess_like_smash = False\n",
    "preprocess_like_cell_location=True"
   ]
  },
  {
   "cell_type": "code",
   "execution_count": 9,
   "metadata": {
    "id": "mFOJ8Ami5kmi"
   },
   "outputs": [],
   "source": [
    "import anndata"
   ]
  },
  {
   "cell_type": "code",
   "execution_count": 10,
   "metadata": {
    "id": "e0ksdgI2yjJB"
   },
   "outputs": [],
   "source": [
    "def relabel_mouse_labels(label):\n",
    "    if isinstance(label, str):\n",
    "        return label.split('_')[0]\n",
    "    else:\n",
    "        return label"
   ]
  },
  {
   "cell_type": "code",
   "execution_count": 11,
   "metadata": {
    "colab": {
     "base_uri": "https://localhost:8080/"
    },
    "id": "Gk6ssWkg4fRu",
    "outputId": "99ea1eac-315d-4a45-f29b-80b3e71da082"
   },
   "outputs": [
    {
     "name": "stderr",
     "output_type": "stream",
     "text": [
      "Trying to set attribute `.obs` of view, copying.\n"
     ]
    }
   ],
   "source": [
    "adata_snrna_raw = anndata.read_h5ad(dataset_dir + \"mouse_brain_all_cells_20200625.h5ad\")\n",
    "del adata_snrna_raw.raw\n",
    "adata_snrna_raw = adata_snrna_raw\n",
    "adata_snrna_raw.X = adata_snrna_raw.X.toarray()\n",
    "## Cell type annotations\n",
    "labels = pd.read_csv(dataset_dir + 'snRNA_annotation_astro_subtypes_refined59_20200823.csv', index_col=0)\n",
    "labels['annotation'] = labels['annotation_1'].apply(lambda x: relabel_mouse_labels(x))\n",
    "labels = labels[['annotation']]\n",
    "labels = labels.reindex(index=adata_snrna_raw.obs_names)\n",
    "adata_snrna_raw.obs[labels.columns] = labels\n",
    "adata_snrna_raw = adata_snrna_raw[~adata_snrna_raw.obs['annotation'].isna(), :]\n",
    "adata_snrna_raw = adata_snrna_raw[adata_snrna_raw.obs[\"annotation\"]!='Unk']\n",
    "adata_snrna_raw.obs['annotation'] = adata_snrna_raw.obs['annotation'].astype('category')"
   ]
  },
  {
   "cell_type": "code",
   "execution_count": 12,
   "metadata": {
    "colab": {
     "base_uri": "https://localhost:8080/"
    },
    "id": "MIIJR8Fqqsup",
    "outputId": "5768317b-0bc2-431e-c447-d298fef9a367"
   },
   "outputs": [
    {
     "data": {
      "text/plain": [
       "array([[14.,  2.,  0., ...,  0.,  0.,  0.],\n",
       "       [ 1.,  0.,  0., ...,  0.,  0.,  0.],\n",
       "       [ 1.,  0.,  0., ...,  0.,  0.,  0.],\n",
       "       ...,\n",
       "       [ 3.,  0.,  0., ...,  0.,  0.,  0.],\n",
       "       [ 1.,  0.,  0., ...,  0.,  0.,  0.],\n",
       "       [ 5.,  2.,  0., ...,  0.,  0.,  0.]], dtype=float32)"
      ]
     },
     "execution_count": 12,
     "metadata": {},
     "output_type": "execute_result"
    }
   ],
   "source": [
    "adata_snrna_raw.X"
   ]
  },
  {
   "cell_type": "code",
   "execution_count": 13,
   "metadata": {
    "colab": {
     "base_uri": "https://localhost:8080/"
    },
    "id": "Rf7jaxhY8lLU",
    "outputId": "2dc78ef7-50af-4ceb-b488-988a7c6afdb5"
   },
   "outputs": [
    {
     "data": {
      "text/plain": [
       "array(['Ext', 'Oligo', 'Astro', 'Inh', 'Micro', 'Nb', 'Unk', 'OPC',\n",
       "       'LowQ', nan, 'Endo'], dtype=object)"
      ]
     },
     "execution_count": 13,
     "metadata": {},
     "output_type": "execute_result"
    }
   ],
   "source": [
    "labels['annotation'].unique()"
   ]
  },
  {
   "cell_type": "code",
   "execution_count": 14,
   "metadata": {
    "colab": {
     "base_uri": "https://localhost:8080/"
    },
    "id": "043iV8WbbQEU",
    "outputId": "f519b6d3-bd89-43f8-fb0a-db9795e79304"
   },
   "outputs": [
    {
     "data": {
      "text/plain": [
       "Layers with keys: "
      ]
     },
     "execution_count": 14,
     "metadata": {},
     "output_type": "execute_result"
    }
   ],
   "source": [
    "adata_snrna_raw.layers"
   ]
  },
  {
   "cell_type": "code",
   "execution_count": 15,
   "metadata": {
    "colab": {
     "base_uri": "https://localhost:8080/"
    },
    "id": "EUOp1k26mWIS",
    "outputId": "d0af00a1-88e3-4a28-913f-60fc13fba41c"
   },
   "outputs": [
    {
     "name": "stdout",
     "output_type": "stream",
     "text": [
      "(39583, 31053)\n"
     ]
    }
   ],
   "source": [
    "print(adata_snrna_raw.shape)"
   ]
  },
  {
   "cell_type": "code",
   "execution_count": 16,
   "metadata": {
    "id": "8SGUowaMpnzJ"
   },
   "outputs": [],
   "source": [
    "def remove_features_pct(adata, group_by=None, pct=0.3):\n",
    "\t\tif group_by is None:\n",
    "\t\t\tprint(\"select a group_by in .obs\")\n",
    "\t\t\treturn\n",
    "\t\tif group_by not in adata.obs.columns:\n",
    "\t\t\tprint(\"group_by must be in .obs\")\n",
    "\t\t\treturn \n",
    "\t\t\n",
    "\t\t\n",
    "\t\tlist_keep_genes = []\n",
    "\t\t\n",
    "\t\tdf = pd.DataFrame(data=False, \n",
    "\t\t\t\t\t\t  index=adata.var.index.tolist(),\n",
    "\t\t\t\t\t\t  columns=adata.obs[group_by].cat.categories)\n",
    "\t\tfor g in adata.obs[group_by].cat.categories: \n",
    "\t\t\treduced = adata[adata.obs[group_by]==g]\n",
    "\t\t\tboolean, values = sc.pp.filter_genes(reduced, min_cells = reduced.n_obs*pct, inplace=False)\n",
    "\t\t\tdf[g] = boolean\n",
    "\t\tdfT = df.T\n",
    "\t\tfor g in dfT.columns:\n",
    "\t\t\tif True in dfT[g].tolist():\n",
    "\t\t\t\tlist_keep_genes.append(True)\n",
    "\t\t\telse:\n",
    "\t\t\t\tlist_keep_genes.append(False)\n",
    "\t\t\n",
    "\t\tadata.var[\"general\"] = list_keep_genes\n",
    "\t\t\n",
    "\t\tadata = adata[:, adata.var[\"general\"]]\n",
    "\t\t\n",
    "\t\treturn adata\n",
    "\n",
    "def remove_features_pct_2groups(adata, group_by=None, pct1=0.9, pct2=0.5):\n",
    "    if group_by is None:\n",
    "        print(\"select a group_by in .obs\")\n",
    "        return\n",
    "    if group_by not in adata.obs.columns:\n",
    "        print(\"group_by must be in .obs\")\n",
    "        return \n",
    "    \n",
    "    \n",
    "    list_keep_genes = []\n",
    "    \n",
    "    df = pd.DataFrame(data=False, \n",
    "                        index=adata.var.index.tolist(),\n",
    "                        columns=adata.obs[group_by].cat.categories)\n",
    "    for g in adata.obs[group_by].cat.categories: \n",
    "        reduced = adata[adata.obs[group_by]==g]\n",
    "        boolean, values = sc.pp.filter_genes(reduced, min_cells = reduced.n_obs*(pct1), inplace=False)\n",
    "        df[g] = boolean\n",
    "    dfT = df.T\n",
    "    for g in dfT.columns:\n",
    "        if (sum(dfT[g].tolist())/len(dfT[g].tolist())) >= pct2:\n",
    "            list_keep_genes.append(False)\n",
    "        else:\n",
    "            list_keep_genes.append(True)\n",
    "    \n",
    "    adata.var[\"general\"] = list_keep_genes\n",
    "    \n",
    "    adata = adata[:, adata.var[\"general\"]]\n",
    "    \n",
    "    \n",
    "    return adata\n"
   ]
  },
  {
   "cell_type": "code",
   "execution_count": 17,
   "metadata": {
    "id": "TOLkPTJSvQwJ"
   },
   "outputs": [],
   "source": [
    "import gc"
   ]
  },
  {
   "cell_type": "code",
   "execution_count": 18,
   "metadata": {
    "colab": {
     "base_uri": "https://localhost:8080/"
    },
    "id": "1i3kw2pR4ye-",
    "outputId": "8f567c9e-047e-4212-d6e3-7df7266deed0"
   },
   "outputs": [
    {
     "ename": "MemoryError",
     "evalue": "Unable to allocate 4.58 GiB for an array with shape (39583, 31053) and data type float32",
     "output_type": "error",
     "traceback": [
      "\u001b[0;31m---------------------------------------------------------------------------\u001b[0m",
      "\u001b[0;31mMemoryError\u001b[0m                               Traceback (most recent call last)",
      "\u001b[0;32m<timed exec>\u001b[0m in \u001b[0;36m<module>\u001b[0;34m\u001b[0m\n",
      "\u001b[0;32m~/anaconda3/envs/markermap/lib/python3.9/site-packages/scanpy/preprocessing/_simple.py\u001b[0m in \u001b[0;36mfilter_cells\u001b[0;34m(data, min_counts, min_genes, max_counts, max_genes, inplace, copy)\u001b[0m\n\u001b[1;32m    139\u001b[0m         \u001b[0;32melse\u001b[0m\u001b[0;34m:\u001b[0m\u001b[0;34m\u001b[0m\u001b[0;34m\u001b[0m\u001b[0m\n\u001b[1;32m    140\u001b[0m             \u001b[0madata\u001b[0m\u001b[0;34m.\u001b[0m\u001b[0mobs\u001b[0m\u001b[0;34m[\u001b[0m\u001b[0;34m'n_genes'\u001b[0m\u001b[0;34m]\u001b[0m \u001b[0;34m=\u001b[0m \u001b[0mnumber\u001b[0m\u001b[0;34m\u001b[0m\u001b[0;34m\u001b[0m\u001b[0m\n\u001b[0;32m--> 141\u001b[0;31m         \u001b[0madata\u001b[0m\u001b[0;34m.\u001b[0m\u001b[0m_inplace_subset_obs\u001b[0m\u001b[0;34m(\u001b[0m\u001b[0mcell_subset\u001b[0m\u001b[0;34m)\u001b[0m\u001b[0;34m\u001b[0m\u001b[0;34m\u001b[0m\u001b[0m\n\u001b[0m\u001b[1;32m    142\u001b[0m         \u001b[0;32mreturn\u001b[0m \u001b[0madata\u001b[0m \u001b[0;32mif\u001b[0m \u001b[0mcopy\u001b[0m \u001b[0;32melse\u001b[0m \u001b[0;32mNone\u001b[0m\u001b[0;34m\u001b[0m\u001b[0;34m\u001b[0m\u001b[0m\n\u001b[1;32m    143\u001b[0m     \u001b[0mX\u001b[0m \u001b[0;34m=\u001b[0m \u001b[0mdata\u001b[0m  \u001b[0;31m# proceed with processing the data matrix\u001b[0m\u001b[0;34m\u001b[0m\u001b[0;34m\u001b[0m\u001b[0m\n",
      "\u001b[0;32m~/anaconda3/envs/markermap/lib/python3.9/site-packages/anndata/_core/anndata.py\u001b[0m in \u001b[0;36m_inplace_subset_obs\u001b[0;34m(self, index)\u001b[0m\n\u001b[1;32m   1259\u001b[0m         \u001b[0mSame\u001b[0m \u001b[0;32mas\u001b[0m\u001b[0;31m \u001b[0m\u001b[0;31m`\u001b[0m\u001b[0madata\u001b[0m \u001b[0;34m=\u001b[0m \u001b[0madata\u001b[0m\u001b[0;34m[\u001b[0m\u001b[0mindex\u001b[0m\u001b[0;34m,\u001b[0m \u001b[0;34m:\u001b[0m\u001b[0;34m]\u001b[0m\u001b[0;31m`\u001b[0m\u001b[0;34m,\u001b[0m \u001b[0mbut\u001b[0m \u001b[0minplace\u001b[0m\u001b[0;34m.\u001b[0m\u001b[0;34m\u001b[0m\u001b[0;34m\u001b[0m\u001b[0m\n\u001b[1;32m   1260\u001b[0m         \"\"\"\n\u001b[0;32m-> 1261\u001b[0;31m         \u001b[0madata_subset\u001b[0m \u001b[0;34m=\u001b[0m \u001b[0mself\u001b[0m\u001b[0;34m[\u001b[0m\u001b[0mindex\u001b[0m\u001b[0;34m]\u001b[0m\u001b[0;34m.\u001b[0m\u001b[0mcopy\u001b[0m\u001b[0;34m(\u001b[0m\u001b[0;34m)\u001b[0m\u001b[0;34m\u001b[0m\u001b[0;34m\u001b[0m\u001b[0m\n\u001b[0m\u001b[1;32m   1262\u001b[0m         \u001b[0mself\u001b[0m\u001b[0;34m.\u001b[0m\u001b[0m_init_as_actual\u001b[0m\u001b[0;34m(\u001b[0m\u001b[0madata_subset\u001b[0m\u001b[0;34m,\u001b[0m \u001b[0mdtype\u001b[0m\u001b[0;34m=\u001b[0m\u001b[0mself\u001b[0m\u001b[0;34m.\u001b[0m\u001b[0mX\u001b[0m\u001b[0;34m.\u001b[0m\u001b[0mdtype\u001b[0m\u001b[0;34m)\u001b[0m\u001b[0;34m\u001b[0m\u001b[0;34m\u001b[0m\u001b[0m\n\u001b[1;32m   1263\u001b[0m \u001b[0;34m\u001b[0m\u001b[0m\n",
      "\u001b[0;32m~/anaconda3/envs/markermap/lib/python3.9/site-packages/anndata/_core/anndata.py\u001b[0m in \u001b[0;36mcopy\u001b[0;34m(self, filename)\u001b[0m\n\u001b[1;32m   1511\u001b[0m                 \u001b[0;31m# defined for the matrix, which is needed for some of the\u001b[0m\u001b[0;34m\u001b[0m\u001b[0;34m\u001b[0m\u001b[0m\n\u001b[1;32m   1512\u001b[0m                 \u001b[0;31m# current distributed backend.\u001b[0m\u001b[0;34m\u001b[0m\u001b[0;34m\u001b[0m\u001b[0m\n\u001b[0;32m-> 1513\u001b[0;31m                 \u001b[0mX\u001b[0m \u001b[0;34m=\u001b[0m \u001b[0m_subset\u001b[0m\u001b[0;34m(\u001b[0m\u001b[0mself\u001b[0m\u001b[0;34m.\u001b[0m\u001b[0m_adata_ref\u001b[0m\u001b[0;34m.\u001b[0m\u001b[0mX\u001b[0m\u001b[0;34m,\u001b[0m \u001b[0;34m(\u001b[0m\u001b[0mself\u001b[0m\u001b[0;34m.\u001b[0m\u001b[0m_oidx\u001b[0m\u001b[0;34m,\u001b[0m \u001b[0mself\u001b[0m\u001b[0;34m.\u001b[0m\u001b[0m_vidx\u001b[0m\u001b[0;34m)\u001b[0m\u001b[0;34m)\u001b[0m\u001b[0;34m.\u001b[0m\u001b[0mcopy\u001b[0m\u001b[0;34m(\u001b[0m\u001b[0;34m)\u001b[0m\u001b[0;34m\u001b[0m\u001b[0;34m\u001b[0m\u001b[0m\n\u001b[0m\u001b[1;32m   1514\u001b[0m             \u001b[0;32melse\u001b[0m\u001b[0;34m:\u001b[0m\u001b[0;34m\u001b[0m\u001b[0;34m\u001b[0m\u001b[0m\n\u001b[1;32m   1515\u001b[0m                 \u001b[0mX\u001b[0m \u001b[0;34m=\u001b[0m \u001b[0mself\u001b[0m\u001b[0;34m.\u001b[0m\u001b[0mX\u001b[0m\u001b[0;34m.\u001b[0m\u001b[0mcopy\u001b[0m\u001b[0;34m(\u001b[0m\u001b[0;34m)\u001b[0m\u001b[0;34m\u001b[0m\u001b[0;34m\u001b[0m\u001b[0m\n",
      "\u001b[0;31mMemoryError\u001b[0m: Unable to allocate 4.58 GiB for an array with shape (39583, 31053) and data type float32"
     ]
    }
   ],
   "source": [
    "%%time\n",
    "\n",
    "# doing this cuz smash was a lot of data\n",
    "#https://cell2location.readthedocs.io/en/latest/notebooks/cell2location_estimating_signatures.html\n",
    "if preprocess_like_cell_location:\n",
    "    sc.pp.filter_cells(adata_snrna_raw, min_genes=1)\n",
    "    print(adata_snrna_raw.shape)\n",
    "    sc.pp.filter_genes(adata_snrna_raw, min_cells=1)\n",
    "    print(adata_snrna_raw.shape)\n",
    "\n",
    "    gc.collect()\n",
    "    # calculate the mean of each gene across non-zero cells\n",
    "    adata_snrna_raw.var['n_cells'] = (adata_snrna_raw.X > 0).sum(0)\n",
    "    adata_snrna_raw.var['nonz_mean'] = adata_snrna_raw.X.sum(0) / adata_snrna_raw.var['n_cells']\n",
    "\n",
    "    nonz_mean_cutoff = np.log10(1.12) # cut off for expression in non-zero cells\n",
    "    cell_count_cutoff = np.log10(adata_snrna_raw.shape[0] * 0.0005) # cut off percentage for cells with higher expression\n",
    "    cell_count_cutoff2 = np.log10(adata_snrna_raw.shape[0] * 0.03)# cut off percentage for cells with small expression\n",
    "\n",
    "\n",
    "    adata_snrna_raw[:,(np.array(np.log10(adata_snrna_raw.var['nonz_mean']) > nonz_mean_cutoff)\n",
    "            | np.array(np.log10(adata_snrna_raw.var['n_cells']) > cell_count_cutoff2))\n",
    "        & np.array(np.log10(adata_snrna_raw.var['n_cells']) > cell_count_cutoff)].shape\n",
    "\n",
    "    # select genes based on mean expression in non-zero cells\n",
    "    adata_snrna_raw = adata_snrna_raw[:,(np.array(np.log10(adata_snrna_raw.var['nonz_mean']) > nonz_mean_cutoff)\n",
    "            | np.array(np.log10(adata_snrna_raw.var['n_cells']) > cell_count_cutoff2))\n",
    "        & np.array(np.log10(adata_snrna_raw.var['n_cells']) > cell_count_cutoff)\n",
    "                & np.array(~adata_snrna_raw.var['SYMBOL'].isna())]\n",
    "    gc.collect()\n",
    "    adata_snrna_raw.raw = adata_snrna_raw\n",
    "    adata_snrna_raw.X = adata_snrna_raw.raw.X.copy()\n",
    "    del adata_snrna_raw.raw\n",
    "    gc.collect()\n",
    "    adata_snrna_raw = remove_features_pct(adata_snrna_raw, group_by=\"annotation\", pct=0.3)\n",
    "    gc.collect()\n",
    "    adata_snrna_raw = remove_features_pct_2groups(adata_snrna_raw, group_by=\"annotation\", pct1=0.75, pct2=0.5)\n",
    "    print(adata_snrna_raw.shape)\n",
    "    \n",
    "    sc.pp.normalize_per_cell(adata_snrna_raw, counts_per_cell_after=1e4)\n",
    "    sc.pp.log1p(adata_snrna_raw)\n",
    "    sc.pp.scale(adata_snrna_raw, max_value=10)\n"
   ]
  },
  {
   "cell_type": "code",
   "execution_count": 19,
   "metadata": {
    "colab": {
     "base_uri": "https://localhost:8080/"
    },
    "id": "MzJOF5Gi06Co",
    "outputId": "d66e75f7-39ae-4f6e-cc20-6bc0cb36dc52"
   },
   "outputs": [
    {
     "data": {
      "text/plain": [
       "(39583, 31053)"
      ]
     },
     "execution_count": 19,
     "metadata": {},
     "output_type": "execute_result"
    }
   ],
   "source": [
    "adata_snrna_raw.shape"
   ]
  },
  {
   "cell_type": "code",
   "execution_count": 20,
   "metadata": {
    "id": "VMroe1buSQOp"
   },
   "outputs": [],
   "source": [
    "X = adata_snrna_raw.X.copy()\n",
    "labels = adata_snrna_raw.obs['annotation'].values\n",
    "encoder = LabelEncoder()\n",
    "encoder.fit(labels)\n",
    "y = encoder.transform(labels)"
   ]
  },
  {
   "cell_type": "code",
   "execution_count": 21,
   "metadata": {
    "id": "MmNfRwkAS0JC"
   },
   "outputs": [],
   "source": [
    "input_size = X.shape[1]"
   ]
  },
  {
   "cell_type": "code",
   "execution_count": 22,
   "metadata": {
    "colab": {
     "base_uri": "https://localhost:8080/"
    },
    "id": "TDw7r-5hY9oL",
    "outputId": "5fe14472-c316-4336-8f04-b82cf1c853c1"
   },
   "outputs": [
    {
     "data": {
      "text/plain": [
       "(39583, 31053)"
      ]
     },
     "execution_count": 22,
     "metadata": {},
     "output_type": "execute_result"
    }
   ],
   "source": [
    "X.shape"
   ]
  },
  {
   "cell_type": "markdown",
   "metadata": {
    "id": "CpqrOe55ymwy"
   },
   "source": [
    "# Set Up Models"
   ]
  },
  {
   "cell_type": "markdown",
   "metadata": {
    "id": "ic2LXBmFgPAN"
   },
   "source": [
    "##Baseline"
   ]
  },
  {
   "cell_type": "code",
   "execution_count": 23,
   "metadata": {
    "colab": {
     "base_uri": "https://localhost:8080/",
     "height": 1000
    },
    "id": "o5ueuoS6gQ0B",
    "outputId": "96c64deb-0844-428b-d8a6-a0d2262a635e"
   },
   "outputs": [
    {
     "ename": "MemoryError",
     "evalue": "Unable to allocate 3.21 GiB for an array with shape (27708, 31053) and data type float32",
     "output_type": "error",
     "traceback": [
      "\u001b[0;31m---------------------------------------------------------------------------\u001b[0m",
      "\u001b[0;31mMemoryError\u001b[0m                               Traceback (most recent call last)",
      "\u001b[0;32m<timed exec>\u001b[0m in \u001b[0;36m<module>\u001b[0;34m\u001b[0m\n",
      "\u001b[0;32m~/ThisComp/ggpkg/MarkerMap/notebooks/../src/utils.py\u001b[0m in \u001b[0;36msplit_data_into_dataloaders\u001b[0;34m(X, y, train_size, val_size, batch_size, num_workers, seed)\u001b[0m\n\u001b[1;32m   1394\u001b[0m     \u001b[0mtest_indices\u001b[0m \u001b[0;34m=\u001b[0m \u001b[0mslices\u001b[0m\u001b[0;34m[\u001b[0m\u001b[0mval_end\u001b[0m\u001b[0;34m:\u001b[0m\u001b[0;34m]\u001b[0m\u001b[0;34m\u001b[0m\u001b[0;34m\u001b[0m\u001b[0m\n\u001b[1;32m   1395\u001b[0m \u001b[0;34m\u001b[0m\u001b[0m\n\u001b[0;32m-> 1396\u001b[0;31m     \u001b[0mtrain_x\u001b[0m \u001b[0;34m=\u001b[0m \u001b[0mX\u001b[0m\u001b[0;34m[\u001b[0m\u001b[0mtrain_indices\u001b[0m\u001b[0;34m,\u001b[0m \u001b[0;34m:\u001b[0m\u001b[0;34m]\u001b[0m\u001b[0;34m\u001b[0m\u001b[0;34m\u001b[0m\u001b[0m\n\u001b[0m\u001b[1;32m   1397\u001b[0m     \u001b[0mval_x\u001b[0m \u001b[0;34m=\u001b[0m \u001b[0mX\u001b[0m\u001b[0;34m[\u001b[0m\u001b[0mval_indices\u001b[0m\u001b[0;34m,\u001b[0m \u001b[0;34m:\u001b[0m\u001b[0;34m]\u001b[0m\u001b[0;34m\u001b[0m\u001b[0;34m\u001b[0m\u001b[0m\n\u001b[1;32m   1398\u001b[0m     \u001b[0mtest_x\u001b[0m \u001b[0;34m=\u001b[0m \u001b[0mX\u001b[0m\u001b[0;34m[\u001b[0m\u001b[0mtest_indices\u001b[0m\u001b[0;34m,\u001b[0m \u001b[0;34m:\u001b[0m\u001b[0;34m]\u001b[0m\u001b[0;34m\u001b[0m\u001b[0;34m\u001b[0m\u001b[0m\n",
      "\u001b[0;31mMemoryError\u001b[0m: Unable to allocate 3.21 GiB for an array with shape (27708, 31053) and data type float32"
     ]
    }
   ],
   "source": [
    "%%time\n",
    "for tryy in range(1,num_times+1):\n",
    "    _, _, _, train_indices, val_indices, test_indices = split_data_into_dataloaders(X, y, 0.7, 0.1)\n",
    "    all_markers = np.arange(X.shape[1])\n",
    "    X_train = X[np.concatenate([train_indices, val_indices]), :]\n",
    "    y_train = y[np.concatenate([train_indices, val_indices])]\n",
    "    X_test = X[test_indices,:]\n",
    "    y_test = y[test_indices]\n",
    "    results = new_model_metrics(X_train, y_train, X_test, y_test, markers = all_markers)\n",
    "    np.save(model_save_path + 'all_markers_results_{}.npy'.format(tryy), results)\n",
    "    np.save(model_save_path + 'all_markers_{}.npy'.format(tryy), all_markers)\n",
    "    np.save(model_save_path + 'experiment_data_folds/all_markers_indices_{}.npy'.format(tryy), (train_indices, val_indices, test_indices))\n",
    "\n",
    "    visualize_save_embedding(X, y, encoder, 'All Marker Visualization', path = viz_save_path + 'all_markers_{}.pdf'.format(tryy), markers = all_markers)\n"
   ]
  },
  {
   "cell_type": "markdown",
   "metadata": {
    "id": "DaU3wodPT7mV"
   },
   "source": [
    "## Train Smash Random Forest\n",
    "\n",
    "\n",
    "\n"
   ]
  },
  {
   "cell_type": "code",
   "execution_count": 24,
   "metadata": {
    "id": "cJuMQIxtXl-r"
   },
   "outputs": [
    {
     "ename": "OSError",
     "evalue": "[Errno 12] Cannot allocate memory",
     "output_type": "error",
     "traceback": [
      "\u001b[0;31m---------------------------------------------------------------------------\u001b[0m",
      "\u001b[0;31mOSError\u001b[0m                                   Traceback (most recent call last)",
      "\u001b[0;32m<ipython-input-24-5be92415c4ed>\u001b[0m in \u001b[0;36m<module>\u001b[0;34m\u001b[0m\n\u001b[1;32m      1\u001b[0m \u001b[0;31m# needed for random forest Smash\u001b[0m\u001b[0;34m\u001b[0m\u001b[0;34m\u001b[0m\u001b[0m\n\u001b[0;32m----> 2\u001b[0;31m \u001b[0mget_ipython\u001b[0m\u001b[0;34m(\u001b[0m\u001b[0;34m)\u001b[0m\u001b[0;34m.\u001b[0m\u001b[0msystem\u001b[0m\u001b[0;34m(\u001b[0m\u001b[0;34m'mkdir Figures'\u001b[0m\u001b[0;34m)\u001b[0m\u001b[0;34m\u001b[0m\u001b[0;34m\u001b[0m\u001b[0m\n\u001b[0m",
      "\u001b[0;32m~/anaconda3/envs/markermap/lib/python3.9/site-packages/ipykernel/zmqshell.py\u001b[0m in \u001b[0;36msystem_piped\u001b[0;34m(self, cmd)\u001b[0m\n\u001b[1;32m    648\u001b[0m                 \u001b[0mself\u001b[0m\u001b[0;34m.\u001b[0m\u001b[0muser_ns\u001b[0m\u001b[0;34m[\u001b[0m\u001b[0;34m'_exit_code'\u001b[0m\u001b[0;34m]\u001b[0m \u001b[0;34m=\u001b[0m \u001b[0msystem\u001b[0m\u001b[0;34m(\u001b[0m\u001b[0mcmd\u001b[0m\u001b[0;34m)\u001b[0m\u001b[0;34m\u001b[0m\u001b[0;34m\u001b[0m\u001b[0m\n\u001b[1;32m    649\u001b[0m         \u001b[0;32melse\u001b[0m\u001b[0;34m:\u001b[0m\u001b[0;34m\u001b[0m\u001b[0;34m\u001b[0m\u001b[0m\n\u001b[0;32m--> 650\u001b[0;31m             \u001b[0mself\u001b[0m\u001b[0;34m.\u001b[0m\u001b[0muser_ns\u001b[0m\u001b[0;34m[\u001b[0m\u001b[0;34m'_exit_code'\u001b[0m\u001b[0;34m]\u001b[0m \u001b[0;34m=\u001b[0m \u001b[0msystem\u001b[0m\u001b[0;34m(\u001b[0m\u001b[0mself\u001b[0m\u001b[0;34m.\u001b[0m\u001b[0mvar_expand\u001b[0m\u001b[0;34m(\u001b[0m\u001b[0mcmd\u001b[0m\u001b[0;34m,\u001b[0m \u001b[0mdepth\u001b[0m\u001b[0;34m=\u001b[0m\u001b[0;36m1\u001b[0m\u001b[0;34m)\u001b[0m\u001b[0;34m)\u001b[0m\u001b[0;34m\u001b[0m\u001b[0;34m\u001b[0m\u001b[0m\n\u001b[0m\u001b[1;32m    651\u001b[0m \u001b[0;34m\u001b[0m\u001b[0m\n\u001b[1;32m    652\u001b[0m     \u001b[0;31m# Ensure new system_piped implementation is used\u001b[0m\u001b[0;34m\u001b[0m\u001b[0;34m\u001b[0m\u001b[0m\n",
      "\u001b[0;32m~/anaconda3/envs/markermap/lib/python3.9/site-packages/IPython/utils/_process_posix.py\u001b[0m in \u001b[0;36msystem\u001b[0;34m(self, cmd)\u001b[0m\n\u001b[1;32m    155\u001b[0m                 \u001b[0mchild\u001b[0m \u001b[0;34m=\u001b[0m \u001b[0mpexpect\u001b[0m\u001b[0;34m.\u001b[0m\u001b[0mspawnb\u001b[0m\u001b[0;34m(\u001b[0m\u001b[0mself\u001b[0m\u001b[0;34m.\u001b[0m\u001b[0msh\u001b[0m\u001b[0;34m,\u001b[0m \u001b[0margs\u001b[0m\u001b[0;34m=\u001b[0m\u001b[0;34m[\u001b[0m\u001b[0;34m'-c'\u001b[0m\u001b[0;34m,\u001b[0m \u001b[0mcmd\u001b[0m\u001b[0;34m]\u001b[0m\u001b[0;34m)\u001b[0m \u001b[0;31m# Pexpect-U\u001b[0m\u001b[0;34m\u001b[0m\u001b[0;34m\u001b[0m\u001b[0m\n\u001b[1;32m    156\u001b[0m             \u001b[0;32melse\u001b[0m\u001b[0;34m:\u001b[0m\u001b[0;34m\u001b[0m\u001b[0;34m\u001b[0m\u001b[0m\n\u001b[0;32m--> 157\u001b[0;31m                 \u001b[0mchild\u001b[0m \u001b[0;34m=\u001b[0m \u001b[0mpexpect\u001b[0m\u001b[0;34m.\u001b[0m\u001b[0mspawn\u001b[0m\u001b[0;34m(\u001b[0m\u001b[0mself\u001b[0m\u001b[0;34m.\u001b[0m\u001b[0msh\u001b[0m\u001b[0;34m,\u001b[0m \u001b[0margs\u001b[0m\u001b[0;34m=\u001b[0m\u001b[0;34m[\u001b[0m\u001b[0;34m'-c'\u001b[0m\u001b[0;34m,\u001b[0m \u001b[0mcmd\u001b[0m\u001b[0;34m]\u001b[0m\u001b[0;34m)\u001b[0m  \u001b[0;31m# Vanilla Pexpect\u001b[0m\u001b[0;34m\u001b[0m\u001b[0;34m\u001b[0m\u001b[0m\n\u001b[0m\u001b[1;32m    158\u001b[0m             \u001b[0mflush\u001b[0m \u001b[0;34m=\u001b[0m \u001b[0msys\u001b[0m\u001b[0;34m.\u001b[0m\u001b[0mstdout\u001b[0m\u001b[0;34m.\u001b[0m\u001b[0mflush\u001b[0m\u001b[0;34m\u001b[0m\u001b[0;34m\u001b[0m\u001b[0m\n\u001b[1;32m    159\u001b[0m             \u001b[0;32mwhile\u001b[0m \u001b[0;32mTrue\u001b[0m\u001b[0;34m:\u001b[0m\u001b[0;34m\u001b[0m\u001b[0;34m\u001b[0m\u001b[0m\n",
      "\u001b[0;32m~/anaconda3/envs/markermap/lib/python3.9/site-packages/pexpect/pty_spawn.py\u001b[0m in \u001b[0;36m__init__\u001b[0;34m(self, command, args, timeout, maxread, searchwindowsize, logfile, cwd, env, ignore_sighup, echo, preexec_fn, encoding, codec_errors, dimensions, use_poll)\u001b[0m\n\u001b[1;32m    203\u001b[0m             \u001b[0mself\u001b[0m\u001b[0;34m.\u001b[0m\u001b[0mname\u001b[0m \u001b[0;34m=\u001b[0m \u001b[0;34m'<pexpect factory incomplete>'\u001b[0m\u001b[0;34m\u001b[0m\u001b[0;34m\u001b[0m\u001b[0m\n\u001b[1;32m    204\u001b[0m         \u001b[0;32melse\u001b[0m\u001b[0;34m:\u001b[0m\u001b[0;34m\u001b[0m\u001b[0;34m\u001b[0m\u001b[0m\n\u001b[0;32m--> 205\u001b[0;31m             \u001b[0mself\u001b[0m\u001b[0;34m.\u001b[0m\u001b[0m_spawn\u001b[0m\u001b[0;34m(\u001b[0m\u001b[0mcommand\u001b[0m\u001b[0;34m,\u001b[0m \u001b[0margs\u001b[0m\u001b[0;34m,\u001b[0m \u001b[0mpreexec_fn\u001b[0m\u001b[0;34m,\u001b[0m \u001b[0mdimensions\u001b[0m\u001b[0;34m)\u001b[0m\u001b[0;34m\u001b[0m\u001b[0;34m\u001b[0m\u001b[0m\n\u001b[0m\u001b[1;32m    206\u001b[0m         \u001b[0mself\u001b[0m\u001b[0;34m.\u001b[0m\u001b[0muse_poll\u001b[0m \u001b[0;34m=\u001b[0m \u001b[0muse_poll\u001b[0m\u001b[0;34m\u001b[0m\u001b[0;34m\u001b[0m\u001b[0m\n\u001b[1;32m    207\u001b[0m \u001b[0;34m\u001b[0m\u001b[0m\n",
      "\u001b[0;32m~/anaconda3/envs/markermap/lib/python3.9/site-packages/pexpect/pty_spawn.py\u001b[0m in \u001b[0;36m_spawn\u001b[0;34m(self, command, args, preexec_fn, dimensions)\u001b[0m\n\u001b[1;32m    301\u001b[0m                          for a in self.args]\n\u001b[1;32m    302\u001b[0m \u001b[0;34m\u001b[0m\u001b[0m\n\u001b[0;32m--> 303\u001b[0;31m         self.ptyproc = self._spawnpty(self.args, env=self.env,\n\u001b[0m\u001b[1;32m    304\u001b[0m                                      cwd=self.cwd, **kwargs)\n\u001b[1;32m    305\u001b[0m \u001b[0;34m\u001b[0m\u001b[0m\n",
      "\u001b[0;32m~/anaconda3/envs/markermap/lib/python3.9/site-packages/pexpect/pty_spawn.py\u001b[0m in \u001b[0;36m_spawnpty\u001b[0;34m(self, args, **kwargs)\u001b[0m\n\u001b[1;32m    313\u001b[0m     \u001b[0;32mdef\u001b[0m \u001b[0m_spawnpty\u001b[0m\u001b[0;34m(\u001b[0m\u001b[0mself\u001b[0m\u001b[0;34m,\u001b[0m \u001b[0margs\u001b[0m\u001b[0;34m,\u001b[0m \u001b[0;34m**\u001b[0m\u001b[0mkwargs\u001b[0m\u001b[0;34m)\u001b[0m\u001b[0;34m:\u001b[0m\u001b[0;34m\u001b[0m\u001b[0;34m\u001b[0m\u001b[0m\n\u001b[1;32m    314\u001b[0m         \u001b[0;34m'''Spawn a pty and return an instance of PtyProcess.'''\u001b[0m\u001b[0;34m\u001b[0m\u001b[0;34m\u001b[0m\u001b[0m\n\u001b[0;32m--> 315\u001b[0;31m         \u001b[0;32mreturn\u001b[0m \u001b[0mptyprocess\u001b[0m\u001b[0;34m.\u001b[0m\u001b[0mPtyProcess\u001b[0m\u001b[0;34m.\u001b[0m\u001b[0mspawn\u001b[0m\u001b[0;34m(\u001b[0m\u001b[0margs\u001b[0m\u001b[0;34m,\u001b[0m \u001b[0;34m**\u001b[0m\u001b[0mkwargs\u001b[0m\u001b[0;34m)\u001b[0m\u001b[0;34m\u001b[0m\u001b[0;34m\u001b[0m\u001b[0m\n\u001b[0m\u001b[1;32m    316\u001b[0m \u001b[0;34m\u001b[0m\u001b[0m\n\u001b[1;32m    317\u001b[0m     \u001b[0;32mdef\u001b[0m \u001b[0mclose\u001b[0m\u001b[0;34m(\u001b[0m\u001b[0mself\u001b[0m\u001b[0;34m,\u001b[0m \u001b[0mforce\u001b[0m\u001b[0;34m=\u001b[0m\u001b[0;32mTrue\u001b[0m\u001b[0;34m)\u001b[0m\u001b[0;34m:\u001b[0m\u001b[0;34m\u001b[0m\u001b[0;34m\u001b[0m\u001b[0m\n",
      "\u001b[0;32m~/anaconda3/envs/markermap/lib/python3.9/site-packages/ptyprocess/ptyprocess.py\u001b[0m in \u001b[0;36mspawn\u001b[0;34m(cls, argv, cwd, env, echo, preexec_fn, dimensions, pass_fds)\u001b[0m\n\u001b[1;32m    228\u001b[0m \u001b[0;34m\u001b[0m\u001b[0m\n\u001b[1;32m    229\u001b[0m         \u001b[0;32mif\u001b[0m \u001b[0muse_native_pty_fork\u001b[0m\u001b[0;34m:\u001b[0m\u001b[0;34m\u001b[0m\u001b[0;34m\u001b[0m\u001b[0m\n\u001b[0;32m--> 230\u001b[0;31m             \u001b[0mpid\u001b[0m\u001b[0;34m,\u001b[0m \u001b[0mfd\u001b[0m \u001b[0;34m=\u001b[0m \u001b[0mpty\u001b[0m\u001b[0;34m.\u001b[0m\u001b[0mfork\u001b[0m\u001b[0;34m(\u001b[0m\u001b[0;34m)\u001b[0m\u001b[0;34m\u001b[0m\u001b[0;34m\u001b[0m\u001b[0m\n\u001b[0m\u001b[1;32m    231\u001b[0m         \u001b[0;32melse\u001b[0m\u001b[0;34m:\u001b[0m\u001b[0;34m\u001b[0m\u001b[0;34m\u001b[0m\u001b[0m\n\u001b[1;32m    232\u001b[0m             \u001b[0;31m# Use internal fork_pty, for Solaris\u001b[0m\u001b[0;34m\u001b[0m\u001b[0;34m\u001b[0m\u001b[0m\n",
      "\u001b[0;32m~/anaconda3/envs/markermap/lib/python3.9/pty.py\u001b[0m in \u001b[0;36mfork\u001b[0;34m()\u001b[0m\n\u001b[1;32m     96\u001b[0m \u001b[0;34m\u001b[0m\u001b[0m\n\u001b[1;32m     97\u001b[0m     \u001b[0mmaster_fd\u001b[0m\u001b[0;34m,\u001b[0m \u001b[0mslave_fd\u001b[0m \u001b[0;34m=\u001b[0m \u001b[0mopenpty\u001b[0m\u001b[0;34m(\u001b[0m\u001b[0;34m)\u001b[0m\u001b[0;34m\u001b[0m\u001b[0;34m\u001b[0m\u001b[0m\n\u001b[0;32m---> 98\u001b[0;31m     \u001b[0mpid\u001b[0m \u001b[0;34m=\u001b[0m \u001b[0mos\u001b[0m\u001b[0;34m.\u001b[0m\u001b[0mfork\u001b[0m\u001b[0;34m(\u001b[0m\u001b[0;34m)\u001b[0m\u001b[0;34m\u001b[0m\u001b[0;34m\u001b[0m\u001b[0m\n\u001b[0m\u001b[1;32m     99\u001b[0m     \u001b[0;32mif\u001b[0m \u001b[0mpid\u001b[0m \u001b[0;34m==\u001b[0m \u001b[0mCHILD\u001b[0m\u001b[0;34m:\u001b[0m\u001b[0;34m\u001b[0m\u001b[0;34m\u001b[0m\u001b[0m\n\u001b[1;32m    100\u001b[0m         \u001b[0;31m# Establish a new session.\u001b[0m\u001b[0;34m\u001b[0m\u001b[0;34m\u001b[0m\u001b[0m\n",
      "\u001b[0;31mOSError\u001b[0m: [Errno 12] Cannot allocate memory"
     ]
    }
   ],
   "source": [
    "# needed for random forest Smash\n",
    "!mkdir Figures"
   ]
  },
  {
   "cell_type": "code",
   "execution_count": null,
   "metadata": {
    "id": "3xX1y8POT-ob"
   },
   "outputs": [],
   "source": [
    "%%time\n",
    "for tryy in range(1,num_times+1):\n",
    "    _, _, _, train_indices, val_indices, test_indices = split_data_into_dataloaders(X, y, 0.7, 0.1)\n",
    "    train_X_y = adata_snrna_raw[np.concatenate([train_indices, val_indices]), :]\n",
    "    sm = smashpy.smashpy()\n",
    "    clf = sm.ensemble_learning(train_X_y, group_by=\"annotation\", classifier=\"RandomForest\", balance=True, verbose=True)\n",
    "    selectedGenes, selectedGenes_dict = sm.gini_importance(train_X_y, clf, group_by=\"annotation\", verbose=True, restrict_top=(\"global\", k))\n",
    "    # since this selects k per class, need select randomly from each classes\n",
    "    smash_markers = adata_snrna_raw.var.index.get_indexer(selectedGenes)\n",
    "\n",
    "    X_train = X[np.concatenate([train_indices, val_indices]), :]\n",
    "    y_train = y[np.concatenate([train_indices, val_indices])]\n",
    "    X_test = X[test_indices,:]\n",
    "    y_test = y[test_indices]\n",
    "    results = new_model_metrics(X_train, y_train, X_test, y_test, markers = smash_markers)\n",
    "    np.save(model_save_path + 'smash_rf_results_{}.npy'.format(tryy), results)\n",
    "    np.save(model_save_path + 'smash_rf_markers_{}.npy'.format(tryy), smash_markers)\n",
    "    np.save(model_save_path + 'experiment_data_folds/smash_rf_indices_{}.npy'.format(tryy), (train_indices, val_indices, test_indices))\n",
    "\n",
    "    visualize_save_embedding(X, y, encoder, 'Smash Random Forest Marker Visualization', path = viz_save_path + 'smash_rf_markers_{}.png'.format(tryy), markers = smash_markers)"
   ]
  },
  {
   "cell_type": "markdown",
   "metadata": {
    "id": "36K-CYMpTuw2"
   },
   "source": [
    "## Train Smash DNN\n",
    "\n",
    "the data is treated a bit differently than our other models"
   ]
  },
  {
   "cell_type": "code",
   "execution_count": null,
   "metadata": {
    "id": "dihae7ssynzJ"
   },
   "outputs": [],
   "source": [
    "%%time\n",
    "for tryy in range(1,num_times+1):\n",
    "    _, _, _, train_indices, val_indices, test_indices = split_data_into_dataloaders(X, y, 0.7, 0.1)\n",
    "    train_X_y = adata_snrna_raw[np.concatenate([train_indices, val_indices]), :]\n",
    "    sm = smashpy.smashpy()\n",
    "    sm.DNN(train_X_y, group_by=\"annotation\", model=None, balance=True, verbose=True, save=False)\n",
    "    selectedGenes, selectedGenes_dict = sm.run_shap(train_X_y, group_by=\"annotation\", model=None, verbose=True, pct=0.1, restrict_top=(\"global\", k))\n",
    "    # since this selects k per class, need select randomly from each classes\n",
    "    smash_markers = adata_snrna_raw.var.index.get_indexer(selectedGenes)\n",
    "\n",
    "    X_train = X[np.concatenate([train_indices, val_indices]), :]\n",
    "    y_train = y[np.concatenate([train_indices, val_indices])]\n",
    "    X_test = X[test_indices,:]\n",
    "    y_test = y[test_indices]\n",
    "    results = new_model_metrics(X_train, y_train, X_test, y_test, markers = smash_markers)\n",
    "    np.save(model_save_path + 'smash_results_{}.npy'.format(tryy), results)\n",
    "    np.save(model_save_path + 'smash_markers_{}.npy'.format(tryy), smash_markers)\n",
    "    np.save(model_save_path + 'experiment_data_folds/smash_indices_{}.npy'.format(tryy), (train_indices, val_indices, test_indices))\n",
    "\n",
    "    visualize_save_embedding(X, y, encoder, 'Smash Marker Visualization', path = viz_save_path + 'smash_markers_{}.png'.format(tryy), markers = smash_markers)"
   ]
  },
  {
   "cell_type": "markdown",
   "metadata": {
    "id": "g2fqPVd9tL5R"
   },
   "source": [
    "Names are different than in the example notebook but things like\n",
    "ENSMUSG00000062209 correspond to Erbb4."
   ]
  },
  {
   "cell_type": "markdown",
   "metadata": {
    "id": "L9kicuw3OKgq"
   },
   "source": [
    "## Train RankCorr"
   ]
  },
  {
   "cell_type": "code",
   "execution_count": null,
   "metadata": {
    "id": "MfzfhotGKNxo"
   },
   "outputs": [],
   "source": [
    "for tryy in range(1,num_times+1):\n",
    "    _, _, _, train_indices, val_indices, test_indices = split_data_into_dataloaders(X, y, 0.7, 0.1)\n",
    "    X_train = X[np.concatenate([train_indices, val_indices]), :]\n",
    "    y_train = y[np.concatenate([train_indices, val_indices])]\n",
    "    X_test = X[test_indices,:]\n",
    "    y_test = y[test_indices]\n",
    "\n",
    "    data = Rocks(X_train, y_train)\n",
    "    lamb =3.25# this can be whatever\n",
    "\n",
    "    rankcorr_markers = data.CSrankMarkers(lamb=lamb, writeOut=False, keepZeros=False, onlyNonZero=False)\n",
    "    if len(rankcorr_markers) > k:\n",
    "        rankcorr_markers = rankcorr_markers[:k]\n",
    "    geneNames = np.array(adata_snrna_raw.var.index)\n",
    "    data.genes = geneNames\n",
    "    marker_genes = data.markers_to_genes(rankcorr_markers)\n",
    "    \n",
    "\n",
    "    results = new_model_metrics(X_train, y_train, X_test, y_test, markers = rankcorr_markers)\n",
    "    np.save(model_save_path + 'rankcorr_results_{}.npy'.format(tryy), results)\n",
    "    np.save(model_save_path + 'rankcorr_markers_{}.npy'.format(tryy), rankcorr_markers)\n",
    "    np.save(model_save_path + 'experiment_data_folds/rankcorr_indices_{}.npy'.format(tryy), (train_indices, val_indices, test_indices))\n",
    "\n",
    "    visualize_save_embedding(X, y, encoder, 'RankCorr Marker Visualization', path = viz_save_path + 'rankcorr_markers_{}.png'.format(tryy), markers = rankcorr_markers)"
   ]
  },
  {
   "cell_type": "markdown",
   "metadata": {
    "id": "4UT0YG-m9CxL"
   },
   "source": [
    "## Train L1 VAE"
   ]
  },
  {
   "cell_type": "code",
   "execution_count": null,
   "metadata": {
    "id": "wcTlqJiJ9CgS"
   },
   "outputs": [],
   "source": [
    "feature_std = torch.tensor(X).std(dim = 0)\n",
    "for tryy in range(1,num_times+1):\n",
    "    train_dataloader, val_dataloader, _, train_indices, val_indices, test_indices = split_data_into_dataloaders(X, y, 0.7, 0.1, num_workers = num_cores)\n",
    "    X_train = X[np.concatenate([train_indices, val_indices]), :]\n",
    "    y_train = y[np.concatenate([train_indices, val_indices])]\n",
    "    X_test = X[test_indices,:]\n",
    "    y_test = y[test_indices]\n",
    "\n",
    "    model = VAE_l1_diag(input_size, hidden_layer_size, z_size, batch_norm = batch_norm)\n",
    "    tmp_path = model_save_path + 'l1_vae_{}.ckpt'.format(tryy)\n",
    "    train_save_model(model, train_dataloader, val_dataloader, tmp_path, gpus=1, min_epochs = 25, max_epochs = 100, auto_lr = True, max_lr = 0.00001, early_stopping_patience = 10, \n",
    "                     lr_explore_mode = 'linear', num_lr_rates = 500)\n",
    "    l1_markers = model.markers(feature_std = feature_std.to(model.device), k = k).clone().cpu().detach().numpy()\n",
    "    \n",
    "\n",
    "    results = new_model_metrics(X_train, y_train, X_test, y_test, markers = l1_markers)\n",
    "    np.save(model_save_path + 'l1_vae_results_{}.npy'.format(tryy), results)\n",
    "    np.save(model_save_path + 'l1_vae_markers_{}.npy'.format(tryy), l1_markers)\n",
    "    np.save(model_save_path + 'experiment_data_folds/l1_vae_indices_{}.npy'.format(tryy), (train_indices, val_indices, test_indices))\n",
    "\n",
    "    visualize_save_embedding(X, y, encoder, 'L1 VAE Marker Visualization', path = viz_save_path + 'l1_vae_markers_{}.png'.format(tryy), markers = l1_markers)"
   ]
  },
  {
   "cell_type": "markdown",
   "metadata": {
    "id": "NTLLf99HA1o6"
   },
   "source": [
    "## Train Global Gate"
   ]
  },
  {
   "cell_type": "code",
   "execution_count": null,
   "metadata": {
    "id": "G3gYOblwA0r5"
   },
   "outputs": [],
   "source": [
    "for tryy in range(1,num_times+1):\n",
    "    train_dataloader, val_dataloader, _, train_indices, val_indices, test_indices = split_data_into_dataloaders(X, y, 0.7, 0.1, num_workers=num_cores)\n",
    "    X_train = X[np.concatenate([train_indices, val_indices]), :]\n",
    "    y_train = y[np.concatenate([train_indices, val_indices])]\n",
    "    X_test = X[test_indices,:]\n",
    "    y_test = y[test_indices]\n",
    "\n",
    "    model = VAE_Gumbel_GlobalGate(input_size, hidden_layer_size, z_size, k = k, t = global_t, bias = True, batch_norm = batch_norm, temperature_decay=0.95)\n",
    "    tmp_path = model_save_path + 'globalgate_vae_{}.ckpt'.format(tryy)\n",
    "    train_save_model(model, train_dataloader, val_dataloader, tmp_path, gpus = gpus, tpu_cores = tpu_cores, \n",
    "                     min_epochs = 50, max_epochs = 100, auto_lr = True, max_lr = 0.0001, early_stopping_patience =  10, \n",
    "                     lr_explore_mode = 'linear', num_lr_rates = 500)\n",
    "    globalgate_markers = model.markers().clone().cpu().detach().numpy()\n",
    "    \n",
    " \n",
    "    results = new_model_metrics(X_train, y_train, X_test, y_test, markers = globalgate_markers)\n",
    "    np.save(model_save_path + 'globalgate_vae_results_{}.npy'.format(tryy), results)\n",
    "    np.save(model_save_path + 'globalgate_vae_markers_{}.npy'.format(tryy), globalgate_markers)\n",
    "    np.save(model_save_path + 'experiment_data_folds/globalgate_vae_indices_{}.npy'.format(tryy), (train_indices, val_indices, test_indices))\n",
    "\n",
    "    visualize_save_embedding(X, y, encoder, 'Global Gate VAE Marker Visualization', path = viz_save_path + 'globalgate_vae_markers_{}.png'.format(tryy), markers = globalgate_markers)"
   ]
  },
  {
   "cell_type": "markdown",
   "metadata": {
    "id": "6Kh0fu77RlWp"
   },
   "source": [
    "## Train MarkerMap Unsupervised"
   ]
  },
  {
   "cell_type": "code",
   "execution_count": null,
   "metadata": {
    "id": "I9BoR6M-Rnfm"
   },
   "outputs": [],
   "source": [
    "for tryy in range(1,num_times+1):\n",
    "    train_dataloader, val_dataloader, _, train_indices, val_indices, test_indices = split_data_into_dataloaders(X, y, 0.7, 0.1, num_workers = num_cores, batch_size = batch_size)\n",
    "    X_train = X[np.concatenate([train_indices, val_indices]), :]\n",
    "    y_train = y[np.concatenate([train_indices, val_indices])]\n",
    "    X_test = X[test_indices,:]\n",
    "    y_test = y[test_indices]\n",
    "    model = MarkerMap(input_size, hidden_layer_size, z_size, k = k, t = global_t, bias = True, temperature_decay=0.95, alpha = 0.95, batch_norm = batch_norm, loss_tradeoff = 1.0, num_classes = None)\n",
    "    tmp_path = model_save_path + 'marker_map_unsupervised_{}.ckpt'.format(tryy)\n",
    "    # DO NOT USE IN OTHER WORKLOADS\n",
    "    train_save_model(model, train_dataloader, val_dataloader, tmp_path, gpus=1, min_epochs = 25, max_epochs = 100, auto_lr = True, max_lr = 0.0001, early_stopping_patience = 4, \n",
    "                     lr_explore_mode = 'linear', num_lr_rates = 500, precision = precision)\n",
    "    unsupervised_markers = model.markers().clone().cpu().detach().numpy()\n",
    "    \n",
    "\n",
    "    results = new_model_metrics(X_train, y_train, X_test, y_test, markers = unsupervised_markers)\n",
    "    np.save(model_save_path + 'marker_map_unsupervised_results_{}.npy'.format(tryy), results)\n",
    "    np.save(model_save_path + 'marker_map_unsupervised_markers_{}.npy'.format(tryy), unsupervised_markers)\n",
    "    np.save(model_save_path + 'experiment_data_folds/marker_map_unsupervised_indices_{}.npy'.format(tryy), (train_indices, val_indices, test_indices))\n",
    "\n",
    "    visualize_save_embedding(X, y, encoder, 'Marker Map Unsupervised Marker Visualization', path = viz_save_path + 'marker_map_unsupervised_markers_{}.png'.format(tryy), markers = unsupervised_markers)"
   ]
  },
  {
   "cell_type": "markdown",
   "metadata": {
    "id": "06HHTH8FUSOs"
   },
   "source": [
    "## Train MarkerMap Supervised"
   ]
  },
  {
   "cell_type": "code",
   "execution_count": null,
   "metadata": {
    "id": "rFKATvJ0UVoy"
   },
   "outputs": [],
   "source": [
    "for tryy in range(1,num_times+1):\n",
    "    train_dataloader, val_dataloader, _, train_indices, val_indices, test_indices = split_data_into_dataloaders(X, y, 0.7, 0.1, num_workers = num_cores, batch_size = batch_size)\n",
    "    X_train = X[np.concatenate([train_indices, val_indices]), :]\n",
    "    y_train = y[np.concatenate([train_indices, val_indices])]\n",
    "    X_test = X[test_indices,:]\n",
    "    y_test = y[test_indices]\n",
    "    \n",
    "    model = MarkerMap(input_size, hidden_layer_size, z_size, num_classes = len(encoder.classes_), \n",
    "                             k = k, t = global_t, bias = True, temperature_decay=0.95, alpha = 0.95, batch_norm = batch_norm, loss_tradeoff = 0)\n",
    "    tmp_path = model_save_path + 'marker_map_supervised_{}.ckpt'.format(tryy)\n",
    "    # DO NOT USE IN OTHER WORKLOADS\n",
    "    train_save_model(model, train_dataloader, val_dataloader, tmp_path, gpus=gpus, tpu_cores = tpu_cores, \n",
    "                     min_epochs = 25, max_epochs = 100, auto_lr = True, early_stopping_patience = 3, precision = precision, lr_explore_mode = 'linear', num_lr_rates=500)\n",
    "    markers = model.markers().clone().cpu().detach().numpy()\n",
    "    \n",
    "\n",
    "    results = new_model_metrics(X_train, y_train, X_test, y_test, markers = markers)\n",
    "    np.save(model_save_path + 'marker_map_supervised_results_{}.npy'.format(tryy), results)\n",
    "    np.save(model_save_path + 'marker_map_supervised_markers_{}.npy'.format(tryy), markers)\n",
    "    np.save(model_save_path + 'experiment_data_folds/marker_map_supervised_indices_{}.npy'.format(tryy), (train_indices, val_indices, test_indices))\n",
    "\n",
    "    visualize_save_embedding(X, y, encoder, 'MarkerMap Supervised Marker Visualization', path = viz_save_path + 'marker_map_supervised_markers_{}.png'.format(tryy), markers = markers)"
   ]
  },
  {
   "cell_type": "markdown",
   "metadata": {
    "id": "gcItWQbL7MkN"
   },
   "source": [
    "## Train MarkerMap Mixed Supervision"
   ]
  },
  {
   "cell_type": "code",
   "execution_count": null,
   "metadata": {
    "id": "atwmDr7m7QuE"
   },
   "outputs": [],
   "source": [
    "for tryy in range(1,num_times+1):\n",
    "    train_dataloader, val_dataloader, _, train_indices, val_indices, test_indices = split_data_into_dataloaders(X, y, 0.7, 0.1, num_workers = num_cores, batch_size = batch_size)\n",
    "    X_train = X[np.concatenate([train_indices, val_indices]), :]\n",
    "    y_train = y[np.concatenate([train_indices, val_indices])]\n",
    "    X_test = X[test_indices,:]\n",
    "    y_test = y[test_indices]\n",
    "    \n",
    "    model = MarkerMap(input_size, hidden_layer_size, z_size, num_classes = len(encoder.classes_), \n",
    "                             k = k, t = global_t, bias = True, temperature_decay=0.95, alpha = 0.95, batch_norm = batch_norm, loss_tradeoff = 0.5)\n",
    "    tmp_path = model_save_path + 'marker_map_mixed_{}.ckpt'.format(tryy)\n",
    "    # DO NOT USE IN OTHER WORKLOADS\n",
    "    train_save_model(model, train_dataloader, val_dataloader, tmp_path, gpus=gpus, tpu_cores = tpu_cores, \n",
    "                     min_epochs = 25, max_epochs = 100, auto_lr = True, early_stopping_patience = 3, precision = precision, lr_explore_mode = 'linear', num_lr_rates=500)\n",
    "    markers = model.markers().clone().cpu().detach().numpy()\n",
    "    \n",
    "\n",
    "    results = new_model_metrics(X_train, y_train, X_test, y_test, markers = markers)\n",
    "    np.save(model_save_path + 'marker_map_mixed_results_{}.npy'.format(tryy), results)\n",
    "    np.save(model_save_path + 'marker_map_mixed_markers_{}.npy'.format(tryy), markers)\n",
    "    np.save(model_save_path + 'experiment_data_folds/marker_map_mixed_indices_{}.npy'.format(tryy), (train_indices, val_indices, test_indices))\n",
    "\n",
    "    visualize_save_embedding(X, y, encoder, 'MarkerMap Mixed Supervision Marker Visualization', path = viz_save_path + 'marker_map_mixed_markers_{}.png'.format(tryy), markers = markers)"
   ]
  },
  {
   "cell_type": "markdown",
   "metadata": {
    "id": "Z_uAjoDSde-v"
   },
   "source": [
    "## Concrete VAE"
   ]
  },
  {
   "cell_type": "code",
   "execution_count": null,
   "metadata": {
    "id": "eqbs1Ni8ypMY"
   },
   "outputs": [],
   "source": [
    "for tryy in range(1,num_times+1):\n",
    "    train_dataloader, val_dataloader, _, train_indices, val_indices, test_indices = split_data_into_dataloaders(X, y, 0.7, 0.1)\n",
    "    X_train = X[np.concatenate([train_indices, val_indices]), :]\n",
    "    y_train = y[np.concatenate([train_indices, val_indices])]\n",
    "    X_test = X[test_indices,:]\n",
    "    y_test = y[test_indices]\n",
    "\n",
    "    model = ConcreteVAE_NMSL(input_size, hidden_layer_size, z_size, k = k, t = global_t, bias = True, temperature_decay = 0.95, batch_norm = batch_norm)\n",
    "    tmp_path = model_save_path + 'concrete_vae_{}.ckpt'.format(tryy)\n",
    "    train_save_model(model, train_dataloader, val_dataloader, tmp_path, gpus=1, min_epochs = 50, max_epochs = 100, auto_lr = True, max_lr = 0.0001, early_stopping_patience = 10, \n",
    "                     lr_explore_mode = 'linear', num_lr_rates = 500)\n",
    "    concrete_vae_markers = model.markers().clone().cpu().detach().numpy()\n",
    "    \n",
    "\n",
    "    results = new_model_metrics(X_train, y_train, X_test, y_test, markers = concrete_vae_markers)\n",
    "    np.save(model_save_path + 'concrete_vae_results_{}.npy'.format(tryy), results)\n",
    "    np.save(model_save_path + 'concrete_vae_markers_{}.npy'.format(tryy), concrete_vae_markers)\n",
    "    np.save(model_save_path + 'experiment_data_folds/concrete_vae_indices_{}.npy'.format(tryy), (train_indices, val_indices, test_indices))\n",
    "\n",
    "    visualize_save_embedding(X, y, encoder, 'Concrete VAE Marker Visualization', path = viz_save_path + 'concrete_vae_markers_{}.png'.format(tryy), markers = concrete_vae_markers)"
   ]
  },
  {
   "cell_type": "markdown",
   "metadata": {
    "id": "reI5mCZIWWUB"
   },
   "source": [
    "## LassoNet"
   ]
  },
  {
   "cell_type": "code",
   "execution_count": null,
   "metadata": {
    "id": "OaTw2PZ0WXOF"
   },
   "outputs": [],
   "source": [
    "dev = torch.device(\"cuda\") if torch.cuda.is_available() else torch.device(\"cpu\")"
   ]
  },
  {
   "cell_type": "code",
   "execution_count": null,
   "metadata": {
    "id": "BpvwT1rjWeWX"
   },
   "outputs": [],
   "source": [
    "for tryy in range(1,num_times+1):  \n",
    "    _, _, _, train_indices, val_indices, test_indices = split_data_into_dataloaders(X, y, 0.7, 0.1)\n",
    "    X_train = X[train_indices, :]\n",
    "    y_train = y[train_indices]\n",
    "    X_val = X[val_indices,:]\n",
    "    y_val = y[val_indices]\n",
    "    X_test = X[test_indices,:]\n",
    "    y_test = y[test_indices]\n",
    "    # was running out of memory as the path got longer\n",
    "    model = LassoNetClassifier(batch_size = batch_size, n_iters = (100, 10), patience=(10, 3))\n",
    "    model.path(X_train, y_train, X_val = X_val, y_val = y_val)\n",
    "    lasso_net_markers = torch.argsort(model.feature_importances_, descending = True).cpu().numpy()[:k]\n",
    "    results = new_model_metrics(X_train, y_train, X_test, y_test, markers = lasso_net_markers)\n",
    "    np.save(model_save_path + 'lasso_net_results_{}.npy'.format(tryy), results)\n",
    "    np.save(model_save_path + 'lasso_net_markers_{}.npy'.format(tryy), lasso_net_markers)\n",
    "    np.save(model_save_path + 'experiment_data_folds/lasso_net_indices_{}.npy'.format(tryy), (train_indices, val_indices, test_indices))\n",
    "\n",
    "    visualize_save_embedding(X, y, encoder, 'LassoNet Marker Visualization', path = viz_save_path + 'lasso_net_markers_{}.png'.format(tryy), markers = lasso_net_markers)"
   ]
  },
  {
   "cell_type": "markdown",
   "metadata": {
    "id": "_LT-OGOlrtRg"
   },
   "source": [
    "### Get Model Metrics from KNNs Classifiers"
   ]
  },
  {
   "cell_type": "code",
   "execution_count": null,
   "metadata": {
    "id": "ShTg4TpOrueZ"
   },
   "outputs": [],
   "source": [
    "from sklearn.neighbors import KNeighborsClassifier"
   ]
  },
  {
   "cell_type": "code",
   "execution_count": null,
   "metadata": {
    "id": "NAGwsE6uruSt"
   },
   "outputs": [],
   "source": [
    "def generate_metrics_from_saved_files(X, y, folds_path, markers_path, classifier_model, save_path):\n",
    "    train_indices, val_indices, test_indices = np.load(folds_path, allow_pickle = True)\n",
    "    markers = np.load(markers_path, allow_pickle = True)\n",
    "    X_train = X[np.concatenate([train_indices, val_indices]), :]\n",
    "    y_train = y[np.concatenate([train_indices, val_indices])]\n",
    "    X_test = X[test_indices, :]\n",
    "    y_test = y[test_indices]\n",
    "    results = new_model_metrics(X_train, y_train, X_test, y_test, markers = markers, model = classifier_model)\n",
    "\n",
    "    np.save(save_path, results)\n",
    "    return\n",
    "\n",
    "def batch_generate_metrics_from_saved_files(X, y, format_folds_path, format_markers_path, format_save_path):\n",
    "    for tryy in range(1, num_times+1):\n",
    "        classifier_model = KNeighborsClassifier()\n",
    "        generate_metrics_from_saved_files(X, y, format_folds_path.format(tryy), format_markers_path.format(tryy), classifier_model, format_save_path.format(tryy))\n",
    "    return"
   ]
  },
  {
   "cell_type": "code",
   "execution_count": null,
   "metadata": {
    "id": "yYzrs6MKrt6f"
   },
   "outputs": [],
   "source": [
    "batch_generate_metrics_from_saved_files(X, y,\n",
    "                                  model_save_path+'experiment_data_folds/all_markers_indices_{}.npy',\n",
    "                                  model_save_path+'all_markers_{}.npy',\n",
    "                                  model_save_path+'all_markers_knn_results_{}.npy')\n",
    "\n",
    "batch_generate_metrics_from_saved_files(X, y,\n",
    "                                  model_save_path+'experiment_data_folds/l1_vae_indices_{}.npy',\n",
    "                                  model_save_path+'l1_vae_markers_{}.npy',\n",
    "                                  model_save_path+'l1_vae_knn_results_{}.npy')\n",
    "\n",
    "batch_generate_metrics_from_saved_files(X, y,\n",
    "                                  model_save_path+'experiment_data_folds/smash_rf_indices_{}.npy',\n",
    "                                  model_save_path+'smash_rf_markers_{}.npy',\n",
    "                                  model_save_path+'smash_rf_knn_results_{}.npy')\n",
    "\n",
    "batch_generate_metrics_from_saved_files(X, y,\n",
    "                                  model_save_path+'experiment_data_folds/smash_indices_{}.npy',\n",
    "                                  model_save_path+'smash_markers_{}.npy',\n",
    "                                  model_save_path+'smash_knn_results_{}.npy')\n",
    "\n",
    "batch_generate_metrics_from_saved_files(X, y,\n",
    "                                  model_save_path+'experiment_data_folds/rankcorr_indices_{}.npy',\n",
    "                                  model_save_path+'rankcorr_markers_{}.npy',\n",
    "                                  model_save_path+'rankcorr_knn_results_{}.npy')\n",
    "\n",
    "batch_generate_metrics_from_saved_files(X, y,\n",
    "                                  model_save_path+'experiment_data_folds/globalgate_vae_indices_{}.npy',\n",
    "                                  model_save_path+'globalgate_vae_markers_{}.npy',\n",
    "                                  model_save_path+'globalgate_vae_knn_results_{}.npy')\n",
    "\n",
    "\n",
    "batch_generate_metrics_from_saved_files(X, y,\n",
    "                                  model_save_path+'experiment_data_folds/marker_map_unsupervised_indices_{}.npy',\n",
    "                                  model_save_path+'marker_map_unsupervised_markers_{}.npy',\n",
    "                                  model_save_path+'marker_map_unsupervised_knn_results_{}.npy')\n",
    "\n",
    "\n",
    "batch_generate_metrics_from_saved_files(X, y,\n",
    "                                  model_save_path+'experiment_data_folds/marker_map_supervised_indices_{}.npy',\n",
    "                                  model_save_path+'marker_map_supervised_markers_{}.npy',\n",
    "                                  model_save_path+'marker_map_supervised_knn_results_{}.npy')\n",
    "\n",
    "batch_generate_metrics_from_saved_files(X, y,\n",
    "                                  model_save_path+'experiment_data_folds/marker_map_mixed_indices_{}.npy',\n",
    "                                  model_save_path+'marker_map_mixed_markers_{}.npy',\n",
    "                                  model_save_path+'marker_map_mixed_knn_results_{}.npy')\n",
    "\n",
    "\n",
    "batch_generate_metrics_from_saved_files(X, y,\n",
    "                                  model_save_path+'experiment_data_folds/concrete_vae_indices_{}.npy',\n",
    "                                  model_save_path+'concrete_vae_markers_{}.npy',\n",
    "                                  model_save_path+'concrete_vae_knn_results_{}.npy')\n",
    "\n",
    "batch_generate_metrics_from_saved_files(X, y,\n",
    "                                  model_save_path+'experiment_data_folds/lasso_net_indices_{}.npy',\n",
    "                                  model_save_path+'lasso_net_markers_{}.npy',\n",
    "                                  model_save_path+'lasso_net_knn_results_{}.npy')"
   ]
  },
  {
   "cell_type": "markdown",
   "metadata": {
    "id": "ac3v6MHk6Ag_"
   },
   "source": [
    "# Results and Visualizations"
   ]
  },
  {
   "cell_type": "markdown",
   "metadata": {
    "id": "r49opYsbRZm0"
   },
   "source": [
    "## Accuracies and F1"
   ]
  },
  {
   "cell_type": "code",
   "execution_count": null,
   "metadata": {
    "id": "onT-MVmoGfKO"
   },
   "outputs": [],
   "source": [
    "result_axis = [\n",
    " ('All Markers', 'all_markers_results_{}.npy', 'all_markers_knn_results_{}.npy'), \n",
    " ('L1 VAE', 'l1_vae_results_{}.npy', 'l1_vae_knn_results_{}.npy'),\n",
    " ('Smash RF', 'smash_rf_results_{}.npy', 'smash_rf_knn_results_{}.npy'),\n",
    " ('SMaSH DNN', 'smash_results_{}.npy', 'smash_knn_results_{}.npy'),\n",
    " ('RankCorr', 'rankcorr_results_{}.npy', 'rankcorr_knn_results_{}.npy'),\n",
    " ('Global Gate VAE', 'globalgate_vae_results_{}.npy', 'globalgate_vae_knn_results_{}.npy'),\n",
    " ('MarkerMap Unsupervised', 'marker_map_unsupervised_results_{}.npy', 'marker_map_unsupervised_knn_results_{}.npy'),\n",
    " ('MarkerMap Supervised', 'marker_map_supervised_results_{}.npy', 'marker_map_supervised_knn_results_{}.npy'),\n",
    " ('MarkerMap Mixed Supervision', 'marker_map_mixed_results_{}.npy', 'marker_map_mixed_knn_results_{}.npy'),\n",
    " ('Concrete VAE',  'concrete_vae_results_{}.npy', 'concrete_vae_knn_results_{}.npy'),\n",
    " ('LassoNet', 'lasso_net_results_{}.npy', 'lasso_net_knn_results_{}.npy')\n",
    "]"
   ]
  },
  {
   "cell_type": "code",
   "execution_count": null,
   "metadata": {
    "id": "7LLoa-WyKph2"
   },
   "outputs": [],
   "source": [
    "data_proto = []\n",
    "indices = []\n",
    "for axis in result_axis: \n",
    "    data_proto.append(model_variances(model_save_path + axis[1], num_times))\n",
    "    indices.append(axis[0])"
   ]
  },
  {
   "cell_type": "code",
   "execution_count": null,
   "metadata": {
    "colab": {
     "base_uri": "https://localhost:8080/",
     "height": 390
    },
    "id": "H7R_7QDnLRKV",
    "outputId": "b257f14d-cd6f-4515-bb3a-90e4ab294cb0"
   },
   "outputs": [],
   "source": [
    "pd.DataFrame(data_proto, index = indices, \n",
    "             columns = ['Misclassification Mean', 'Weighted F1 Mean', 'Misclassification Standard Deviation', 'Weighted F1 Standard Deviation'])"
   ]
  },
  {
   "cell_type": "code",
   "execution_count": null,
   "metadata": {
    "id": "oz2wRBoRr1cx"
   },
   "outputs": [],
   "source": [
    "data_proto = []\n",
    "indices = []\n",
    "for axis in result_axis: \n",
    "    data_proto.append(model_variances(model_save_path + axis[2], num_times))\n",
    "    indices.append(axis[0])"
   ]
  },
  {
   "cell_type": "code",
   "execution_count": null,
   "metadata": {
    "colab": {
     "base_uri": "https://localhost:8080/",
     "height": 390
    },
    "id": "4-X1R-isr1N_",
    "outputId": "d99e996a-b960-4ac7-a5d9-7ba17a9d8b81"
   },
   "outputs": [],
   "source": [
    "pd.DataFrame(data_proto, index = indices, \n",
    "             columns = ['Misclassification Mean', 'Weighted F1 Mean', 'Misclassification Standard Deviation', 'Weighted F1 Standard Deviation'])"
   ]
  },
  {
   "cell_type": "markdown",
   "metadata": {
    "id": "Brds9F5jRnYq"
   },
   "source": [
    "## Confusion Matrices"
   ]
  },
  {
   "cell_type": "code",
   "execution_count": null,
   "metadata": {
    "id": "jB1C6EfMedww"
   },
   "outputs": [],
   "source": [
    "k = 50"
   ]
  },
  {
   "cell_type": "markdown",
   "metadata": {
    "id": "YWI8lNkjgbH6"
   },
   "source": [
    "###Baseline"
   ]
  },
  {
   "cell_type": "code",
   "execution_count": null,
   "metadata": {
    "colab": {
     "base_uri": "https://localhost:8080/",
     "height": 467
    },
    "id": "JGe8mYbmgc6S",
    "outputId": "8476d014-1d15-4481-9010-1d0489181eb6"
   },
   "outputs": [],
   "source": [
    "results =  np.load(model_save_path + 'all_markers_results_{}.npy'.format(1), allow_pickle = True)\n",
    "plot_confusion_matrix(results[2], encoder.classes_, title = 'All Markers Confusion Matrix', save_path = viz_save_path + 'all_markers_cm.pdf', cmap = 'icefire')"
   ]
  },
  {
   "cell_type": "markdown",
   "metadata": {
    "id": "7Lp6epw4Mzxe"
   },
   "source": [
    "### Smash RF"
   ]
  },
  {
   "cell_type": "code",
   "execution_count": null,
   "metadata": {
    "id": "9Ig5MZump1Ag"
   },
   "outputs": [],
   "source": [
    "results =  np.load(model_save_path + 'smash_rf_results_{}.npy'.format(1), allow_pickle = True)"
   ]
  },
  {
   "cell_type": "code",
   "execution_count": null,
   "metadata": {
    "colab": {
     "base_uri": "https://localhost:8080/",
     "height": 467
    },
    "id": "SLkCmrh_qtSd",
    "outputId": "6e063e1e-051f-4e73-8b16-2cdd737e32ac"
   },
   "outputs": [],
   "source": [
    "plot_confusion_matrix(results[2], encoder.classes_, title = 'Smash Random Forest Confusion Matrix', save_path = viz_save_path + 'smash_rf_cm.pdf')"
   ]
  },
  {
   "cell_type": "markdown",
   "metadata": {
    "id": "hTlfCrRbefDL"
   },
   "source": [
    "### Smash DNN"
   ]
  },
  {
   "cell_type": "code",
   "execution_count": null,
   "metadata": {
    "colab": {
     "base_uri": "https://localhost:8080/",
     "height": 467
    },
    "id": "JxDRF1Y8egoT",
    "outputId": "96ee3347-a0ad-4080-f793-0095f28c3c8c"
   },
   "outputs": [],
   "source": [
    "results =  np.load(model_save_path + 'smash_results_{}.npy'.format(1), allow_pickle = True)\n",
    "plot_confusion_matrix(results[2], encoder.classes_, title = 'Smash DNN Confusion Matrix', save_path = viz_save_path + 'smash_cm.pdf', cmap = 'icefire')"
   ]
  },
  {
   "cell_type": "markdown",
   "metadata": {
    "id": "RoHIHsMhM1Jc"
   },
   "source": [
    "### RankCorr"
   ]
  },
  {
   "cell_type": "code",
   "execution_count": null,
   "metadata": {
    "colab": {
     "base_uri": "https://localhost:8080/",
     "height": 467
    },
    "id": "zHE1nVLnyJlY",
    "outputId": "c45dc595-a03c-4c31-bf66-63bb89b713f4"
   },
   "outputs": [],
   "source": [
    "results =  np.load(model_save_path + 'rankcorr_results_{}.npy'.format(1), allow_pickle = True)\n",
    "plot_confusion_matrix(results[2], encoder.classes_, title = 'RankCorr Confusion Matrix', save_path = viz_save_path + 'rankcorr_cm.pdf', cmap = 'icefire')"
   ]
  },
  {
   "cell_type": "markdown",
   "metadata": {
    "id": "qe0G8ulp3Cc1"
   },
   "source": [
    "### L1 VAE"
   ]
  },
  {
   "cell_type": "code",
   "execution_count": null,
   "metadata": {
    "colab": {
     "base_uri": "https://localhost:8080/",
     "height": 467
    },
    "id": "mba3I4gS3Fmb",
    "outputId": "966b6256-bb55-4dec-e4b5-36c9d34694d2"
   },
   "outputs": [],
   "source": [
    "results =  np.load(model_save_path + 'l1_vae_results_{}.npy'.format(1), allow_pickle = True)\n",
    "plot_confusion_matrix(results[2], encoder.classes_, title = 'L1 VAE Confusion Matrix', save_path = viz_save_path + 'l1_vae_cm.pdf', cmap = 'icefire')"
   ]
  },
  {
   "cell_type": "markdown",
   "metadata": {
    "id": "k-9W1yk1B4kK"
   },
   "source": [
    "### Global Gate VAE"
   ]
  },
  {
   "cell_type": "code",
   "execution_count": null,
   "metadata": {
    "colab": {
     "base_uri": "https://localhost:8080/",
     "height": 467
    },
    "id": "g5bZpPOvB6W6",
    "outputId": "da09fe8c-03e3-4ac9-a95e-3a49785f5906"
   },
   "outputs": [],
   "source": [
    "results =  np.load(model_save_path + 'globalgate_vae_results_{}.npy'.format(1), allow_pickle = True)\n",
    "plot_confusion_matrix(results[2], encoder.classes_, title = 'GlobalGate VAE Confusion Matrix', save_path = viz_save_path + 'globalgate_vae_cm.pdf', cmap = 'icefire')"
   ]
  },
  {
   "cell_type": "markdown",
   "metadata": {
    "id": "5DqEjpEaM22D"
   },
   "source": [
    "### MarkerMap Unsupervised"
   ]
  },
  {
   "cell_type": "code",
   "execution_count": null,
   "metadata": {
    "colab": {
     "base_uri": "https://localhost:8080/",
     "height": 467
    },
    "id": "It6Bc65UyUM2",
    "outputId": "d93a21d1-76c9-45e5-d994-88307af1640c"
   },
   "outputs": [],
   "source": [
    "results =  np.load(model_save_path + 'marker_map_unsupervised_results_{}.npy'.format(1), allow_pickle = True)\n",
    "plot_confusion_matrix(results[2], encoder.classes_, title = 'MarkerMap Unsupervised Confusion Matrix', save_path = viz_save_path + 'marker_map_unsupervised_cm.pdf', cmap = 'icefire')"
   ]
  },
  {
   "cell_type": "markdown",
   "metadata": {
    "id": "flI6ggosM-f8"
   },
   "source": [
    "### MarkerMap Supervised\n"
   ]
  },
  {
   "cell_type": "code",
   "execution_count": null,
   "metadata": {
    "colab": {
     "base_uri": "https://localhost:8080/",
     "height": 467
    },
    "id": "DXrAepUb0F5G",
    "outputId": "59f40d0d-cf3c-4618-b32b-642ddc088ebe"
   },
   "outputs": [],
   "source": [
    "results =  np.load(model_save_path + 'marker_map_supervised_results_{}.npy'.format(1), allow_pickle = True)\n",
    "plot_confusion_matrix(results[2], encoder.classes_, title = 'MarkerMap Supervised Confusion Matrix', save_path = viz_save_path + 'marker_map_supervised_cm.pdf', cmap = 'icefire')"
   ]
  },
  {
   "cell_type": "markdown",
   "metadata": {
    "id": "tgYv2WSL7iee"
   },
   "source": [
    "### MarkerMap Mixed Supervision"
   ]
  },
  {
   "cell_type": "code",
   "execution_count": null,
   "metadata": {
    "colab": {
     "base_uri": "https://localhost:8080/",
     "height": 467
    },
    "id": "XRbsRy6k7mzh",
    "outputId": "60d0de4d-a027-45e1-8c7e-1fe4c6a89ac9"
   },
   "outputs": [],
   "source": [
    "results =  np.load(model_save_path + 'marker_map_mixed_results_{}.npy'.format(1), allow_pickle = True)\n",
    "plot_confusion_matrix(results[2], encoder.classes_, title = 'MarkerMap Mixed Supervision Confusion Matrix', save_path = viz_save_path + 'marker_map_mixed_cm.pdf', cmap = 'icefire')"
   ]
  },
  {
   "cell_type": "markdown",
   "metadata": {
    "id": "yMJD3N0JM80q"
   },
   "source": [
    "### Concrete VAE"
   ]
  },
  {
   "cell_type": "code",
   "execution_count": null,
   "metadata": {
    "colab": {
     "base_uri": "https://localhost:8080/",
     "height": 467
    },
    "id": "ET_uNpJp0Ujo",
    "outputId": "d29e82ab-dfee-482e-f469-a14124dbeb22"
   },
   "outputs": [],
   "source": [
    "results =  np.load(model_save_path + 'concrete_vae_results_{}.npy'.format(1), allow_pickle = True)\n",
    "plot_confusion_matrix(results[2], encoder.classes_, title = 'Concrete VAE Confusion Matrix', save_path = viz_save_path + 'concrete_vae_cm.pdf', cmap = 'icefire')"
   ]
  },
  {
   "cell_type": "markdown",
   "metadata": {
    "id": "dA_AfG7_W3OD"
   },
   "source": [
    "## LassoNet"
   ]
  },
  {
   "cell_type": "code",
   "execution_count": null,
   "metadata": {
    "colab": {
     "base_uri": "https://localhost:8080/",
     "height": 467
    },
    "id": "x5C56E0TW4Gb",
    "outputId": "7ae00efd-6775-465c-a9c6-aed994b54413"
   },
   "outputs": [],
   "source": [
    "results =  np.load(model_save_path + 'lasso_net_results_{}.npy'.format(1), allow_pickle = True)\n",
    "plot_confusion_matrix(results[2], encoder.classes_, title = 'LassoNet Confusion Matrix', save_path = viz_save_path + 'lasso_net_cm.pdf', cmap = 'icefire')"
   ]
  },
  {
   "cell_type": "code",
   "execution_count": null,
   "metadata": {
    "colab": {
     "background_save": true
    },
    "id": "-aGZeycHRS6D"
   },
   "outputs": [],
   "source": []
  },
  {
   "cell_type": "code",
   "execution_count": null,
   "metadata": {
    "id": "4zqvDbQ3fi_p"
   },
   "outputs": [],
   "source": []
  }
 ],
 "metadata": {
  "colab": {
   "collapsed_sections": [],
   "machine_shape": "hm",
   "name": "Mouse Brain Broad.ipynb",
   "provenance": []
  },
  "kernelspec": {
   "display_name": "Python 3",
   "language": "python",
   "name": "python3"
  },
  "language_info": {
   "codemirror_mode": {
    "name": "ipython",
    "version": 3
   },
   "file_extension": ".py",
   "mimetype": "text/x-python",
   "name": "python",
   "nbconvert_exporter": "python",
   "pygments_lexer": "ipython3",
   "version": "3.9.7"
  }
 },
 "nbformat": 4,
 "nbformat_minor": 1
}
