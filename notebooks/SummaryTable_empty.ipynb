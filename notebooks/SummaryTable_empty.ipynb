{
 "cells": [
  {
   "cell_type": "markdown",
   "metadata": {
    "id": "kuKoVgDwzrgo"
   },
   "source": [
    "# All the Imports"
   ]
  },
  {
   "cell_type": "code",
   "execution_count": null,
   "metadata": {},
   "outputs": [],
   "source": [
    "import sys\n",
    "import os\n",
    "import logging\n",
    "sys.path.insert(1, '../src/')"
   ]
  },
  {
   "cell_type": "code",
   "execution_count": null,
   "metadata": {
    "colab": {
     "base_uri": "https://localhost:8080/"
    },
    "id": "ZgkcUm9Pzn7_",
    "outputId": "2c04a937-e1cb-4cd7-95ba-b42eb697609f"
   },
   "outputs": [],
   "source": [
    "%%time \n",
    "import itertools \n",
    "import numpy as np\n",
    "import pandas as pd\n",
    "import scanpy as sc\n",
    "import matplotlib.pyplot as plt\n",
    "import seaborn as sns\n",
    "import os\n",
    "from sklearn.preprocessing import LabelEncoder\n",
    "from lassonet import LassoNetClassifier\n",
    "\n",
    "\n",
    "from RankCorr.picturedRocks import Rocks\n",
    "import smashpy as smashpy\n",
    "\n",
    "\n",
    "import torch\n",
    "from torch import nn\n",
    "from torch.autograd import Variable\n",
    "from torch.nn import functional as F\n",
    "\n",
    "from utils import *\n"
   ]
  },
  {
   "cell_type": "code",
   "execution_count": null,
   "metadata": {
    "id": "VH7bxl6U3CUC"
   },
   "outputs": [],
   "source": [
    "from os import path"
   ]
  },
  {
   "cell_type": "code",
   "execution_count": null,
   "metadata": {
    "id": "2BQ8JwQoyXhv"
   },
   "outputs": [],
   "source": [
    "model_save_path = '../data/{}/models/'\n",
    "num_times = 10\n",
    "\n",
    "  "
   ]
  },
  {
   "cell_type": "markdown",
   "metadata": {
    "id": "r49opYsbRZm0"
   },
   "source": []
  },
  {
   "cell_type": "code",
   "execution_count": null,
   "metadata": {
    "id": "tKWyrk-evGB-"
   },
   "outputs": [],
   "source": [
    "data_locations = [\n",
    "                  'CITE-seq',\n",
    "                 # 'developmental_mouse',\n",
    "                  'mouse_brain_broad',\n",
    "                  'paul',\n",
    "                  'zeisel'\n",
    "                 # 'synthetic'\n",
    "]"
   ]
  },
  {
   "cell_type": "code",
   "execution_count": null,
   "metadata": {
    "id": "ERHoimmNx4HT"
   },
   "outputs": [],
   "source": [
    "result_axis = [\n",
    " ('All Markers', 'all_markers_results_{}.npy', 'all_markers_knn_results_{}.npy'), \n",
    " ('L1 VAE', 'l1_vae_results_{}.npy', 'l1_vae_knn_results_{}.npy'),\n",
    " ('Smash RF', 'smash_rf_results_{}.npy', 'smash_rf_knn_results_{}.npy'),\n",
    " ('SMaSH DNN', 'smash_results_{}.npy', 'smash_knn_results_{}.npy'),\n",
    " ('RankCorr', 'rankcorr_results_{}.npy', 'rankcorr_knn_results_{}.npy'),\n",
    " ('Global Gate VAE', 'globalgate_vae_results_{}.npy', 'globalgate_vae_knn_results_{}.npy'),\n",
    " ('MarkerMap Unsupervised', 'marker_map_unsupervised_results_{}.npy', 'marker_map_unsupervised_knn_results_{}.npy'),\n",
    " ('MarkerMap Supervised', 'marker_map_supervised_results_{}.npy', 'marker_map_supervised_knn_results_{}.npy'),\n",
    " ('MarkerMap Mixed Supervision', 'marker_map_mixed_results_{}.npy', 'marker_map_mixed_knn_results_{}.npy'),\n",
    " ('Concrete VAE',  'concrete_vae_results_{}.npy', 'concrete_vae_knn_results_{}.npy'),\n",
    " ('LassoNet', 'lasso_net_results_{}.npy', 'lasso_net_knn_results_{}.npy')\n",
    "]"
   ]
  },
  {
   "cell_type": "markdown",
   "metadata": {},
   "source": [
    "## Mean Accuracies and F1"
   ]
  },
  {
   "cell_type": "markdown",
   "metadata": {
    "id": "5UIJ7yMcyFSK"
   },
   "source": [
    "### Random Forest"
   ]
  },
  {
   "cell_type": "code",
   "execution_count": null,
   "metadata": {
    "colab": {
     "base_uri": "https://localhost:8080/",
     "height": 235
    },
    "id": "MSIKDmNsvkbe",
    "outputId": "4bb6e285-5a90-4a7f-fe98-b779bdc474d1"
   },
   "outputs": [],
   "source": [
    "results = {}\n",
    "for e, axis in itertools.product(data_locations, result_axis):\n",
    "    m, f1, _, _ = model_variances(model_save_path.format(e) + axis[1], num_times)\n",
    "    m = round(m, 3)\n",
    "    f1 = round(f1, 3)\n",
    "    if axis[0] in results:\n",
    "        results[axis[0]][e] = (m, f1)\n",
    "    else:\n",
    "        results[axis[0]] = {}\n",
    "        results[axis[0]][e] = (m, f1)\n",
    "\n",
    "tabulated_results1 = pd.DataFrame(results)\n",
    "tabulated_results1"
   ]
  },
  {
   "cell_type": "markdown",
   "metadata": {
    "id": "Hd-5oYbQyGz6"
   },
   "source": [
    "### KNN"
   ]
  },
  {
   "cell_type": "code",
   "execution_count": null,
   "metadata": {
    "colab": {
     "base_uri": "https://localhost:8080/",
     "height": 235
    },
    "id": "bp0vY2tL2eRX",
    "outputId": "a4b9713a-b8a8-40c2-ac44-54c4bb296992"
   },
   "outputs": [],
   "source": [
    "results = {}\n",
    "for e, axis in itertools.product(data_locations, result_axis):\n",
    "    m, f1, _, _ = model_variances(model_save_path.format(e) + axis[2], num_times)\n",
    "    m = round(m, 3)\n",
    "    f1 = round(f1, 3)\n",
    "    if axis[0] in results:\n",
    "        results[axis[0]][e] = (m, f1)\n",
    "    else:\n",
    "        results[axis[0]] = {}\n",
    "        results[axis[0]][e] = (m, f1)\n",
    "\n",
    "tabulated_results2 = pd.DataFrame(results)\n",
    "tabulated_results2"
   ]
  },
  {
   "cell_type": "markdown",
   "metadata": {
    "id": "wEV2Mxvvx9jM"
   },
   "source": [
    "## Variances"
   ]
  },
  {
   "cell_type": "markdown",
   "metadata": {},
   "source": [
    "### Random Forest"
   ]
  },
  {
   "cell_type": "code",
   "execution_count": null,
   "metadata": {},
   "outputs": [],
   "source": [
    "results = {}\n",
    "for e, axis in itertools.product(data_locations, result_axis):\n",
    "    _, _, m, f1 = model_variances(model_save_path.format(e) + axis[1], num_times)\n",
    "    m = round(m, 5)\n",
    "    f1 = round(f1, 5)\n",
    "    if axis[0] in results:\n",
    "        results[axis[0]][e] = (m, f1)\n",
    "    else:\n",
    "        results[axis[0]] = {}\n",
    "        results[axis[0]][e] = (m, f1)\n",
    "\n",
    "tabulated_results1 = pd.DataFrame(results)\n",
    "tabulated_results1"
   ]
  },
  {
   "cell_type": "markdown",
   "metadata": {
    "id": "-aGZeycHRS6D"
   },
   "source": [
    "### KNN"
   ]
  },
  {
   "cell_type": "code",
   "execution_count": null,
   "metadata": {
    "id": "4zqvDbQ3fi_p"
   },
   "outputs": [],
   "source": [
    "results = {}\n",
    "for e, axis in itertools.product(data_locations, result_axis):\n",
    "    _, _, m, f1 = model_variances(model_save_path.format(e) + axis[2], num_times)\n",
    "    m = round(m, 5)\n",
    "    f1 = round(f1, 5)\n",
    "    if axis[0] in results:\n",
    "        results[axis[0]][e] = (m, f1)\n",
    "    else:\n",
    "        results[axis[0]] = {}\n",
    "        results[axis[0]][e] = (m, f1)\n",
    "\n",
    "tabulated_results2 = pd.DataFrame(results)\n",
    "tabulated_results2"
   ]
  },
  {
   "cell_type": "code",
   "execution_count": null,
   "metadata": {},
   "outputs": [],
   "source": []
  }
 ],
 "metadata": {
  "colab": {
   "collapsed_sections": [],
   "name": "SummaryTable.ipynb",
   "provenance": []
  },
  "kernelspec": {
   "display_name": "Python 3",
   "language": "python",
   "name": "python3"
  },
  "language_info": {
   "codemirror_mode": {
    "name": "ipython",
    "version": 3
   },
   "file_extension": ".py",
   "mimetype": "text/x-python",
   "name": "python",
   "nbconvert_exporter": "python",
   "pygments_lexer": "ipython3",
   "version": "3.9.7"
  }
 },
 "nbformat": 4,
 "nbformat_minor": 1
}
