{
 "cells": [
  {
   "cell_type": "markdown",
   "metadata": {
    "id": "b4t-bqagzop8"
   },
   "source": [
    "# Google Notebook specific Stuff"
   ]
  },
  {
   "cell_type": "code",
   "execution_count": null,
   "metadata": {
    "colab": {
     "base_uri": "https://localhost:8080/"
    },
    "id": "XnY89fnUtfWh",
    "outputId": "c8d39544-4ec7-4361-d6d5-7742dc1bade8"
   },
   "outputs": [],
   "source": [
    "from google.colab import drive\n",
    "drive.mount('/content/gdrive')"
   ]
  },
  {
   "cell_type": "code",
   "execution_count": null,
   "metadata": {
    "colab": {
     "base_uri": "https://localhost:8080/"
    },
    "id": "SpwYB-XOyXOZ",
    "outputId": "6e33fa55-4ba7-4ba2-da9a-8e0481371f3e"
   },
   "outputs": [],
   "source": [
    "!pip install pytorch-lightning==1.3.3\n",
    "# !pip install cloud-tpu-client==0.10 https://storage.googleapis.com/tpu-pytorch/wheels/torch_xla-1.8.1-cp37-cp37m-linux_x86_64.whl\n",
    "!pip install scGeneFit\n",
    "!pip install scanpy\n",
    "!pip install anndata\n",
    "!pip install lassonet\n",
    "# my version of smashpy that fixed imports, nothing else was changed\n",
    "!pip install matplotlib>=3.3.2\n",
    "!pip install shap>=0.37.0\n",
    "!pip install xgboost>=1.3.3\n",
    "!pip install imbalanced-learn>=0.7.0\n",
    "!pip install numba>=0.51.2\n",
    "!pip install harmonypy>=0.0.5\n",
    "!pip install smashpy\n",
    "!git clone https://github.com/ahsv/RankCorr.git"
   ]
  },
  {
   "cell_type": "code",
   "execution_count": null,
   "metadata": {
    "colab": {
     "base_uri": "https://localhost:8080/"
    },
    "id": "i7cNN5oD2mkR",
    "outputId": "f016268f-dae5-4d1d-e99e-3fe0fb669413"
   },
   "outputs": [],
   "source": [
    "# Check GPU\n",
    "\n",
    "gpu_info = !nvidia-smi\n",
    "gpu_info = '\\n'.join(gpu_info)\n",
    "if gpu_info.find('failed') >= 0:\n",
    "  print('Select the Runtime > \"Change runtime type\" menu to enable a GPU accelerator, ')\n",
    "  print('and then re-execute this cell.')\n",
    "else:\n",
    "  print(gpu_info)"
   ]
  },
  {
   "cell_type": "code",
   "execution_count": null,
   "metadata": {
    "id": "nCxHfP2k2te2"
   },
   "outputs": [],
   "source": [
    "import sys\n",
    "import os\n",
    "# to import utils\n",
    "sys.path.append(os.path.abspath('/content/gdrive/My Drive/Differentiable-Sparse-Subset-Selection/notebooks'))"
   ]
  },
  {
   "cell_type": "markdown",
   "metadata": {
    "id": "kuKoVgDwzrgo"
   },
   "source": [
    "# All the Imports"
   ]
  },
  {
   "cell_type": "code",
   "execution_count": null,
   "metadata": {
    "colab": {
     "base_uri": "https://localhost:8080/"
    },
    "id": "ZgkcUm9Pzn7_",
    "outputId": "36fc219b-eee1-4e1c-fe79-30e0ca2b502c"
   },
   "outputs": [],
   "source": [
    "%%time \n",
    "import itertools \n",
    "import numpy as np\n",
    "import pandas as pd\n",
    "import scanpy as sc\n",
    "import matplotlib.pyplot as plt\n",
    "import seaborn as sns\n",
    "import os\n",
    "from sklearn.preprocessing import LabelEncoder, StandardScaler\n",
    "from lassonet import LassoNetClassifier\n",
    "\n",
    "from RankCorr.picturedRocks import Rocks\n",
    "import smashpy as smashpy\n",
    "import anndata\n",
    "\n",
    "\n",
    "import torch\n",
    "from torch import nn\n",
    "from torch.autograd import Variable\n",
    "from torch.nn import functional as F\n",
    "\n",
    "from utils import *\n"
   ]
  },
  {
   "cell_type": "markdown",
   "metadata": {
    "id": "zli798tc3I1E"
   },
   "source": [
    "# These should be parameters later on "
   ]
  },
  {
   "cell_type": "code",
   "execution_count": null,
   "metadata": {
    "id": "dyZgQa5V3Ird"
   },
   "outputs": [],
   "source": [
    "z_size = 16\n",
    "hidden_layer_size = 256\n",
    "\n",
    "# really good results for vanilla VAE on synthetic data with EPOCHS set to 50, \n",
    "# but when running locally set to 10 for reasonable run times\n",
    "batch_size = 64\n",
    "batch_norm = True\n",
    "\n",
    "\n",
    "global_t = 3.0\n",
    "\n",
    "k = 50\n",
    "num_times = 5\n",
    "\n",
    "gpus = 1\n",
    "tpu_cores = None"
   ]
  },
  {
   "cell_type": "code",
   "execution_count": null,
   "metadata": {
    "id": "z3YA3apjf8hc"
   },
   "outputs": [],
   "source": [
    "import multiprocessing\n",
    "\n",
    "num_cores = multiprocessing.cpu_count()"
   ]
  },
  {
   "cell_type": "markdown",
   "metadata": {
    "id": "zNL5KfNXyX_w"
   },
   "source": [
    "# Here goes all the stuff that we change from dataset to dataset"
   ]
  },
  {
   "cell_type": "code",
   "execution_count": null,
   "metadata": {
    "id": "VH7bxl6U3CUC"
   },
   "outputs": [],
   "source": [
    "from os import path"
   ]
  },
  {
   "cell_type": "code",
   "execution_count": null,
   "metadata": {
    "id": "2BQ8JwQoyXhv"
   },
   "outputs": [],
   "source": [
    "dataset_dirs = ['/content/gdrive/MyDrive/Differentiable-Sparse-Subset-Selection/data/developmental_mouse/',\n",
    "               '/content/gdrive/MyDrive/Differentiable-Sparse-Subset-Selection/data/CITE-seq/',\n",
    "               '/content/gdrive/MyDrive/Differentiable-Sparse-Subset-Selection/data/synthetic/'\n",
    "]\n",
    "\n",
    "\n",
    "model_save_path = '{}/models/'\n",
    "viz_save_path = '/content/gdrive/MyDrive/Differentiable-Sparse-Subset-Selection/data/embedding_map_aggregate.pdf'"
   ]
  },
  {
   "cell_type": "markdown",
   "metadata": {
    "id": "Xv2eoOiMyg3v"
   },
   "source": [
    "# Dataset Specific Processing"
   ]
  },
  {
   "cell_type": "markdown",
   "metadata": {
    "id": "dwTqAlhWq_bt"
   },
   "source": [
    "### Developmental Mouse"
   ]
  },
  {
   "cell_type": "code",
   "execution_count": null,
   "metadata": {
    "colab": {
     "base_uri": "https://localhost:8080/"
    },
    "id": "30L71m-Lun6H",
    "outputId": "e36c8821-9c43-4be5-c6c8-568e74c437f1"
   },
   "outputs": [],
   "source": [
    "deng = pd.read_csv(dataset_dirs[0] + 'deng_counts.txt', sep =' ')\n",
    "\n",
    "deng_meta = pd.read_csv(dataset_dirs[0] + 'deng_metadata.txt', sep =' ')\n",
    "#this is an early mouse data, so there are very few cells\n",
    "deng_adata = sc.AnnData(deng.T)\n",
    "deng_adata,deng_meta.shape\n",
    "#deng_adata.X\n",
    "\n",
    "# create a joint dictionary to compare time points\n",
    "# based on work from here 10.1172/JCI41229\n",
    "mouse_stage={}\n",
    "# '16cell' '4cell' '8cell' 'early2cell' 'earlyblast' 'late2cell'\n",
    "# 'lateblast' 'mid2cell' 'midblast' 'zy1' 'zy2' 'zy3' 'zy4']\n",
    "\n",
    "\n",
    "mouse_stage['zy1'] = 'less4cell'\n",
    "mouse_stage['zy2'] = 'less4cell'\n",
    "mouse_stage['zy3'] = 'less4cell'\n",
    "mouse_stage['zy4'] = 'less4cell'\n",
    "\n",
    "mouse_stage['early2cell'] = 'less4cell'\n",
    "mouse_stage['mid2cell'] = 'less4cell'\n",
    "mouse_stage['late2cell'] = 'less4cell'\n",
    "mouse_stage['4cell'] = 'less4cell'\n",
    "mouse_stage['8cell'] = '8cell'\n",
    "mouse_stage['16cell'] = '16cell'\n",
    "mouse_stage['earlyblast'] = 'earlyblast'\n",
    "mouse_stage['midblast'] = 'midblast'\n",
    "mouse_stage['lateblast'] = 'lateblast'\n",
    "\n",
    "new_annot = [mouse_stage[key]  for key in deng_meta['orig.ident'].values]\n",
    "deng_adata.obs['annotation'] = new_annot\n",
    "deng_adata.obs['annotation'] = deng_adata.obs['annotation'].astype('category')\n",
    "\n",
    "sc.pp.filter_cells(deng_adata, min_genes=10)\n",
    "sc.pp.filter_genes(deng_adata, min_cells=3)\n",
    "\n",
    "deng_adata.var['mt'] = deng_adata.var_names.str.startswith('mt-')  # annotate the group of mitochondrial genes as 'mt'\n",
    "sc.pp.calculate_qc_metrics(deng_adata, qc_vars=['mt'], percent_top=None, log1p=False, inplace=True)\n",
    "\n",
    "p = 0.95\n",
    "deng_adata = deng_adata[deng_adata.obs.n_genes_by_counts < p* max(deng_adata.obs.n_genes_by_counts),:]\n",
    "deng_adata = deng_adata[deng_adata.obs.pct_counts_mt <0.8,:]\n",
    "\n",
    "sc.pp.normalize_total(deng_adata, target_sum=1e4)\n",
    "sc.pp.log1p(deng_adata)\n",
    "sc.pp.scale(deng_adata)\n",
    "\n",
    "X_dm = deng_adata.X.copy()\n",
    "labels = deng_adata.obs['annotation'].values\n",
    "encoder_dm = LabelEncoder()\n",
    "encoder_dm.fit(labels)\n",
    "y_dm = encoder_dm.transform(labels)\n"
   ]
  },
  {
   "cell_type": "markdown",
   "metadata": {
    "id": "PGbByllFrBCy"
   },
   "source": [
    "### CiteSeq"
   ]
  },
  {
   "cell_type": "code",
   "execution_count": null,
   "metadata": {
    "id": "dJbNUWznumuH"
   },
   "outputs": [],
   "source": [
    "citeseq_adata = sc.read_h5ad(dataset_dirs[1] + \"CITEseq.h5ad\")\n",
    "X_cs = citeseq_adata.X.copy()\n",
    "citeseq_adata.obs['annotation'] = citeseq_adata.obs['names']\n",
    "labels = citeseq_adata.obs['names'].values\n",
    "encoder_cs = LabelEncoder()\n",
    "encoder_cs.fit(labels)\n",
    "y_cs = encoder_cs.transform(labels)"
   ]
  },
  {
   "cell_type": "markdown",
   "metadata": {
    "id": "Jn3-5twXrDj2"
   },
   "source": [
    "### Synthetic"
   ]
  },
  {
   "cell_type": "markdown",
   "metadata": {
    "id": "Sa6gNnbY-cnt"
   },
   "source": [
    "`"
   ]
  },
  {
   "cell_type": "code",
   "execution_count": null,
   "metadata": {
    "id": "VMroe1buSQOp"
   },
   "outputs": [],
   "source": [
    "X, y = generate_synthetic_data_with_noise(N=10000, z_size=z_size, n_classes=5, D = hidden_layer_size * 2, seed = 1234)\n",
    "scaler = StandardScaler()\n",
    "X_syn = scaler.fit_transform(X)\n",
    "y = y.astype('int')\n",
    "labels = pd.Series([chr(97+i) for i in y], dtype='category')\n",
    "encoder_syn = LabelEncoder()\n",
    "# remains the same but just to make sure\n",
    "y_syn = encoder_syn.fit_transform(labels)\n",
    "adata = anndata.AnnData(X = X, obs = labels.values)\n",
    "adata.obs['annotation'] = labels.values"
   ]
  },
  {
   "cell_type": "code",
   "execution_count": null,
   "metadata": {
    "colab": {
     "base_uri": "https://localhost:8080/"
    },
    "id": "Rq_FRkZHwNCA",
    "outputId": "3ade26c9-0233-4f23-9221-a5fc7fc0529d"
   },
   "outputs": [],
   "source": [
    "y_syn == y"
   ]
  },
  {
   "cell_type": "markdown",
   "metadata": {
    "id": "K_-t8zRiT7_N"
   },
   "source": [
    "# Graph"
   ]
  },
  {
   "cell_type": "code",
   "execution_count": null,
   "metadata": {
    "id": "2pcwEpbqK3dT"
   },
   "outputs": [],
   "source": [
    "methods = {\n",
    "    'all_markers': 'All Markers',\n",
    "    'smash_rf': 'Smash RF',\n",
    "    'smash': \"Smash DNN\",\n",
    "    'rankcorr': \"RankCorr\",\n",
    "    'l1_vae': \"L1 VAE\", \n",
    "    'globalgate_vae': \"GlobalGate VAE\",\n",
    "    'runningstate_vae': \"RunningState VAE\",\n",
    "    'runningstate_classifier': \"RunningState Classifier\",\n",
    "    'runningstate_vae+classifier': 'RunningState VAE+Classifier',\n",
    "    'concrete_vae': \"Concrete VAE\",\n",
    "    'lasso_net': \"LassoNet\"\n",
    "}\n",
    "\n",
    "dataset_dirs = {\n",
    "    'Developmental Mouse': ('/content/gdrive/MyDrive/Differentiable-Sparse-Subset-Selection/data/developmental_mouse/', (X_dm, y_dm)),\n",
    "    'CITE-seq': ('/content/gdrive/MyDrive/Differentiable-Sparse-Subset-Selection/data/CITE-seq/', (X_cs, y_cs)),\n",
    "    'Synthetic': ('/content/gdrive/MyDrive/Differentiable-Sparse-Subset-Selection/data/synthetic/', (X_syn, y_syn))\n",
    "}\n",
    "\n",
    "def full_paths_data_retrival(datasetdir, template_location):\n",
    "    # i messed up the pattern of saving  files when it came to the baseline\n",
    "    if 'all' in template_location:\n",
    "        markers_path = datasetdir + 'models/' + 'all_markers_1.npy'\n",
    "        results_path = datasetdir + 'models/' + 'all_markers_results_{}.npy'\n",
    "    else:\n",
    "        markers_path = datasetdir + 'models/' + template_location + '_markers_1.npy'\n",
    "        results_path = datasetdir + 'models/' + template_location + '_results_{}.npy'\n",
    "\n",
    "    markers = np.load(markers_path, allow_pickle = True)\n",
    "    m, weighted_f1_score, _, _ = model_variances(results_path, num_times)\n",
    "\n",
    "    return markers, weighted_f1_score"
   ]
  },
  {
   "cell_type": "code",
   "execution_count": null,
   "metadata": {
    "id": "knaPvtByT-Zp"
   },
   "outputs": [],
   "source": [
    "def plot_row(ax, dataset_name, encoder, methods):\n",
    "    k = 50\n",
    "    num_classes = len(encoder.classes_)\n",
    "    datasetdir = dataset_dirs[dataset_name][0]\n",
    "    X, y = dataset_dirs[dataset_name][1]\n",
    "    #X = X[1:100,:]\n",
    "    #y = y[1:100]\n",
    "    for i, (method, method_params) in enumerate(methods.items()):\n",
    "        markers, weighted_f1 = full_paths_data_retrival(datasetdir, method)\n",
    "        col = ax[i]\n",
    "        # only do once\n",
    "        if i == 0:\n",
    "            col.set_ylabel(\"{}\".format(dataset_name))\n",
    "        X_in = X[:, markers]\n",
    "        \n",
    "        embedding = umap.UMAP(n_neighbors=10, min_dist= 0.05).fit_transform(X_in)\n",
    "        \n",
    "                \n",
    "        sc = col.scatter(*embedding.T, c = y)\n",
    "        #sc = col.scatter(x = X[:, 1], y = X[:, 2], c = y)\n",
    "        # plt.setp(ax, xticks=[], yticks=[])\n",
    "        if i == len(methods)-1:\n",
    "            cbar = plt.colorbar(sc, ticks=np.arange(num_classes), ax = col)#, boundaries = np.arange(num_classes) - 0.5)\n",
    "            #cbar.set_ticks(np.arange(num_classes))\n",
    "            cbar.set_ticklabels(encoder.classes_)\n",
    "        \n",
    "\n",
    "        if len(markers) != k:\n",
    "            print('markers is not 50')\n",
    "            print(method)\n",
    "        col.set_title(\"{} ({:.3g})\".format(methods[method], weighted_f1))     \n",
    "        col.set_xticks([])\n",
    "        col.set_yticks([])   \n",
    "    return"
   ]
  },
  {
   "cell_type": "code",
   "execution_count": null,
   "metadata": {
    "colab": {
     "base_uri": "https://localhost:8080/"
    },
    "id": "l_AvRuNB4E7y",
    "outputId": "8ab80e84-2e5c-4a58-b417-ad839ae5ef8e"
   },
   "outputs": [],
   "source": [
    "encoder_syn.classes_"
   ]
  },
  {
   "cell_type": "code",
   "execution_count": null,
   "metadata": {
    "colab": {
     "base_uri": "https://localhost:8080/",
     "height": 861
    },
    "id": "ND7eWl33UAtu",
    "outputId": "bd8dec96-6c5b-466d-dd6f-373461c29cbf"
   },
   "outputs": [],
   "source": [
    "%%time\n",
    "\n",
    "fig, axs = plt.subplots(nrows=3, ncols = len(methods), figsize = (30, 12))\n",
    "\n",
    "plot_row(axs[0], 'Developmental Mouse', encoder_dm, methods)\n",
    "plot_row(axs[1], 'CITE-seq', encoder_cs, methods)\n",
    "plot_row(axs[2], 'Synthetic', encoder_syn, methods)\n",
    "\n",
    "\n",
    "#plt.tight_layout()\n",
    "plt.savefig(viz_save_path)\n",
    "plt.show()"
   ]
  },
  {
   "cell_type": "code",
   "execution_count": null,
   "metadata": {
    "id": "Qi418YnlUDtJ"
   },
   "outputs": [],
   "source": [
    "plt.close('all')"
   ]
  },
  {
   "cell_type": "markdown",
   "metadata": {
    "id": "Ika1YZkURQr0"
   },
   "source": [
    "# Things to note for paper\n",
    "\n",
    "PySmash uses a seed internally so the model is deterministic to a particular dataset. We used various different train seeds, whereas the smash paper uses the whole dataset for the data.\n",
    "\n",
    "For smash DNN, to select the markers, I had to use all the data. Couldn't just use train and val set."
   ]
  },
  {
   "cell_type": "markdown",
   "metadata": {
    "id": "IE2XAYBqdtcQ"
   },
   "source": [
    "The clusters are not guaranteed to be well separated in the latent space but that is fine.\n",
    "\n",
    "Global gate vae and concrete vae are similar in performance."
   ]
  },
  {
   "cell_type": "code",
   "execution_count": null,
   "metadata": {
    "colab": {
     "base_uri": "https://localhost:8080/"
    },
    "id": "qw_O6WnV_12L",
    "outputId": "4692ff2d-35db-407f-9367-d7c7de2b5699"
   },
   "outputs": [],
   "source": [
    "encoder_dm.classes_"
   ]
  },
  {
   "cell_type": "code",
   "execution_count": null,
   "metadata": {
    "id": "OyCVSHW6_2Zr"
   },
   "outputs": [],
   "source": []
  }
 ],
 "metadata": {
  "colab": {
   "collapsed_sections": [],
   "name": "Array of Markers.ipynb",
   "provenance": []
  },
  "kernelspec": {
   "display_name": "Python 3",
   "name": "python3"
  },
  "language_info": {
   "name": "python"
  }
 },
 "nbformat": 4,
 "nbformat_minor": 0
}
