{
  "nbformat": 4,
  "nbformat_minor": 0,
  "metadata": {
    "colab": {
      "name": "SummaryTable.ipynb",
      "provenance": [],
      "collapsed_sections": []
    },
    "kernelspec": {
      "display_name": "Python 3",
      "name": "python3"
    },
    "language_info": {
      "name": "python"
    }
  },
  "cells": [
    {
      "cell_type": "markdown",
      "metadata": {
        "id": "b4t-bqagzop8"
      },
      "source": [
        "# Google Notebook specific Stuff"
      ]
    },
    {
      "cell_type": "code",
      "metadata": {
        "colab": {
          "base_uri": "https://localhost:8080/"
        },
        "id": "XnY89fnUtfWh",
        "outputId": "f168c3a4-9a88-4465-ff4f-4764466a21f0"
      },
      "source": [
        "from google.colab import drive\n",
        "drive.mount('/content/gdrive')"
      ],
      "execution_count": null,
      "outputs": [
        {
          "output_type": "stream",
          "name": "stdout",
          "text": [
            "Mounted at /content/gdrive\n"
          ]
        }
      ]
    },
    {
      "cell_type": "code",
      "metadata": {
        "colab": {
          "base_uri": "https://localhost:8080/"
        },
        "id": "SpwYB-XOyXOZ",
        "outputId": "ef3247a4-da51-4207-8871-f7038914aca7"
      },
      "source": [
        "!pip install pytorch-lightning==1.3.3\n",
        "# !pip install cloud-tpu-client==0.10 https://storage.googleapis.com/tpu-pytorch/wheels/torch_xla-1.8.1-cp37-cp37m-linux_x86_64.whl\n",
        "!pip install scGeneFit\n",
        "!pip install scanpy\n",
        "!pip install anndata\n",
        "!pip install lassonet\n",
        "# my version of smashpy that fixed imports, nothing else was changed\n",
        "!pip install matplotlib>=3.3.2\n",
        "!pip install shap>=0.37.0\n",
        "!pip install xgboost>=1.3.3\n",
        "!pip install imbalanced-learn>=0.7.0\n",
        "!pip install numba>=0.51.2\n",
        "!pip install harmonypy>=0.0.5\n",
        "!git clone https://github.com/beelze-b/SmashFork.git\n",
        "!git clone https://github.com/ahsv/RankCorr.git"
      ],
      "execution_count": null,
      "outputs": [
        {
          "output_type": "stream",
          "name": "stdout",
          "text": [
            "Collecting pytorch-lightning==1.3.3\n",
            "  Downloading pytorch_lightning-1.3.3-py3-none-any.whl (806 kB)\n",
            "\u001b[K     |████████████████████████████████| 806 kB 4.0 MB/s \n",
            "\u001b[?25hRequirement already satisfied: tqdm>=4.41.0 in /usr/local/lib/python3.7/dist-packages (from pytorch-lightning==1.3.3) (4.62.3)\n",
            "Requirement already satisfied: tensorboard!=2.5.0,>=2.2.0 in /usr/local/lib/python3.7/dist-packages (from pytorch-lightning==1.3.3) (2.6.0)\n",
            "Requirement already satisfied: packaging in /usr/local/lib/python3.7/dist-packages (from pytorch-lightning==1.3.3) (21.0)\n",
            "Collecting torchmetrics>=0.2.0\n",
            "  Downloading torchmetrics-0.5.1-py3-none-any.whl (282 kB)\n",
            "\u001b[K     |████████████████████████████████| 282 kB 37.6 MB/s \n",
            "\u001b[?25hCollecting future>=0.17.1\n",
            "  Downloading future-0.18.2.tar.gz (829 kB)\n",
            "\u001b[K     |████████████████████████████████| 829 kB 31.9 MB/s \n",
            "\u001b[?25hCollecting pyDeprecate==0.3.0\n",
            "  Downloading pyDeprecate-0.3.0-py3-none-any.whl (10 kB)\n",
            "Collecting fsspec[http]>=2021.4.0\n",
            "  Downloading fsspec-2021.10.0-py3-none-any.whl (125 kB)\n",
            "\u001b[K     |████████████████████████████████| 125 kB 53.4 MB/s \n",
            "\u001b[?25hRequirement already satisfied: numpy>=1.17.2 in /usr/local/lib/python3.7/dist-packages (from pytorch-lightning==1.3.3) (1.19.5)\n",
            "Requirement already satisfied: torch>=1.4 in /usr/local/lib/python3.7/dist-packages (from pytorch-lightning==1.3.3) (1.9.0+cu102)\n",
            "Collecting PyYAML<=5.4.1,>=5.1\n",
            "  Downloading PyYAML-5.4.1-cp37-cp37m-manylinux1_x86_64.whl (636 kB)\n",
            "\u001b[K     |████████████████████████████████| 636 kB 57.3 MB/s \n",
            "\u001b[?25hRequirement already satisfied: requests in /usr/local/lib/python3.7/dist-packages (from fsspec[http]>=2021.4.0->pytorch-lightning==1.3.3) (2.23.0)\n",
            "Collecting aiohttp\n",
            "  Downloading aiohttp-3.7.4.post0-cp37-cp37m-manylinux2014_x86_64.whl (1.3 MB)\n",
            "\u001b[K     |████████████████████████████████| 1.3 MB 52.3 MB/s \n",
            "\u001b[?25hRequirement already satisfied: google-auth-oauthlib<0.5,>=0.4.1 in /usr/local/lib/python3.7/dist-packages (from tensorboard!=2.5.0,>=2.2.0->pytorch-lightning==1.3.3) (0.4.6)\n",
            "Requirement already satisfied: tensorboard-plugin-wit>=1.6.0 in /usr/local/lib/python3.7/dist-packages (from tensorboard!=2.5.0,>=2.2.0->pytorch-lightning==1.3.3) (1.8.0)\n",
            "Requirement already satisfied: absl-py>=0.4 in /usr/local/lib/python3.7/dist-packages (from tensorboard!=2.5.0,>=2.2.0->pytorch-lightning==1.3.3) (0.12.0)\n",
            "Requirement already satisfied: grpcio>=1.24.3 in /usr/local/lib/python3.7/dist-packages (from tensorboard!=2.5.0,>=2.2.0->pytorch-lightning==1.3.3) (1.40.0)\n",
            "Requirement already satisfied: tensorboard-data-server<0.7.0,>=0.6.0 in /usr/local/lib/python3.7/dist-packages (from tensorboard!=2.5.0,>=2.2.0->pytorch-lightning==1.3.3) (0.6.1)\n",
            "Requirement already satisfied: werkzeug>=0.11.15 in /usr/local/lib/python3.7/dist-packages (from tensorboard!=2.5.0,>=2.2.0->pytorch-lightning==1.3.3) (1.0.1)\n",
            "Requirement already satisfied: google-auth<2,>=1.6.3 in /usr/local/lib/python3.7/dist-packages (from tensorboard!=2.5.0,>=2.2.0->pytorch-lightning==1.3.3) (1.35.0)\n",
            "Requirement already satisfied: wheel>=0.26 in /usr/local/lib/python3.7/dist-packages (from tensorboard!=2.5.0,>=2.2.0->pytorch-lightning==1.3.3) (0.37.0)\n",
            "Requirement already satisfied: setuptools>=41.0.0 in /usr/local/lib/python3.7/dist-packages (from tensorboard!=2.5.0,>=2.2.0->pytorch-lightning==1.3.3) (57.4.0)\n",
            "Requirement already satisfied: markdown>=2.6.8 in /usr/local/lib/python3.7/dist-packages (from tensorboard!=2.5.0,>=2.2.0->pytorch-lightning==1.3.3) (3.3.4)\n",
            "Requirement already satisfied: protobuf>=3.6.0 in /usr/local/lib/python3.7/dist-packages (from tensorboard!=2.5.0,>=2.2.0->pytorch-lightning==1.3.3) (3.17.3)\n",
            "Requirement already satisfied: six in /usr/local/lib/python3.7/dist-packages (from absl-py>=0.4->tensorboard!=2.5.0,>=2.2.0->pytorch-lightning==1.3.3) (1.15.0)\n",
            "Requirement already satisfied: rsa<5,>=3.1.4 in /usr/local/lib/python3.7/dist-packages (from google-auth<2,>=1.6.3->tensorboard!=2.5.0,>=2.2.0->pytorch-lightning==1.3.3) (4.7.2)\n",
            "Requirement already satisfied: pyasn1-modules>=0.2.1 in /usr/local/lib/python3.7/dist-packages (from google-auth<2,>=1.6.3->tensorboard!=2.5.0,>=2.2.0->pytorch-lightning==1.3.3) (0.2.8)\n",
            "Requirement already satisfied: cachetools<5.0,>=2.0.0 in /usr/local/lib/python3.7/dist-packages (from google-auth<2,>=1.6.3->tensorboard!=2.5.0,>=2.2.0->pytorch-lightning==1.3.3) (4.2.2)\n",
            "Requirement already satisfied: requests-oauthlib>=0.7.0 in /usr/local/lib/python3.7/dist-packages (from google-auth-oauthlib<0.5,>=0.4.1->tensorboard!=2.5.0,>=2.2.0->pytorch-lightning==1.3.3) (1.3.0)\n",
            "Requirement already satisfied: importlib-metadata in /usr/local/lib/python3.7/dist-packages (from markdown>=2.6.8->tensorboard!=2.5.0,>=2.2.0->pytorch-lightning==1.3.3) (4.8.1)\n",
            "Requirement already satisfied: pyasn1<0.5.0,>=0.4.6 in /usr/local/lib/python3.7/dist-packages (from pyasn1-modules>=0.2.1->google-auth<2,>=1.6.3->tensorboard!=2.5.0,>=2.2.0->pytorch-lightning==1.3.3) (0.4.8)\n",
            "Requirement already satisfied: certifi>=2017.4.17 in /usr/local/lib/python3.7/dist-packages (from requests->fsspec[http]>=2021.4.0->pytorch-lightning==1.3.3) (2021.5.30)\n",
            "Requirement already satisfied: idna<3,>=2.5 in /usr/local/lib/python3.7/dist-packages (from requests->fsspec[http]>=2021.4.0->pytorch-lightning==1.3.3) (2.10)\n",
            "Requirement already satisfied: urllib3!=1.25.0,!=1.25.1,<1.26,>=1.21.1 in /usr/local/lib/python3.7/dist-packages (from requests->fsspec[http]>=2021.4.0->pytorch-lightning==1.3.3) (1.24.3)\n",
            "Requirement already satisfied: chardet<4,>=3.0.2 in /usr/local/lib/python3.7/dist-packages (from requests->fsspec[http]>=2021.4.0->pytorch-lightning==1.3.3) (3.0.4)\n",
            "Requirement already satisfied: oauthlib>=3.0.0 in /usr/local/lib/python3.7/dist-packages (from requests-oauthlib>=0.7.0->google-auth-oauthlib<0.5,>=0.4.1->tensorboard!=2.5.0,>=2.2.0->pytorch-lightning==1.3.3) (3.1.1)\n",
            "Requirement already satisfied: typing-extensions in /usr/local/lib/python3.7/dist-packages (from torch>=1.4->pytorch-lightning==1.3.3) (3.7.4.3)\n",
            "Collecting multidict<7.0,>=4.5\n",
            "  Downloading multidict-5.1.0-cp37-cp37m-manylinux2014_x86_64.whl (142 kB)\n",
            "\u001b[K     |████████████████████████████████| 142 kB 55.6 MB/s \n",
            "\u001b[?25hCollecting async-timeout<4.0,>=3.0\n",
            "  Downloading async_timeout-3.0.1-py3-none-any.whl (8.2 kB)\n",
            "Collecting yarl<2.0,>=1.0\n",
            "  Downloading yarl-1.6.3-cp37-cp37m-manylinux2014_x86_64.whl (294 kB)\n",
            "\u001b[K     |████████████████████████████████| 294 kB 34.5 MB/s \n",
            "\u001b[?25hRequirement already satisfied: attrs>=17.3.0 in /usr/local/lib/python3.7/dist-packages (from aiohttp->fsspec[http]>=2021.4.0->pytorch-lightning==1.3.3) (21.2.0)\n",
            "Requirement already satisfied: zipp>=0.5 in /usr/local/lib/python3.7/dist-packages (from importlib-metadata->markdown>=2.6.8->tensorboard!=2.5.0,>=2.2.0->pytorch-lightning==1.3.3) (3.5.0)\n",
            "Requirement already satisfied: pyparsing>=2.0.2 in /usr/local/lib/python3.7/dist-packages (from packaging->pytorch-lightning==1.3.3) (2.4.7)\n",
            "Building wheels for collected packages: future\n",
            "  Building wheel for future (setup.py) ... \u001b[?25l\u001b[?25hdone\n",
            "  Created wheel for future: filename=future-0.18.2-py3-none-any.whl size=491070 sha256=43fafcd8e394356327cf09990e055f9225b0f98d92efb5534bb8e286c63885bd\n",
            "  Stored in directory: /root/.cache/pip/wheels/56/b0/fe/4410d17b32f1f0c3cf54cdfb2bc04d7b4b8f4ae377e2229ba0\n",
            "Successfully built future\n",
            "Installing collected packages: multidict, yarl, async-timeout, fsspec, aiohttp, torchmetrics, PyYAML, pyDeprecate, future, pytorch-lightning\n",
            "  Attempting uninstall: PyYAML\n",
            "    Found existing installation: PyYAML 3.13\n",
            "    Uninstalling PyYAML-3.13:\n",
            "      Successfully uninstalled PyYAML-3.13\n",
            "  Attempting uninstall: future\n",
            "    Found existing installation: future 0.16.0\n",
            "    Uninstalling future-0.16.0:\n",
            "      Successfully uninstalled future-0.16.0\n",
            "Successfully installed PyYAML-5.4.1 aiohttp-3.7.4.post0 async-timeout-3.0.1 fsspec-2021.10.0 future-0.18.2 multidict-5.1.0 pyDeprecate-0.3.0 pytorch-lightning-1.3.3 torchmetrics-0.5.1 yarl-1.6.3\n",
            "Collecting scGeneFit\n",
            "  Downloading scGeneFit-1.0.2-py3-none-any.whl (13.2 MB)\n",
            "\u001b[K     |████████████████████████████████| 13.2 MB 3.8 MB/s \n",
            "\u001b[?25hRequirement already satisfied: scipy in /usr/local/lib/python3.7/dist-packages (from scGeneFit) (1.4.1)\n",
            "Requirement already satisfied: matplotlib in /usr/local/lib/python3.7/dist-packages (from scGeneFit) (3.2.2)\n",
            "Requirement already satisfied: numpy in /usr/local/lib/python3.7/dist-packages (from scGeneFit) (1.19.5)\n",
            "Requirement already satisfied: sklearn in /usr/local/lib/python3.7/dist-packages (from scGeneFit) (0.0)\n",
            "Requirement already satisfied: kiwisolver>=1.0.1 in /usr/local/lib/python3.7/dist-packages (from matplotlib->scGeneFit) (1.3.2)\n",
            "Requirement already satisfied: python-dateutil>=2.1 in /usr/local/lib/python3.7/dist-packages (from matplotlib->scGeneFit) (2.8.2)\n",
            "Requirement already satisfied: pyparsing!=2.0.4,!=2.1.2,!=2.1.6,>=2.0.1 in /usr/local/lib/python3.7/dist-packages (from matplotlib->scGeneFit) (2.4.7)\n",
            "Requirement already satisfied: cycler>=0.10 in /usr/local/lib/python3.7/dist-packages (from matplotlib->scGeneFit) (0.10.0)\n",
            "Requirement already satisfied: six in /usr/local/lib/python3.7/dist-packages (from cycler>=0.10->matplotlib->scGeneFit) (1.15.0)\n",
            "Requirement already satisfied: scikit-learn in /usr/local/lib/python3.7/dist-packages (from sklearn->scGeneFit) (0.22.2.post1)\n",
            "Requirement already satisfied: joblib>=0.11 in /usr/local/lib/python3.7/dist-packages (from scikit-learn->sklearn->scGeneFit) (1.0.1)\n",
            "Installing collected packages: scGeneFit\n",
            "Successfully installed scGeneFit-1.0.2\n",
            "Collecting scanpy\n",
            "  Downloading scanpy-1.8.1-py3-none-any.whl (2.0 MB)\n",
            "\u001b[K     |████████████████████████████████| 2.0 MB 4.1 MB/s \n",
            "\u001b[?25hRequirement already satisfied: networkx>=2.3 in /usr/local/lib/python3.7/dist-packages (from scanpy) (2.6.3)\n",
            "Requirement already satisfied: importlib_metadata>=0.7 in /usr/local/lib/python3.7/dist-packages (from scanpy) (4.8.1)\n",
            "Requirement already satisfied: natsort in /usr/local/lib/python3.7/dist-packages (from scanpy) (5.5.0)\n",
            "Requirement already satisfied: statsmodels>=0.10.0rc2 in /usr/local/lib/python3.7/dist-packages (from scanpy) (0.10.2)\n",
            "Requirement already satisfied: pandas>=0.21 in /usr/local/lib/python3.7/dist-packages (from scanpy) (1.1.5)\n",
            "Requirement already satisfied: seaborn in /usr/local/lib/python3.7/dist-packages (from scanpy) (0.11.2)\n",
            "Requirement already satisfied: scikit-learn>=0.22 in /usr/local/lib/python3.7/dist-packages (from scanpy) (0.22.2.post1)\n",
            "Requirement already satisfied: tables in /usr/local/lib/python3.7/dist-packages (from scanpy) (3.4.4)\n",
            "Requirement already satisfied: patsy in /usr/local/lib/python3.7/dist-packages (from scanpy) (0.5.1)\n",
            "Requirement already satisfied: packaging in /usr/local/lib/python3.7/dist-packages (from scanpy) (21.0)\n",
            "Collecting anndata>=0.7.4\n",
            "  Downloading anndata-0.7.6-py3-none-any.whl (127 kB)\n",
            "\u001b[K     |████████████████████████████████| 127 kB 58.4 MB/s \n",
            "\u001b[?25hCollecting umap-learn>=0.3.10\n",
            "  Downloading umap-learn-0.5.1.tar.gz (80 kB)\n",
            "\u001b[K     |████████████████████████████████| 80 kB 7.6 MB/s \n",
            "\u001b[?25hCollecting sinfo\n",
            "  Downloading sinfo-0.3.4.tar.gz (24 kB)\n",
            "Requirement already satisfied: scipy>=1.4 in /usr/local/lib/python3.7/dist-packages (from scanpy) (1.4.1)\n",
            "Requirement already satisfied: numba>=0.41.0 in /usr/local/lib/python3.7/dist-packages (from scanpy) (0.51.2)\n",
            "Requirement already satisfied: h5py>=2.10.0 in /usr/local/lib/python3.7/dist-packages (from scanpy) (3.1.0)\n",
            "Requirement already satisfied: matplotlib>=3.1.2 in /usr/local/lib/python3.7/dist-packages (from scanpy) (3.2.2)\n",
            "Requirement already satisfied: joblib in /usr/local/lib/python3.7/dist-packages (from scanpy) (1.0.1)\n",
            "Requirement already satisfied: numpy>=1.17.0 in /usr/local/lib/python3.7/dist-packages (from scanpy) (1.19.5)\n",
            "Requirement already satisfied: tqdm in /usr/local/lib/python3.7/dist-packages (from scanpy) (4.62.3)\n",
            "Requirement already satisfied: xlrd<2.0 in /usr/local/lib/python3.7/dist-packages (from anndata>=0.7.4->scanpy) (1.1.0)\n",
            "Requirement already satisfied: cached-property in /usr/local/lib/python3.7/dist-packages (from h5py>=2.10.0->scanpy) (1.5.2)\n",
            "Requirement already satisfied: typing-extensions>=3.6.4 in /usr/local/lib/python3.7/dist-packages (from importlib_metadata>=0.7->scanpy) (3.7.4.3)\n",
            "Requirement already satisfied: zipp>=0.5 in /usr/local/lib/python3.7/dist-packages (from importlib_metadata>=0.7->scanpy) (3.5.0)\n",
            "Requirement already satisfied: python-dateutil>=2.1 in /usr/local/lib/python3.7/dist-packages (from matplotlib>=3.1.2->scanpy) (2.8.2)\n",
            "Requirement already satisfied: kiwisolver>=1.0.1 in /usr/local/lib/python3.7/dist-packages (from matplotlib>=3.1.2->scanpy) (1.3.2)\n",
            "Requirement already satisfied: pyparsing!=2.0.4,!=2.1.2,!=2.1.6,>=2.0.1 in /usr/local/lib/python3.7/dist-packages (from matplotlib>=3.1.2->scanpy) (2.4.7)\n",
            "Requirement already satisfied: cycler>=0.10 in /usr/local/lib/python3.7/dist-packages (from matplotlib>=3.1.2->scanpy) (0.10.0)\n",
            "Requirement already satisfied: six in /usr/local/lib/python3.7/dist-packages (from cycler>=0.10->matplotlib>=3.1.2->scanpy) (1.15.0)\n",
            "Requirement already satisfied: llvmlite<0.35,>=0.34.0.dev0 in /usr/local/lib/python3.7/dist-packages (from numba>=0.41.0->scanpy) (0.34.0)\n",
            "Requirement already satisfied: setuptools in /usr/local/lib/python3.7/dist-packages (from numba>=0.41.0->scanpy) (57.4.0)\n",
            "Requirement already satisfied: pytz>=2017.2 in /usr/local/lib/python3.7/dist-packages (from pandas>=0.21->scanpy) (2018.9)\n",
            "Collecting pynndescent>=0.5\n",
            "  Downloading pynndescent-0.5.4.tar.gz (1.1 MB)\n",
            "\u001b[K     |████████████████████████████████| 1.1 MB 56.8 MB/s \n",
            "\u001b[?25hCollecting stdlib_list\n",
            "  Downloading stdlib_list-0.8.0-py3-none-any.whl (63 kB)\n",
            "\u001b[K     |████████████████████████████████| 63 kB 1.8 MB/s \n",
            "\u001b[?25hRequirement already satisfied: numexpr>=2.5.2 in /usr/local/lib/python3.7/dist-packages (from tables->scanpy) (2.7.3)\n",
            "Building wheels for collected packages: umap-learn, pynndescent, sinfo\n",
            "  Building wheel for umap-learn (setup.py) ... \u001b[?25l\u001b[?25hdone\n",
            "  Created wheel for umap-learn: filename=umap_learn-0.5.1-py3-none-any.whl size=76564 sha256=7e24675c93d5ce79d0a199a8cae906e43d5a9a85a24e9dd964db0934720b5145\n",
            "  Stored in directory: /root/.cache/pip/wheels/01/e7/bb/347dc0e510803d7116a13d592b10cc68262da56a8eec4dd72f\n",
            "  Building wheel for pynndescent (setup.py) ... \u001b[?25l\u001b[?25hdone\n",
            "  Created wheel for pynndescent: filename=pynndescent-0.5.4-py3-none-any.whl size=52373 sha256=08d5f3f6ee22225b6a923e584ef29dce297b850681e1c4c45a7b31b3d3853350\n",
            "  Stored in directory: /root/.cache/pip/wheels/d0/5b/62/3401692ddad12324249c774c4b15ccb046946021e2b581c043\n",
            "  Building wheel for sinfo (setup.py) ... \u001b[?25l\u001b[?25hdone\n",
            "  Created wheel for sinfo: filename=sinfo-0.3.4-py3-none-any.whl size=7899 sha256=fa42a33e3faf413833b67df89a3477074e0c9613a2d5fbb24a87650378d94eea\n",
            "  Stored in directory: /root/.cache/pip/wheels/68/ca/56/344d532fe53e855ccd6549795d370588ab8123907eecf4cf30\n",
            "Successfully built umap-learn pynndescent sinfo\n",
            "Installing collected packages: stdlib-list, pynndescent, umap-learn, sinfo, anndata, scanpy\n",
            "Successfully installed anndata-0.7.6 pynndescent-0.5.4 scanpy-1.8.1 sinfo-0.3.4 stdlib-list-0.8.0 umap-learn-0.5.1\n",
            "Requirement already satisfied: anndata in /usr/local/lib/python3.7/dist-packages (0.7.6)\n",
            "Requirement already satisfied: packaging>=20 in /usr/local/lib/python3.7/dist-packages (from anndata) (21.0)\n",
            "Requirement already satisfied: numpy>=1.16.5 in /usr/local/lib/python3.7/dist-packages (from anndata) (1.19.5)\n",
            "Requirement already satisfied: h5py in /usr/local/lib/python3.7/dist-packages (from anndata) (3.1.0)\n",
            "Requirement already satisfied: natsort in /usr/local/lib/python3.7/dist-packages (from anndata) (5.5.0)\n",
            "Requirement already satisfied: scipy>1.4 in /usr/local/lib/python3.7/dist-packages (from anndata) (1.4.1)\n",
            "Requirement already satisfied: pandas>=1.1.1 in /usr/local/lib/python3.7/dist-packages (from anndata) (1.1.5)\n",
            "Requirement already satisfied: xlrd<2.0 in /usr/local/lib/python3.7/dist-packages (from anndata) (1.1.0)\n",
            "Requirement already satisfied: importlib_metadata>=0.7 in /usr/local/lib/python3.7/dist-packages (from anndata) (4.8.1)\n",
            "Requirement already satisfied: typing-extensions>=3.6.4 in /usr/local/lib/python3.7/dist-packages (from importlib_metadata>=0.7->anndata) (3.7.4.3)\n",
            "Requirement already satisfied: zipp>=0.5 in /usr/local/lib/python3.7/dist-packages (from importlib_metadata>=0.7->anndata) (3.5.0)\n",
            "Requirement already satisfied: pyparsing>=2.0.2 in /usr/local/lib/python3.7/dist-packages (from packaging>=20->anndata) (2.4.7)\n",
            "Requirement already satisfied: python-dateutil>=2.7.3 in /usr/local/lib/python3.7/dist-packages (from pandas>=1.1.1->anndata) (2.8.2)\n",
            "Requirement already satisfied: pytz>=2017.2 in /usr/local/lib/python3.7/dist-packages (from pandas>=1.1.1->anndata) (2018.9)\n",
            "Requirement already satisfied: six>=1.5 in /usr/local/lib/python3.7/dist-packages (from python-dateutil>=2.7.3->pandas>=1.1.1->anndata) (1.15.0)\n",
            "Requirement already satisfied: cached-property in /usr/local/lib/python3.7/dist-packages (from h5py->anndata) (1.5.2)\n",
            "Collecting lassonet\n",
            "  Downloading lassonet-0.0.8-py3-none-any.whl (10 kB)\n",
            "Requirement already satisfied: torch in /usr/local/lib/python3.7/dist-packages (from lassonet) (1.9.0+cu102)\n",
            "Requirement already satisfied: scikit-learn in /usr/local/lib/python3.7/dist-packages (from lassonet) (0.22.2.post1)\n",
            "Requirement already satisfied: matplotlib in /usr/local/lib/python3.7/dist-packages (from lassonet) (3.2.2)\n",
            "Requirement already satisfied: pyparsing!=2.0.4,!=2.1.2,!=2.1.6,>=2.0.1 in /usr/local/lib/python3.7/dist-packages (from matplotlib->lassonet) (2.4.7)\n",
            "Requirement already satisfied: python-dateutil>=2.1 in /usr/local/lib/python3.7/dist-packages (from matplotlib->lassonet) (2.8.2)\n",
            "Requirement already satisfied: cycler>=0.10 in /usr/local/lib/python3.7/dist-packages (from matplotlib->lassonet) (0.10.0)\n",
            "Requirement already satisfied: kiwisolver>=1.0.1 in /usr/local/lib/python3.7/dist-packages (from matplotlib->lassonet) (1.3.2)\n",
            "Requirement already satisfied: numpy>=1.11 in /usr/local/lib/python3.7/dist-packages (from matplotlib->lassonet) (1.19.5)\n",
            "Requirement already satisfied: six in /usr/local/lib/python3.7/dist-packages (from cycler>=0.10->matplotlib->lassonet) (1.15.0)\n",
            "Requirement already satisfied: joblib>=0.11 in /usr/local/lib/python3.7/dist-packages (from scikit-learn->lassonet) (1.0.1)\n",
            "Requirement already satisfied: scipy>=0.17.0 in /usr/local/lib/python3.7/dist-packages (from scikit-learn->lassonet) (1.4.1)\n",
            "Requirement already satisfied: typing-extensions in /usr/local/lib/python3.7/dist-packages (from torch->lassonet) (3.7.4.3)\n",
            "Installing collected packages: lassonet\n",
            "Successfully installed lassonet-0.0.8\n",
            "Cloning into 'SmashFork'...\n",
            "remote: Enumerating objects: 428, done.\u001b[K\n",
            "remote: Counting objects: 100% (428/428), done.\u001b[K\n",
            "remote: Compressing objects: 100% (207/207), done.\u001b[K\n",
            "remote: Total 428 (delta 202), reused 420 (delta 194), pack-reused 0\u001b[K\n",
            "Receiving objects: 100% (428/428), 42.96 MiB | 23.68 MiB/s, done.\n",
            "Resolving deltas: 100% (202/202), done.\n",
            "Cloning into 'RankCorr'...\n",
            "remote: Enumerating objects: 19, done.\u001b[K\n",
            "remote: Counting objects: 100% (19/19), done.\u001b[K\n",
            "remote: Compressing objects: 100% (18/18), done.\u001b[K\n",
            "remote: Total 19 (delta 2), reused 12 (delta 0), pack-reused 0\u001b[K\n",
            "Unpacking objects: 100% (19/19), done.\n"
          ]
        }
      ]
    },
    {
      "cell_type": "code",
      "metadata": {
        "colab": {
          "base_uri": "https://localhost:8080/"
        },
        "id": "i7cNN5oD2mkR",
        "outputId": "699d303e-a11a-4bad-9160-cad22a3b1b61"
      },
      "source": [
        "# Check GPU\n",
        "\n",
        "gpu_info = !nvidia-smi\n",
        "gpu_info = '\\n'.join(gpu_info)\n",
        "if gpu_info.find('failed') >= 0:\n",
        "  print('Select the Runtime > \"Change runtime type\" menu to enable a GPU accelerator, ')\n",
        "  print('and then re-execute this cell.')\n",
        "else:\n",
        "  print(gpu_info)"
      ],
      "execution_count": null,
      "outputs": [
        {
          "output_type": "stream",
          "name": "stdout",
          "text": [
            "Select the Runtime > \"Change runtime type\" menu to enable a GPU accelerator, \n",
            "and then re-execute this cell.\n"
          ]
        }
      ]
    },
    {
      "cell_type": "code",
      "metadata": {
        "id": "nCxHfP2k2te2"
      },
      "source": [
        "import sys\n",
        "import os\n",
        "# to import utils\n",
        "sys.path.append(os.path.abspath('/content/gdrive/My Drive/Differentiable-Sparse-Subset-Selection/notebooks'))"
      ],
      "execution_count": null,
      "outputs": []
    },
    {
      "cell_type": "markdown",
      "metadata": {
        "id": "kuKoVgDwzrgo"
      },
      "source": [
        "# All the Imports"
      ]
    },
    {
      "cell_type": "code",
      "metadata": {
        "colab": {
          "base_uri": "https://localhost:8080/"
        },
        "id": "ZgkcUm9Pzn7_",
        "outputId": "2c04a937-e1cb-4cd7-95ba-b42eb697609f"
      },
      "source": [
        "%%time \n",
        "import itertools \n",
        "import numpy as np\n",
        "import pandas as pd\n",
        "import scanpy as sc\n",
        "import matplotlib.pyplot as plt\n",
        "import seaborn as sns\n",
        "import os\n",
        "from sklearn.preprocessing import LabelEncoder\n",
        "from lassonet import LassoNetClassifier\n",
        "\n",
        "\n",
        "from RankCorr.picturedRocks import Rocks\n",
        "import SmashFork.smashpy as smashpy\n",
        "\n",
        "\n",
        "import torch\n",
        "from torch import nn\n",
        "from torch.autograd import Variable\n",
        "from torch.nn import functional as F\n",
        "\n",
        "from utils import *\n"
      ],
      "execution_count": null,
      "outputs": [
        {
          "output_type": "stream",
          "name": "stderr",
          "text": [
            "/usr/local/lib/python3.7/dist-packages/sklearn/externals/six.py:31: FutureWarning:\n",
            "\n",
            "The module is deprecated in version 0.21 and will be removed in version 0.23 since we've dropped support for Python 2.7. Please rely on the official version of six (https://pypi.org/project/six/).\n",
            "\n",
            "/usr/local/lib/python3.7/dist-packages/sklearn/utils/deprecation.py:144: FutureWarning:\n",
            "\n",
            "The sklearn.neighbors.base module is  deprecated in version 0.22 and will be removed in version 0.24. The corresponding classes / functions should instead be imported from sklearn.neighbors. Anything that cannot be imported from sklearn.neighbors is now part of the private API.\n",
            "\n",
            "/usr/local/lib/python3.7/dist-packages/sklearn/utils/deprecation.py:144: FutureWarning:\n",
            "\n",
            "The sklearn.ensemble.bagging module is  deprecated in version 0.22 and will be removed in version 0.24. The corresponding classes / functions should instead be imported from sklearn.ensemble. Anything that cannot be imported from sklearn.ensemble is now part of the private API.\n",
            "\n",
            "/usr/local/lib/python3.7/dist-packages/sklearn/utils/deprecation.py:144: FutureWarning:\n",
            "\n",
            "The sklearn.ensemble.base module is  deprecated in version 0.22 and will be removed in version 0.24. The corresponding classes / functions should instead be imported from sklearn.ensemble. Anything that cannot be imported from sklearn.ensemble is now part of the private API.\n",
            "\n",
            "/usr/local/lib/python3.7/dist-packages/sklearn/utils/deprecation.py:144: FutureWarning:\n",
            "\n",
            "The sklearn.ensemble.forest module is  deprecated in version 0.22 and will be removed in version 0.24. The corresponding classes / functions should instead be imported from sklearn.ensemble. Anything that cannot be imported from sklearn.ensemble is now part of the private API.\n",
            "\n",
            "/usr/local/lib/python3.7/dist-packages/sklearn/externals/joblib/__init__.py:15: FutureWarning:\n",
            "\n",
            "sklearn.externals.joblib is deprecated in 0.21 and will be removed in 0.23. Please import this functionality directly from joblib, which can be installed with: pip install joblib. If this warning is raised when loading pickled models, you may need to re-serialize those models with scikit-learn 0.21+.\n",
            "\n"
          ]
        },
        {
          "output_type": "stream",
          "name": "stdout",
          "text": [
            "CPU times: user 23.7 s, sys: 1.18 s, total: 24.9 s\n",
            "Wall time: 30.6 s\n"
          ]
        }
      ]
    },
    {
      "cell_type": "code",
      "metadata": {
        "id": "VH7bxl6U3CUC"
      },
      "source": [
        "from os import path"
      ],
      "execution_count": null,
      "outputs": []
    },
    {
      "cell_type": "code",
      "metadata": {
        "id": "2BQ8JwQoyXhv"
      },
      "source": [
        "model_save_path = '/content/gdrive/MyDrive/Differentiable-Sparse-Subset-Selection/data/{}/models/'\n",
        "num_times = 5\n",
        "\n",
        "  "
      ],
      "execution_count": null,
      "outputs": []
    },
    {
      "cell_type": "markdown",
      "metadata": {
        "id": "r49opYsbRZm0"
      },
      "source": [
        "## Accuracies and F1"
      ]
    },
    {
      "cell_type": "code",
      "metadata": {
        "id": "tKWyrk-evGB-"
      },
      "source": [
        "data_locations = [\n",
        "                  'CITE-seq',\n",
        "                  'developmental_mouse',\n",
        "                  'mouse_brain_broad',\n",
        "                  'paul',\n",
        "                  'zeisel',\n",
        "                  'synthetic'\n",
        "]"
      ],
      "execution_count": null,
      "outputs": []
    },
    {
      "cell_type": "code",
      "metadata": {
        "id": "ERHoimmNx4HT"
      },
      "source": [
        "result_axis = [\n",
        " ('All Markers', 'all_markers_results_{}.npy', 'all_markers_knn_results_{}.npy'), \n",
        " ('L1 VAE', 'l1_vae_results_{}.npy', 'l1_vae_knn_results_{}.npy'),\n",
        " ('Smash RF', 'smash_rf_results_{}.npy', 'smash_rf_knn_results_{}.npy'),\n",
        " ('SMaSH DNN', 'smash_results_{}.npy', 'smash_knn_results_{}.npy'),\n",
        " ('RankCorr', 'rankcorr_results_{}.npy', 'rankcorr_knn_results_{}.npy'),\n",
        " ('Global Gate VAE', 'globalgate_vae_results_{}.npy', 'globalgate_vae_knn_results_{}.npy'),\n",
        " ('RunningGumbel VAE', 'runningstate_vae_results_{}.npy', 'runningstate_vae_knn_results_{}.npy'),\n",
        " ('RunningGumbel Classifier', 'runningstate_classifier_results_{}.npy', 'runningstate_classifier_knn_results_{}.npy'),\n",
        " ('RunningGumbel VAE+Classifier', 'runningstate_vae+classifier_results_{}.npy', 'runningstate_vae+classifier_knn_results_{}.npy'),\n",
        " ('Concrete VAE',  'concrete_vae_results_{}.npy', 'concrete_vae_knn_results_{}.npy'),\n",
        " ('LassoNet', 'lasso_net_results_{}.npy', 'lasso_net_knn_results_{}.npy')\n",
        "]"
      ],
      "execution_count": null,
      "outputs": []
    },
    {
      "cell_type": "markdown",
      "metadata": {
        "id": "5UIJ7yMcyFSK"
      },
      "source": [
        "## Random Forest"
      ]
    },
    {
      "cell_type": "code",
      "metadata": {
        "id": "MSIKDmNsvkbe",
        "colab": {
          "base_uri": "https://localhost:8080/",
          "height": 235
        },
        "outputId": "4bb6e285-5a90-4a7f-fe98-b779bdc474d1"
      },
      "source": [
        "results = {}\n",
        "for e, axis in itertools.product(data_locations, result_axis):\n",
        "    m, f1, _, _ = model_variances(model_save_path.format(e) + axis[1], num_times)\n",
        "    m = round(m, 3)\n",
        "    f1 = round(f1, 3)\n",
        "    if axis[0] in results:\n",
        "        results[axis[0]][e] = (m, f1)\n",
        "    else:\n",
        "        results[axis[0]] = {}\n",
        "        results[axis[0]][e] = (m, f1)\n",
        "\n",
        "tabulated_results1 = pd.DataFrame(results)\n",
        "tabulated_results1"
      ],
      "execution_count": null,
      "outputs": [
        {
          "output_type": "execute_result",
          "data": {
            "text/html": [
              "<div>\n",
              "<style scoped>\n",
              "    .dataframe tbody tr th:only-of-type {\n",
              "        vertical-align: middle;\n",
              "    }\n",
              "\n",
              "    .dataframe tbody tr th {\n",
              "        vertical-align: top;\n",
              "    }\n",
              "\n",
              "    .dataframe thead th {\n",
              "        text-align: right;\n",
              "    }\n",
              "</style>\n",
              "<table border=\"1\" class=\"dataframe\">\n",
              "  <thead>\n",
              "    <tr style=\"text-align: right;\">\n",
              "      <th></th>\n",
              "      <th>All Markers</th>\n",
              "      <th>L1 VAE</th>\n",
              "      <th>Smash RF</th>\n",
              "      <th>SMaSH DNN</th>\n",
              "      <th>RankCorr</th>\n",
              "      <th>Global Gate VAE</th>\n",
              "      <th>RunningGumbel VAE</th>\n",
              "      <th>RunningGumbel Classifier</th>\n",
              "      <th>RunningGumbel VAE+Classifier</th>\n",
              "      <th>Concrete VAE</th>\n",
              "      <th>LassoNet</th>\n",
              "    </tr>\n",
              "  </thead>\n",
              "  <tbody>\n",
              "    <tr>\n",
              "      <th>CITE-seq</th>\n",
              "      <td>(0.072, 0.907)</td>\n",
              "      <td>(0.123, 0.845)</td>\n",
              "      <td>(0.069, 0.915)</td>\n",
              "      <td>(0.067, 0.917)</td>\n",
              "      <td>(0.069, 0.912)</td>\n",
              "      <td>(0.126, 0.837)</td>\n",
              "      <td>(0.093, 0.882)</td>\n",
              "      <td>(0.063, 0.924)</td>\n",
              "      <td>(0.065, 0.921)</td>\n",
              "      <td>(0.124, 0.838)</td>\n",
              "      <td>(0.067, 0.919)</td>\n",
              "    </tr>\n",
              "    <tr>\n",
              "      <th>developmental_mouse</th>\n",
              "      <td>(0.135, 0.856)</td>\n",
              "      <td>(0.354, 0.622)</td>\n",
              "      <td>(0.138, 0.858)</td>\n",
              "      <td>(0.596, 0.392)</td>\n",
              "      <td>(0.135, 0.861)</td>\n",
              "      <td>(0.335, 0.661)</td>\n",
              "      <td>(0.281, 0.697)</td>\n",
              "      <td>(0.088, 0.908)</td>\n",
              "      <td>(0.246, 0.746)</td>\n",
              "      <td>(0.438, 0.533)</td>\n",
              "      <td>(0.092, 0.903)</td>\n",
              "    </tr>\n",
              "    <tr>\n",
              "      <th>mouse_brain_broad</th>\n",
              "      <td>(0.009, 0.991)</td>\n",
              "      <td>(0.148, 0.841)</td>\n",
              "      <td>(0.018, 0.982)</td>\n",
              "      <td>(0.014, 0.985)</td>\n",
              "      <td>(0.03, 0.969)</td>\n",
              "      <td>(0.09, 0.904)</td>\n",
              "      <td>(0.011, 0.989)</td>\n",
              "      <td>(0.005, 0.995)</td>\n",
              "      <td>(0.015, 0.985)</td>\n",
              "      <td>(0.163, 0.826)</td>\n",
              "      <td>(0.008, 0.992)</td>\n",
              "    </tr>\n",
              "    <tr>\n",
              "      <th>paul</th>\n",
              "      <td>(0.188, 0.792)</td>\n",
              "      <td>(0.534, 0.397)</td>\n",
              "      <td>(0.116, 0.881)</td>\n",
              "      <td>(0.192, 0.797)</td>\n",
              "      <td>(0.147, 0.847)</td>\n",
              "      <td>(0.362, 0.598)</td>\n",
              "      <td>(0.13, 0.868)</td>\n",
              "      <td>(0.139, 0.858)</td>\n",
              "      <td>(0.144, 0.852)</td>\n",
              "      <td>(0.412, 0.541)</td>\n",
              "      <td>(0.122, 0.873)</td>\n",
              "    </tr>\n",
              "    <tr>\n",
              "      <th>zeisel</th>\n",
              "      <td>(0.046, 0.952)</td>\n",
              "      <td>(0.235, 0.743)</td>\n",
              "      <td>(0.049, 0.95)</td>\n",
              "      <td>(0.08, 0.918)</td>\n",
              "      <td>(0.053, 0.946)</td>\n",
              "      <td>(0.203, 0.783)</td>\n",
              "      <td>(0.155, 0.835)</td>\n",
              "      <td>(0.049, 0.95)</td>\n",
              "      <td>(0.056, 0.943)</td>\n",
              "      <td>(0.198, 0.791)</td>\n",
              "      <td>(0.049, 0.95)</td>\n",
              "    </tr>\n",
              "    <tr>\n",
              "      <th>synthetic</th>\n",
              "      <td>(0.098, 0.901)</td>\n",
              "      <td>(0.118, 0.882)</td>\n",
              "      <td>(0.106, 0.893)</td>\n",
              "      <td>(0.098, 0.901)</td>\n",
              "      <td>(0.109, 0.891)</td>\n",
              "      <td>(0.156, 0.841)</td>\n",
              "      <td>(0.119, 0.881)</td>\n",
              "      <td>(0.088, 0.911)</td>\n",
              "      <td>(0.115, 0.885)</td>\n",
              "      <td>(0.146, 0.852)</td>\n",
              "      <td>(0.087, 0.912)</td>\n",
              "    </tr>\n",
              "  </tbody>\n",
              "</table>\n",
              "</div>"
            ],
            "text/plain": [
              "                        All Markers  ...        LassoNet\n",
              "CITE-seq             (0.072, 0.907)  ...  (0.067, 0.919)\n",
              "developmental_mouse  (0.135, 0.856)  ...  (0.092, 0.903)\n",
              "mouse_brain_broad    (0.009, 0.991)  ...  (0.008, 0.992)\n",
              "paul                 (0.188, 0.792)  ...  (0.122, 0.873)\n",
              "zeisel               (0.046, 0.952)  ...   (0.049, 0.95)\n",
              "synthetic            (0.098, 0.901)  ...  (0.087, 0.912)\n",
              "\n",
              "[6 rows x 11 columns]"
            ]
          },
          "metadata": {},
          "execution_count": 10
        }
      ]
    },
    {
      "cell_type": "markdown",
      "metadata": {
        "id": "Hd-5oYbQyGz6"
      },
      "source": [
        "## KNN"
      ]
    },
    {
      "cell_type": "code",
      "metadata": {
        "colab": {
          "base_uri": "https://localhost:8080/",
          "height": 235
        },
        "id": "bp0vY2tL2eRX",
        "outputId": "a4b9713a-b8a8-40c2-ac44-54c4bb296992"
      },
      "source": [
        "results = {}\n",
        "for e, axis in itertools.product(data_locations, result_axis):\n",
        "    m, f1, _, _ = model_variances(model_save_path.format(e) + axis[2], num_times)\n",
        "    m = round(m, 3)\n",
        "    f1 = round(f1, 3)\n",
        "    if axis[0] in results:\n",
        "        results[axis[0]][e] = (m, f1)\n",
        "    else:\n",
        "        results[axis[0]] = {}\n",
        "        results[axis[0]][e] = (m, f1)\n",
        "\n",
        "tabulated_results2 = pd.DataFrame(results)\n",
        "tabulated_results2"
      ],
      "execution_count": null,
      "outputs": [
        {
          "output_type": "execute_result",
          "data": {
            "text/html": [
              "<div>\n",
              "<style scoped>\n",
              "    .dataframe tbody tr th:only-of-type {\n",
              "        vertical-align: middle;\n",
              "    }\n",
              "\n",
              "    .dataframe tbody tr th {\n",
              "        vertical-align: top;\n",
              "    }\n",
              "\n",
              "    .dataframe thead th {\n",
              "        text-align: right;\n",
              "    }\n",
              "</style>\n",
              "<table border=\"1\" class=\"dataframe\">\n",
              "  <thead>\n",
              "    <tr style=\"text-align: right;\">\n",
              "      <th></th>\n",
              "      <th>All Markers</th>\n",
              "      <th>L1 VAE</th>\n",
              "      <th>Smash RF</th>\n",
              "      <th>SMaSH DNN</th>\n",
              "      <th>RankCorr</th>\n",
              "      <th>Global Gate VAE</th>\n",
              "      <th>RunningGumbel VAE</th>\n",
              "      <th>RunningGumbel Classifier</th>\n",
              "      <th>RunningGumbel VAE+Classifier</th>\n",
              "      <th>Concrete VAE</th>\n",
              "      <th>LassoNet</th>\n",
              "    </tr>\n",
              "  </thead>\n",
              "  <tbody>\n",
              "    <tr>\n",
              "      <th>CITE-seq</th>\n",
              "      <td>(0.093, 0.904)</td>\n",
              "      <td>(0.178, 0.798)</td>\n",
              "      <td>(0.073, 0.915)</td>\n",
              "      <td>(0.067, 0.921)</td>\n",
              "      <td>(0.081, 0.905)</td>\n",
              "      <td>(0.2, 0.77)</td>\n",
              "      <td>(0.116, 0.874)</td>\n",
              "      <td>(0.062, 0.929)</td>\n",
              "      <td>(0.069, 0.921)</td>\n",
              "      <td>(0.182, 0.789)</td>\n",
              "      <td>(0.064, 0.928)</td>\n",
              "    </tr>\n",
              "    <tr>\n",
              "      <th>developmental_mouse</th>\n",
              "      <td>(0.462, 0.48)</td>\n",
              "      <td>(0.519, 0.475)</td>\n",
              "      <td>(0.227, 0.775)</td>\n",
              "      <td>(0.696, 0.277)</td>\n",
              "      <td>(0.208, 0.782)</td>\n",
              "      <td>(0.477, 0.513)</td>\n",
              "      <td>(0.396, 0.589)</td>\n",
              "      <td>(0.115, 0.883)</td>\n",
              "      <td>(0.308, 0.688)</td>\n",
              "      <td>(0.577, 0.411)</td>\n",
              "      <td>(0.142, 0.845)</td>\n",
              "    </tr>\n",
              "    <tr>\n",
              "      <th>mouse_brain_broad</th>\n",
              "      <td>(0.099, 0.889)</td>\n",
              "      <td>(0.232, 0.742)</td>\n",
              "      <td>(0.028, 0.972)</td>\n",
              "      <td>(0.014, 0.985)</td>\n",
              "      <td>(0.04, 0.96)</td>\n",
              "      <td>(0.138, 0.851)</td>\n",
              "      <td>(0.014, 0.986)</td>\n",
              "      <td>(0.006, 0.994)</td>\n",
              "      <td>(0.02, 0.979)</td>\n",
              "      <td>(0.238, 0.74)</td>\n",
              "      <td>(0.009, 0.991)</td>\n",
              "    </tr>\n",
              "    <tr>\n",
              "      <th>paul</th>\n",
              "      <td>(0.331, 0.594)</td>\n",
              "      <td>(0.589, 0.37)</td>\n",
              "      <td>(0.212, 0.772)</td>\n",
              "      <td>(0.294, 0.677)</td>\n",
              "      <td>(0.249, 0.739)</td>\n",
              "      <td>(0.416, 0.553)</td>\n",
              "      <td>(0.244, 0.747)</td>\n",
              "      <td>(0.226, 0.766)</td>\n",
              "      <td>(0.274, 0.712)</td>\n",
              "      <td>(0.477, 0.488)</td>\n",
              "      <td>(0.226, 0.762)</td>\n",
              "    </tr>\n",
              "    <tr>\n",
              "      <th>zeisel</th>\n",
              "      <td>(0.05, 0.95)</td>\n",
              "      <td>(0.308, 0.677)</td>\n",
              "      <td>(0.055, 0.945)</td>\n",
              "      <td>(0.094, 0.904)</td>\n",
              "      <td>(0.056, 0.943)</td>\n",
              "      <td>(0.275, 0.713)</td>\n",
              "      <td>(0.185, 0.806)</td>\n",
              "      <td>(0.04, 0.96)</td>\n",
              "      <td>(0.067, 0.931)</td>\n",
              "      <td>(0.272, 0.711)</td>\n",
              "      <td>(0.061, 0.935)</td>\n",
              "    </tr>\n",
              "    <tr>\n",
              "      <th>synthetic</th>\n",
              "      <td>(0.216, 0.767)</td>\n",
              "      <td>(0.223, 0.763)</td>\n",
              "      <td>(0.177, 0.813)</td>\n",
              "      <td>(0.159, 0.832)</td>\n",
              "      <td>(0.179, 0.808)</td>\n",
              "      <td>(0.342, 0.64)</td>\n",
              "      <td>(0.203, 0.785)</td>\n",
              "      <td>(0.143, 0.851)</td>\n",
              "      <td>(0.221, 0.764)</td>\n",
              "      <td>(0.335, 0.649)</td>\n",
              "      <td>(0.139, 0.856)</td>\n",
              "    </tr>\n",
              "  </tbody>\n",
              "</table>\n",
              "</div>"
            ],
            "text/plain": [
              "                        All Markers  ...        LassoNet\n",
              "CITE-seq             (0.093, 0.904)  ...  (0.064, 0.928)\n",
              "developmental_mouse   (0.462, 0.48)  ...  (0.142, 0.845)\n",
              "mouse_brain_broad    (0.099, 0.889)  ...  (0.009, 0.991)\n",
              "paul                 (0.331, 0.594)  ...  (0.226, 0.762)\n",
              "zeisel                 (0.05, 0.95)  ...  (0.061, 0.935)\n",
              "synthetic            (0.216, 0.767)  ...  (0.139, 0.856)\n",
              "\n",
              "[6 rows x 11 columns]"
            ]
          },
          "metadata": {},
          "execution_count": 11
        }
      ]
    },
    {
      "cell_type": "code",
      "metadata": {
        "id": "wEV2Mxvvx9jM"
      },
      "source": [
        ""
      ],
      "execution_count": null,
      "outputs": []
    },
    {
      "cell_type": "markdown",
      "metadata": {
        "id": "lovmWqny--ht"
      },
      "source": [
        "## Difference between results"
      ]
    },
    {
      "cell_type": "code",
      "metadata": {
        "colab": {
          "base_uri": "https://localhost:8080/",
          "height": 235
        },
        "id": "abTYT-fLTLCz",
        "outputId": "d8b66da1-e68e-4bd1-b894-13ba0440ef56"
      },
      "source": [
        "results = {}\n",
        "for e, axis in itertools.product(data_locations, result_axis):\n",
        "    m1, f11, _, _ = model_variances(model_save_path.format(e) + axis[1], num_times)\n",
        "    m2, f12, _, _ = model_variances(model_save_path.format(e) + axis[2], num_times)\n",
        "    m = round(m1-m2, 3)\n",
        "    f1 = round(f11-f12, 3)\n",
        "    if axis[0] in results:\n",
        "        results[axis[0]][e] = (m, f1)\n",
        "    else:\n",
        "        results[axis[0]] = {}\n",
        "        results[axis[0]][e] = (m, f1)\n",
        "\n",
        "tabulated_results3 = pd.DataFrame(results)\n",
        "tabulated_results3"
      ],
      "execution_count": null,
      "outputs": [
        {
          "output_type": "execute_result",
          "data": {
            "text/html": [
              "<div>\n",
              "<style scoped>\n",
              "    .dataframe tbody tr th:only-of-type {\n",
              "        vertical-align: middle;\n",
              "    }\n",
              "\n",
              "    .dataframe tbody tr th {\n",
              "        vertical-align: top;\n",
              "    }\n",
              "\n",
              "    .dataframe thead th {\n",
              "        text-align: right;\n",
              "    }\n",
              "</style>\n",
              "<table border=\"1\" class=\"dataframe\">\n",
              "  <thead>\n",
              "    <tr style=\"text-align: right;\">\n",
              "      <th></th>\n",
              "      <th>All Markers</th>\n",
              "      <th>L1 VAE</th>\n",
              "      <th>Smash RF</th>\n",
              "      <th>SMaSH DNN</th>\n",
              "      <th>RankCorr</th>\n",
              "      <th>Global Gate VAE</th>\n",
              "      <th>RunningGumbel VAE</th>\n",
              "      <th>RunningGumbel Classifier</th>\n",
              "      <th>RunningGumbel VAE+Classifier</th>\n",
              "      <th>Concrete VAE</th>\n",
              "      <th>LassoNet</th>\n",
              "    </tr>\n",
              "  </thead>\n",
              "  <tbody>\n",
              "    <tr>\n",
              "      <th>CITE-seq</th>\n",
              "      <td>(-0.021, 0.003)</td>\n",
              "      <td>(-0.055, 0.047)</td>\n",
              "      <td>(-0.004, 0.001)</td>\n",
              "      <td>(0.0, -0.003)</td>\n",
              "      <td>(-0.012, 0.007)</td>\n",
              "      <td>(-0.074, 0.067)</td>\n",
              "      <td>(-0.023, 0.008)</td>\n",
              "      <td>(0.001, -0.005)</td>\n",
              "      <td>(-0.004, 0.0)</td>\n",
              "      <td>(-0.058, 0.049)</td>\n",
              "      <td>(0.003, -0.009)</td>\n",
              "    </tr>\n",
              "    <tr>\n",
              "      <th>developmental_mouse</th>\n",
              "      <td>(-0.327, 0.376)</td>\n",
              "      <td>(-0.165, 0.147)</td>\n",
              "      <td>(-0.088, 0.083)</td>\n",
              "      <td>(-0.1, 0.115)</td>\n",
              "      <td>(-0.073, 0.079)</td>\n",
              "      <td>(-0.142, 0.148)</td>\n",
              "      <td>(-0.115, 0.108)</td>\n",
              "      <td>(-0.027, 0.025)</td>\n",
              "      <td>(-0.062, 0.058)</td>\n",
              "      <td>(-0.138, 0.121)</td>\n",
              "      <td>(-0.05, 0.058)</td>\n",
              "    </tr>\n",
              "    <tr>\n",
              "      <th>mouse_brain_broad</th>\n",
              "      <td>(-0.09, 0.102)</td>\n",
              "      <td>(-0.084, 0.1)</td>\n",
              "      <td>(-0.01, 0.01)</td>\n",
              "      <td>(0.0, -0.0)</td>\n",
              "      <td>(-0.01, 0.01)</td>\n",
              "      <td>(-0.049, 0.053)</td>\n",
              "      <td>(-0.003, 0.003)</td>\n",
              "      <td>(-0.0, 0.0)</td>\n",
              "      <td>(-0.005, 0.005)</td>\n",
              "      <td>(-0.075, 0.087)</td>\n",
              "      <td>(-0.001, 0.001)</td>\n",
              "    </tr>\n",
              "    <tr>\n",
              "      <th>paul</th>\n",
              "      <td>(-0.143, 0.198)</td>\n",
              "      <td>(-0.054, 0.027)</td>\n",
              "      <td>(-0.096, 0.109)</td>\n",
              "      <td>(-0.102, 0.12)</td>\n",
              "      <td>(-0.101, 0.108)</td>\n",
              "      <td>(-0.055, 0.045)</td>\n",
              "      <td>(-0.114, 0.121)</td>\n",
              "      <td>(-0.087, 0.093)</td>\n",
              "      <td>(-0.13, 0.139)</td>\n",
              "      <td>(-0.066, 0.053)</td>\n",
              "      <td>(-0.104, 0.111)</td>\n",
              "    </tr>\n",
              "    <tr>\n",
              "      <th>zeisel</th>\n",
              "      <td>(-0.003, 0.002)</td>\n",
              "      <td>(-0.073, 0.066)</td>\n",
              "      <td>(-0.006, 0.006)</td>\n",
              "      <td>(-0.013, 0.014)</td>\n",
              "      <td>(-0.002, 0.003)</td>\n",
              "      <td>(-0.072, 0.07)</td>\n",
              "      <td>(-0.03, 0.029)</td>\n",
              "      <td>(0.009, -0.01)</td>\n",
              "      <td>(-0.012, 0.012)</td>\n",
              "      <td>(-0.074, 0.08)</td>\n",
              "      <td>(-0.012, 0.015)</td>\n",
              "    </tr>\n",
              "    <tr>\n",
              "      <th>synthetic</th>\n",
              "      <td>(-0.117, 0.134)</td>\n",
              "      <td>(-0.105, 0.119)</td>\n",
              "      <td>(-0.071, 0.081)</td>\n",
              "      <td>(-0.061, 0.069)</td>\n",
              "      <td>(-0.07, 0.083)</td>\n",
              "      <td>(-0.186, 0.201)</td>\n",
              "      <td>(-0.084, 0.096)</td>\n",
              "      <td>(-0.055, 0.06)</td>\n",
              "      <td>(-0.106, 0.121)</td>\n",
              "      <td>(-0.189, 0.203)</td>\n",
              "      <td>(-0.051, 0.057)</td>\n",
              "    </tr>\n",
              "  </tbody>\n",
              "</table>\n",
              "</div>"
            ],
            "text/plain": [
              "                         All Markers  ...         LassoNet\n",
              "CITE-seq             (-0.021, 0.003)  ...  (0.003, -0.009)\n",
              "developmental_mouse  (-0.327, 0.376)  ...   (-0.05, 0.058)\n",
              "mouse_brain_broad     (-0.09, 0.102)  ...  (-0.001, 0.001)\n",
              "paul                 (-0.143, 0.198)  ...  (-0.104, 0.111)\n",
              "zeisel               (-0.003, 0.002)  ...  (-0.012, 0.015)\n",
              "synthetic            (-0.117, 0.134)  ...  (-0.051, 0.057)\n",
              "\n",
              "[6 rows x 11 columns]"
            ]
          },
          "metadata": {},
          "execution_count": 12
        }
      ]
    },
    {
      "cell_type": "markdown",
      "metadata": {
        "id": "Ika1YZkURQr0"
      },
      "source": [
        "# Things to note for paper\n",
        "\n",
        "PySmash uses a seed internally so the model is deterministic to a particular dataset. We used various different train seeds, whereas the smash paper uses the whole dataset for the data."
      ]
    },
    {
      "cell_type": "code",
      "metadata": {
        "id": "-aGZeycHRS6D"
      },
      "source": [
        ""
      ],
      "execution_count": null,
      "outputs": []
    },
    {
      "cell_type": "code",
      "metadata": {
        "id": "4zqvDbQ3fi_p"
      },
      "source": [
        ""
      ],
      "execution_count": null,
      "outputs": []
    }
  ]
}