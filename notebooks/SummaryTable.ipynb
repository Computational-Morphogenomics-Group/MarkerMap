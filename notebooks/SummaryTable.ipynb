{
 "cells": [
  {
   "cell_type": "markdown",
   "metadata": {
    "id": "kuKoVgDwzrgo"
   },
   "source": [
    "# All the Imports"
   ]
  },
  {
   "cell_type": "code",
   "execution_count": 1,
   "metadata": {},
   "outputs": [],
   "source": [
    "import sys\n",
    "import os\n",
    "import logging\n",
    "sys.path.insert(1, '../src/')"
   ]
  },
  {
   "cell_type": "code",
   "execution_count": 2,
   "metadata": {
    "colab": {
     "base_uri": "https://localhost:8080/"
    },
    "id": "ZgkcUm9Pzn7_",
    "outputId": "2c04a937-e1cb-4cd7-95ba-b42eb697609f"
   },
   "outputs": [
    {
     "name": "stdout",
     "output_type": "stream",
     "text": [
      "CPU times: user 9.83 s, sys: 528 ms, total: 10.4 s\n",
      "Wall time: 10.4 s\n"
     ]
    }
   ],
   "source": [
    "%%time \n",
    "import itertools \n",
    "import numpy as np\n",
    "import pandas as pd\n",
    "import scanpy as sc\n",
    "import matplotlib.pyplot as plt\n",
    "import seaborn as sns\n",
    "import os\n",
    "from sklearn.preprocessing import LabelEncoder\n",
    "from lassonet import LassoNetClassifier\n",
    "\n",
    "\n",
    "from RankCorr.picturedRocks import Rocks\n",
    "import smashpy as smashpy\n",
    "\n",
    "\n",
    "import torch\n",
    "from torch import nn\n",
    "from torch.autograd import Variable\n",
    "from torch.nn import functional as F\n",
    "\n",
    "from utils import *\n"
   ]
  },
  {
   "cell_type": "code",
   "execution_count": 3,
   "metadata": {
    "id": "VH7bxl6U3CUC"
   },
   "outputs": [],
   "source": [
    "from os import path"
   ]
  },
  {
   "cell_type": "code",
   "execution_count": 4,
   "metadata": {
    "id": "2BQ8JwQoyXhv"
   },
   "outputs": [],
   "source": [
    "model_save_path = '../data/{}/models/'\n",
    "num_times = 10\n",
    "\n",
    "  "
   ]
  },
  {
   "cell_type": "markdown",
   "metadata": {
    "id": "r49opYsbRZm0"
   },
   "source": []
  },
  {
   "cell_type": "code",
   "execution_count": 5,
   "metadata": {
    "id": "tKWyrk-evGB-"
   },
   "outputs": [],
   "source": [
    "data_locations = [\n",
    "                  'CITE-seq',\n",
    "                 # 'developmental_mouse',\n",
    "                  'mouse_brain_broad',\n",
    "                  'paul',\n",
    "                  'zeisel'\n",
    "                 # 'synthetic'\n",
    "]"
   ]
  },
  {
   "cell_type": "code",
   "execution_count": 6,
   "metadata": {
    "id": "ERHoimmNx4HT"
   },
   "outputs": [],
   "source": [
    "result_axis = [\n",
    " ('All Markers', 'all_markers_results_{}.npy', 'all_markers_knn_results_{}.npy'), \n",
    " ('L1 VAE', 'l1_vae_results_{}.npy', 'l1_vae_knn_results_{}.npy'),\n",
    " ('Smash RF', 'smash_rf_results_{}.npy', 'smash_rf_knn_results_{}.npy'),\n",
    " ('SMaSH DNN', 'smash_results_{}.npy', 'smash_knn_results_{}.npy'),\n",
    " ('RankCorr', 'rankcorr_results_{}.npy', 'rankcorr_knn_results_{}.npy'),\n",
    " ('Global Gate VAE', 'globalgate_vae_results_{}.npy', 'globalgate_vae_knn_results_{}.npy'),\n",
    " ('MarkerMap Unsupervised', 'marker_map_unsupervised_results_{}.npy', 'marker_map_unsupervised_knn_results_{}.npy'),\n",
    " ('MarkerMap Supervised', 'marker_map_supervised_results_{}.npy', 'marker_map_supervised_knn_results_{}.npy'),\n",
    " ('MarkerMap Mixed Supervision', 'marker_map_mixed_results_{}.npy', 'marker_map_mixed_knn_results_{}.npy'),\n",
    " ('Concrete VAE',  'concrete_vae_results_{}.npy', 'concrete_vae_knn_results_{}.npy'),\n",
    " ('LassoNet', 'lasso_net_results_{}.npy', 'lasso_net_knn_results_{}.npy')\n",
    "]"
   ]
  },
  {
   "cell_type": "markdown",
   "metadata": {},
   "source": [
    "## Mean Accuracies and F1"
   ]
  },
  {
   "cell_type": "markdown",
   "metadata": {
    "id": "5UIJ7yMcyFSK"
   },
   "source": [
    "### Random Forest"
   ]
  },
  {
   "cell_type": "code",
   "execution_count": 7,
   "metadata": {
    "colab": {
     "base_uri": "https://localhost:8080/",
     "height": 235
    },
    "id": "MSIKDmNsvkbe",
    "outputId": "4bb6e285-5a90-4a7f-fe98-b779bdc474d1"
   },
   "outputs": [
    {
     "data": {
      "text/html": [
       "<div>\n",
       "<style scoped>\n",
       "    .dataframe tbody tr th:only-of-type {\n",
       "        vertical-align: middle;\n",
       "    }\n",
       "\n",
       "    .dataframe tbody tr th {\n",
       "        vertical-align: top;\n",
       "    }\n",
       "\n",
       "    .dataframe thead th {\n",
       "        text-align: right;\n",
       "    }\n",
       "</style>\n",
       "<table border=\"1\" class=\"dataframe\">\n",
       "  <thead>\n",
       "    <tr style=\"text-align: right;\">\n",
       "      <th></th>\n",
       "      <th>All Markers</th>\n",
       "      <th>L1 VAE</th>\n",
       "      <th>Smash RF</th>\n",
       "      <th>SMaSH DNN</th>\n",
       "      <th>RankCorr</th>\n",
       "      <th>Global Gate VAE</th>\n",
       "      <th>MarkerMap Unsupervised</th>\n",
       "      <th>MarkerMap Supervised</th>\n",
       "      <th>MarkerMap Mixed Supervision</th>\n",
       "      <th>Concrete VAE</th>\n",
       "      <th>LassoNet</th>\n",
       "    </tr>\n",
       "  </thead>\n",
       "  <tbody>\n",
       "    <tr>\n",
       "      <th>CITE-seq</th>\n",
       "      <td>(0.076, 0.901)</td>\n",
       "      <td>(0.132, 0.83)</td>\n",
       "      <td>(0.064, 0.919)</td>\n",
       "      <td>(0.067, 0.917)</td>\n",
       "      <td>(0.066, 0.916)</td>\n",
       "      <td>(0.132, 0.83)</td>\n",
       "      <td>(0.091, 0.885)</td>\n",
       "      <td>(0.063, 0.924)</td>\n",
       "      <td>(0.065, 0.92)</td>\n",
       "      <td>(0.127, 0.836)</td>\n",
       "      <td>(0.062, 0.924)</td>\n",
       "    </tr>\n",
       "    <tr>\n",
       "      <th>mouse_brain_broad</th>\n",
       "      <td>(0.009, 0.991)</td>\n",
       "      <td>(0.163, 0.827)</td>\n",
       "      <td>(0.016, 0.984)</td>\n",
       "      <td>(0.013, 0.987)</td>\n",
       "      <td>(0.031, 0.969)</td>\n",
       "      <td>(0.089, 0.906)</td>\n",
       "      <td>(0.013, 0.987)</td>\n",
       "      <td>(0.006, 0.994)</td>\n",
       "      <td>(0.031, 0.969)</td>\n",
       "      <td>(0.126, 0.865)</td>\n",
       "      <td>(0.008, 0.991)</td>\n",
       "    </tr>\n",
       "    <tr>\n",
       "      <th>paul</th>\n",
       "      <td>(0.184, 0.796)</td>\n",
       "      <td>(0.531, 0.406)</td>\n",
       "      <td>(0.114, 0.883)</td>\n",
       "      <td>(0.17, 0.817)</td>\n",
       "      <td>(0.149, 0.845)</td>\n",
       "      <td>(0.382, 0.573)</td>\n",
       "      <td>(0.139, 0.856)</td>\n",
       "      <td>(0.108, 0.889)</td>\n",
       "      <td>(0.138, 0.857)</td>\n",
       "      <td>(0.398, 0.555)</td>\n",
       "      <td>(0.126, 0.868)</td>\n",
       "    </tr>\n",
       "    <tr>\n",
       "      <th>zeisel</th>\n",
       "      <td>(0.042, 0.957)</td>\n",
       "      <td>(0.192, 0.794)</td>\n",
       "      <td>(0.049, 0.951)</td>\n",
       "      <td>(0.086, 0.911)</td>\n",
       "      <td>(0.045, 0.954)</td>\n",
       "      <td>(0.187, 0.801)</td>\n",
       "      <td>(0.124, 0.868)</td>\n",
       "      <td>(0.045, 0.955)</td>\n",
       "      <td>(0.066, 0.931)</td>\n",
       "      <td>(0.2, 0.785)</td>\n",
       "      <td>(0.054, 0.945)</td>\n",
       "    </tr>\n",
       "  </tbody>\n",
       "</table>\n",
       "</div>"
      ],
      "text/plain": [
       "                      All Markers          L1 VAE        Smash RF  \\\n",
       "CITE-seq           (0.076, 0.901)   (0.132, 0.83)  (0.064, 0.919)   \n",
       "mouse_brain_broad  (0.009, 0.991)  (0.163, 0.827)  (0.016, 0.984)   \n",
       "paul               (0.184, 0.796)  (0.531, 0.406)  (0.114, 0.883)   \n",
       "zeisel             (0.042, 0.957)  (0.192, 0.794)  (0.049, 0.951)   \n",
       "\n",
       "                        SMaSH DNN        RankCorr Global Gate VAE  \\\n",
       "CITE-seq           (0.067, 0.917)  (0.066, 0.916)   (0.132, 0.83)   \n",
       "mouse_brain_broad  (0.013, 0.987)  (0.031, 0.969)  (0.089, 0.906)   \n",
       "paul                (0.17, 0.817)  (0.149, 0.845)  (0.382, 0.573)   \n",
       "zeisel             (0.086, 0.911)  (0.045, 0.954)  (0.187, 0.801)   \n",
       "\n",
       "                  MarkerMap Unsupervised MarkerMap Supervised  \\\n",
       "CITE-seq                  (0.091, 0.885)       (0.063, 0.924)   \n",
       "mouse_brain_broad         (0.013, 0.987)       (0.006, 0.994)   \n",
       "paul                      (0.139, 0.856)       (0.108, 0.889)   \n",
       "zeisel                    (0.124, 0.868)       (0.045, 0.955)   \n",
       "\n",
       "                  MarkerMap Mixed Supervision    Concrete VAE        LassoNet  \n",
       "CITE-seq                        (0.065, 0.92)  (0.127, 0.836)  (0.062, 0.924)  \n",
       "mouse_brain_broad              (0.031, 0.969)  (0.126, 0.865)  (0.008, 0.991)  \n",
       "paul                           (0.138, 0.857)  (0.398, 0.555)  (0.126, 0.868)  \n",
       "zeisel                         (0.066, 0.931)    (0.2, 0.785)  (0.054, 0.945)  "
      ]
     },
     "execution_count": 7,
     "metadata": {},
     "output_type": "execute_result"
    }
   ],
   "source": [
    "results = {}\n",
    "for e, axis in itertools.product(data_locations, result_axis):\n",
    "    m, f1, _, _ = model_variances(model_save_path.format(e) + axis[1], num_times)\n",
    "    m = round(m, 3)\n",
    "    f1 = round(f1, 3)\n",
    "    if axis[0] in results:\n",
    "        results[axis[0]][e] = (m, f1)\n",
    "    else:\n",
    "        results[axis[0]] = {}\n",
    "        results[axis[0]][e] = (m, f1)\n",
    "\n",
    "tabulated_results1 = pd.DataFrame(results)\n",
    "tabulated_results1"
   ]
  },
  {
   "cell_type": "markdown",
   "metadata": {
    "id": "Hd-5oYbQyGz6"
   },
   "source": [
    "### KNN"
   ]
  },
  {
   "cell_type": "code",
   "execution_count": 8,
   "metadata": {
    "colab": {
     "base_uri": "https://localhost:8080/",
     "height": 235
    },
    "id": "bp0vY2tL2eRX",
    "outputId": "a4b9713a-b8a8-40c2-ac44-54c4bb296992"
   },
   "outputs": [
    {
     "data": {
      "text/html": [
       "<div>\n",
       "<style scoped>\n",
       "    .dataframe tbody tr th:only-of-type {\n",
       "        vertical-align: middle;\n",
       "    }\n",
       "\n",
       "    .dataframe tbody tr th {\n",
       "        vertical-align: top;\n",
       "    }\n",
       "\n",
       "    .dataframe thead th {\n",
       "        text-align: right;\n",
       "    }\n",
       "</style>\n",
       "<table border=\"1\" class=\"dataframe\">\n",
       "  <thead>\n",
       "    <tr style=\"text-align: right;\">\n",
       "      <th></th>\n",
       "      <th>All Markers</th>\n",
       "      <th>L1 VAE</th>\n",
       "      <th>Smash RF</th>\n",
       "      <th>SMaSH DNN</th>\n",
       "      <th>RankCorr</th>\n",
       "      <th>Global Gate VAE</th>\n",
       "      <th>MarkerMap Unsupervised</th>\n",
       "      <th>MarkerMap Supervised</th>\n",
       "      <th>MarkerMap Mixed Supervision</th>\n",
       "      <th>Concrete VAE</th>\n",
       "      <th>LassoNet</th>\n",
       "    </tr>\n",
       "  </thead>\n",
       "  <tbody>\n",
       "    <tr>\n",
       "      <th>CITE-seq</th>\n",
       "      <td>(0.098, 0.898)</td>\n",
       "      <td>(0.191, 0.782)</td>\n",
       "      <td>(0.071, 0.912)</td>\n",
       "      <td>(0.066, 0.925)</td>\n",
       "      <td>(0.073, 0.913)</td>\n",
       "      <td>(0.18, 0.796)</td>\n",
       "      <td>(0.104, 0.885)</td>\n",
       "      <td>(0.062, 0.929)</td>\n",
       "      <td>(0.07, 0.92)</td>\n",
       "      <td>(0.18, 0.795)</td>\n",
       "      <td>(0.064, 0.926)</td>\n",
       "    </tr>\n",
       "    <tr>\n",
       "      <th>mouse_brain_broad</th>\n",
       "      <td>(0.103, 0.885)</td>\n",
       "      <td>(0.234, 0.744)</td>\n",
       "      <td>(0.027, 0.973)</td>\n",
       "      <td>(0.013, 0.987)</td>\n",
       "      <td>(0.041, 0.958)</td>\n",
       "      <td>(0.14, 0.848)</td>\n",
       "      <td>(0.015, 0.985)</td>\n",
       "      <td>(0.006, 0.994)</td>\n",
       "      <td>(0.041, 0.958)</td>\n",
       "      <td>(0.198, 0.782)</td>\n",
       "      <td>(0.009, 0.991)</td>\n",
       "    </tr>\n",
       "    <tr>\n",
       "      <th>paul</th>\n",
       "      <td>(0.321, 0.608)</td>\n",
       "      <td>(0.632, 0.375)</td>\n",
       "      <td>(0.217, 0.768)</td>\n",
       "      <td>(0.291, 0.676)</td>\n",
       "      <td>(0.257, 0.729)</td>\n",
       "      <td>(0.447, 0.521)</td>\n",
       "      <td>(0.268, 0.721)</td>\n",
       "      <td>(0.203, 0.789)</td>\n",
       "      <td>(0.253, 0.735)</td>\n",
       "      <td>(0.461, 0.513)</td>\n",
       "      <td>(0.228, 0.761)</td>\n",
       "    </tr>\n",
       "    <tr>\n",
       "      <th>zeisel</th>\n",
       "      <td>(0.054, 0.945)</td>\n",
       "      <td>(0.261, 0.726)</td>\n",
       "      <td>(0.047, 0.953)</td>\n",
       "      <td>(0.103, 0.892)</td>\n",
       "      <td>(0.047, 0.953)</td>\n",
       "      <td>(0.273, 0.717)</td>\n",
       "      <td>(0.153, 0.84)</td>\n",
       "      <td>(0.038, 0.961)</td>\n",
       "      <td>(0.067, 0.93)</td>\n",
       "      <td>(0.286, 0.7)</td>\n",
       "      <td>(0.059, 0.938)</td>\n",
       "    </tr>\n",
       "  </tbody>\n",
       "</table>\n",
       "</div>"
      ],
      "text/plain": [
       "                      All Markers          L1 VAE        Smash RF  \\\n",
       "CITE-seq           (0.098, 0.898)  (0.191, 0.782)  (0.071, 0.912)   \n",
       "mouse_brain_broad  (0.103, 0.885)  (0.234, 0.744)  (0.027, 0.973)   \n",
       "paul               (0.321, 0.608)  (0.632, 0.375)  (0.217, 0.768)   \n",
       "zeisel             (0.054, 0.945)  (0.261, 0.726)  (0.047, 0.953)   \n",
       "\n",
       "                        SMaSH DNN        RankCorr Global Gate VAE  \\\n",
       "CITE-seq           (0.066, 0.925)  (0.073, 0.913)   (0.18, 0.796)   \n",
       "mouse_brain_broad  (0.013, 0.987)  (0.041, 0.958)   (0.14, 0.848)   \n",
       "paul               (0.291, 0.676)  (0.257, 0.729)  (0.447, 0.521)   \n",
       "zeisel             (0.103, 0.892)  (0.047, 0.953)  (0.273, 0.717)   \n",
       "\n",
       "                  MarkerMap Unsupervised MarkerMap Supervised  \\\n",
       "CITE-seq                  (0.104, 0.885)       (0.062, 0.929)   \n",
       "mouse_brain_broad         (0.015, 0.985)       (0.006, 0.994)   \n",
       "paul                      (0.268, 0.721)       (0.203, 0.789)   \n",
       "zeisel                     (0.153, 0.84)       (0.038, 0.961)   \n",
       "\n",
       "                  MarkerMap Mixed Supervision    Concrete VAE        LassoNet  \n",
       "CITE-seq                         (0.07, 0.92)   (0.18, 0.795)  (0.064, 0.926)  \n",
       "mouse_brain_broad              (0.041, 0.958)  (0.198, 0.782)  (0.009, 0.991)  \n",
       "paul                           (0.253, 0.735)  (0.461, 0.513)  (0.228, 0.761)  \n",
       "zeisel                          (0.067, 0.93)    (0.286, 0.7)  (0.059, 0.938)  "
      ]
     },
     "execution_count": 8,
     "metadata": {},
     "output_type": "execute_result"
    }
   ],
   "source": [
    "results = {}\n",
    "for e, axis in itertools.product(data_locations, result_axis):\n",
    "    m, f1, _, _ = model_variances(model_save_path.format(e) + axis[2], num_times)\n",
    "    m = round(m, 3)\n",
    "    f1 = round(f1, 3)\n",
    "    if axis[0] in results:\n",
    "        results[axis[0]][e] = (m, f1)\n",
    "    else:\n",
    "        results[axis[0]] = {}\n",
    "        results[axis[0]][e] = (m, f1)\n",
    "\n",
    "tabulated_results2 = pd.DataFrame(results)\n",
    "tabulated_results2"
   ]
  },
  {
   "cell_type": "markdown",
   "metadata": {
    "id": "wEV2Mxvvx9jM"
   },
   "source": [
    "## Variances"
   ]
  },
  {
   "cell_type": "markdown",
   "metadata": {},
   "source": [
    "### Random Forest"
   ]
  },
  {
   "cell_type": "code",
   "execution_count": 9,
   "metadata": {},
   "outputs": [
    {
     "data": {
      "text/html": [
       "<div>\n",
       "<style scoped>\n",
       "    .dataframe tbody tr th:only-of-type {\n",
       "        vertical-align: middle;\n",
       "    }\n",
       "\n",
       "    .dataframe tbody tr th {\n",
       "        vertical-align: top;\n",
       "    }\n",
       "\n",
       "    .dataframe thead th {\n",
       "        text-align: right;\n",
       "    }\n",
       "</style>\n",
       "<table border=\"1\" class=\"dataframe\">\n",
       "  <thead>\n",
       "    <tr style=\"text-align: right;\">\n",
       "      <th></th>\n",
       "      <th>All Markers</th>\n",
       "      <th>L1 VAE</th>\n",
       "      <th>Smash RF</th>\n",
       "      <th>SMaSH DNN</th>\n",
       "      <th>RankCorr</th>\n",
       "      <th>Global Gate VAE</th>\n",
       "      <th>MarkerMap Unsupervised</th>\n",
       "      <th>MarkerMap Supervised</th>\n",
       "      <th>MarkerMap Mixed Supervision</th>\n",
       "      <th>Concrete VAE</th>\n",
       "      <th>LassoNet</th>\n",
       "    </tr>\n",
       "  </thead>\n",
       "  <tbody>\n",
       "    <tr>\n",
       "      <th>CITE-seq</th>\n",
       "      <td>(0.006872020055508, 0.010136166651257)</td>\n",
       "      <td>(0.022163617868238, 0.029416864610836)</td>\n",
       "      <td>(0.003213373314261, 0.00555966722691)</td>\n",
       "      <td>(0.00687789274143, 0.010105816083535)</td>\n",
       "      <td>(0.004733690432275, 0.006798392787681)</td>\n",
       "      <td>(0.023405501304022, 0.028250144398124)</td>\n",
       "      <td>(0.013660677767388, 0.018455912101701)</td>\n",
       "      <td>(0.005746852007657, 0.007687809743615)</td>\n",
       "      <td>(0.004614559884733, 0.006506470242331)</td>\n",
       "      <td>(0.017066085032524, 0.022632272082965)</td>\n",
       "      <td>(0.007748343145938, 0.010735006527034)</td>\n",
       "    </tr>\n",
       "    <tr>\n",
       "      <th>mouse_brain_broad</th>\n",
       "      <td>(0.001181458750686, 0.001250291767824)</td>\n",
       "      <td>(0.033728067598674, 0.03731277900943)</td>\n",
       "      <td>(0.001364153088291, 0.001306289357603)</td>\n",
       "      <td>(0.0, 0.0)</td>\n",
       "      <td>(0.002867581535675, 0.002862101977053)</td>\n",
       "      <td>(0.03134134418024, 0.033609654947977)</td>\n",
       "      <td>(0.003996364301167, 0.004190985626791)</td>\n",
       "      <td>(0.000652549771534, 0.000692909758018)</td>\n",
       "      <td>(0.014578444654082, 0.01495887722167)</td>\n",
       "      <td>(0.028334411856361, 0.030410217150315)</td>\n",
       "      <td>(0.001031501143525, 0.001119587161809)</td>\n",
       "    </tr>\n",
       "    <tr>\n",
       "      <th>paul</th>\n",
       "      <td>(0.013973530813342, 0.016251156085517)</td>\n",
       "      <td>(0.0328901219247, 0.030680873053957)</td>\n",
       "      <td>(0.017297756707865, 0.017107260105196)</td>\n",
       "      <td>(0.026743062689314, 0.031115240877233)</td>\n",
       "      <td>(0.011254426004203, 0.012610258067416)</td>\n",
       "      <td>(0.029647709914301, 0.03471944494339)</td>\n",
       "      <td>(0.014570515093919, 0.015843098132339)</td>\n",
       "      <td>(0.012216268238573, 0.01231799454935)</td>\n",
       "      <td>(0.021302972448354, 0.021007726378302)</td>\n",
       "      <td>(0.02604083895557, 0.034662299056728)</td>\n",
       "      <td>(0.008989297576416, 0.010087901889253)</td>\n",
       "    </tr>\n",
       "    <tr>\n",
       "      <th>zeisel</th>\n",
       "      <td>(0.006990333290383, 0.007214134999314)</td>\n",
       "      <td>(0.035409671167187, 0.040280393656022)</td>\n",
       "      <td>(0.005558500195837, 0.005835543017565)</td>\n",
       "      <td>(0.021723211510584, 0.023752071686278)</td>\n",
       "      <td>(0.0051446338881, 0.005226262998764)</td>\n",
       "      <td>(0.045678043992489, 0.049285721054077)</td>\n",
       "      <td>(0.048104654907401, 0.05401823739169)</td>\n",
       "      <td>(0.006261193917546, 0.006478326264052)</td>\n",
       "      <td>(0.010784546038668, 0.01218630903284)</td>\n",
       "      <td>(0.044230783929963, 0.051432224503959)</td>\n",
       "      <td>(0.009552545819905, 0.009544864725478)</td>\n",
       "    </tr>\n",
       "  </tbody>\n",
       "</table>\n",
       "</div>"
      ],
      "text/plain": [
       "                                              All Markers  \\\n",
       "CITE-seq           (0.006872020055508, 0.010136166651257)   \n",
       "mouse_brain_broad  (0.001181458750686, 0.001250291767824)   \n",
       "paul               (0.013973530813342, 0.016251156085517)   \n",
       "zeisel             (0.006990333290383, 0.007214134999314)   \n",
       "\n",
       "                                                   L1 VAE  \\\n",
       "CITE-seq           (0.022163617868238, 0.029416864610836)   \n",
       "mouse_brain_broad   (0.033728067598674, 0.03731277900943)   \n",
       "paul                 (0.0328901219247, 0.030680873053957)   \n",
       "zeisel             (0.035409671167187, 0.040280393656022)   \n",
       "\n",
       "                                                 Smash RF  \\\n",
       "CITE-seq            (0.003213373314261, 0.00555966722691)   \n",
       "mouse_brain_broad  (0.001364153088291, 0.001306289357603)   \n",
       "paul               (0.017297756707865, 0.017107260105196)   \n",
       "zeisel             (0.005558500195837, 0.005835543017565)   \n",
       "\n",
       "                                                SMaSH DNN  \\\n",
       "CITE-seq            (0.00687789274143, 0.010105816083535)   \n",
       "mouse_brain_broad                              (0.0, 0.0)   \n",
       "paul               (0.026743062689314, 0.031115240877233)   \n",
       "zeisel             (0.021723211510584, 0.023752071686278)   \n",
       "\n",
       "                                                 RankCorr  \\\n",
       "CITE-seq           (0.004733690432275, 0.006798392787681)   \n",
       "mouse_brain_broad  (0.002867581535675, 0.002862101977053)   \n",
       "paul               (0.011254426004203, 0.012610258067416)   \n",
       "zeisel               (0.0051446338881, 0.005226262998764)   \n",
       "\n",
       "                                          Global Gate VAE  \\\n",
       "CITE-seq           (0.023405501304022, 0.028250144398124)   \n",
       "mouse_brain_broad   (0.03134134418024, 0.033609654947977)   \n",
       "paul                (0.029647709914301, 0.03471944494339)   \n",
       "zeisel             (0.045678043992489, 0.049285721054077)   \n",
       "\n",
       "                                   MarkerMap Unsupervised  \\\n",
       "CITE-seq           (0.013660677767388, 0.018455912101701)   \n",
       "mouse_brain_broad  (0.003996364301167, 0.004190985626791)   \n",
       "paul               (0.014570515093919, 0.015843098132339)   \n",
       "zeisel              (0.048104654907401, 0.05401823739169)   \n",
       "\n",
       "                                     MarkerMap Supervised  \\\n",
       "CITE-seq           (0.005746852007657, 0.007687809743615)   \n",
       "mouse_brain_broad  (0.000652549771534, 0.000692909758018)   \n",
       "paul                (0.012216268238573, 0.01231799454935)   \n",
       "zeisel             (0.006261193917546, 0.006478326264052)   \n",
       "\n",
       "                              MarkerMap Mixed Supervision  \\\n",
       "CITE-seq           (0.004614559884733, 0.006506470242331)   \n",
       "mouse_brain_broad   (0.014578444654082, 0.01495887722167)   \n",
       "paul               (0.021302972448354, 0.021007726378302)   \n",
       "zeisel              (0.010784546038668, 0.01218630903284)   \n",
       "\n",
       "                                             Concrete VAE  \\\n",
       "CITE-seq           (0.017066085032524, 0.022632272082965)   \n",
       "mouse_brain_broad  (0.028334411856361, 0.030410217150315)   \n",
       "paul                (0.02604083895557, 0.034662299056728)   \n",
       "zeisel             (0.044230783929963, 0.051432224503959)   \n",
       "\n",
       "                                                 LassoNet  \n",
       "CITE-seq           (0.007748343145938, 0.010735006527034)  \n",
       "mouse_brain_broad  (0.001031501143525, 0.001119587161809)  \n",
       "paul               (0.008989297576416, 0.010087901889253)  \n",
       "zeisel             (0.009552545819905, 0.009544864725478)  "
      ]
     },
     "execution_count": 9,
     "metadata": {},
     "output_type": "execute_result"
    }
   ],
   "source": [
    "results = {}\n",
    "for e, axis in itertools.product(data_locations, result_axis):\n",
    "    _, _, m, f1 = model_variances(model_save_path.format(e) + axis[1], num_times)\n",
    "    m = round(m, 15)\n",
    "    f1 = round(f1, 15)\n",
    "    if axis[0] in results:\n",
    "        results[axis[0]][e] = (m, f1)\n",
    "    else:\n",
    "        results[axis[0]] = {}\n",
    "        results[axis[0]][e] = (m, f1)\n",
    "\n",
    "tabulated_results1 = pd.DataFrame(results)\n",
    "tabulated_results1"
   ]
  },
  {
   "cell_type": "markdown",
   "metadata": {
    "id": "-aGZeycHRS6D"
   },
   "source": [
    "### KNN"
   ]
  },
  {
   "cell_type": "code",
   "execution_count": 10,
   "metadata": {
    "id": "4zqvDbQ3fi_p"
   },
   "outputs": [
    {
     "data": {
      "text/html": [
       "<div>\n",
       "<style scoped>\n",
       "    .dataframe tbody tr th:only-of-type {\n",
       "        vertical-align: middle;\n",
       "    }\n",
       "\n",
       "    .dataframe tbody tr th {\n",
       "        vertical-align: top;\n",
       "    }\n",
       "\n",
       "    .dataframe thead th {\n",
       "        text-align: right;\n",
       "    }\n",
       "</style>\n",
       "<table border=\"1\" class=\"dataframe\">\n",
       "  <thead>\n",
       "    <tr style=\"text-align: right;\">\n",
       "      <th></th>\n",
       "      <th>All Markers</th>\n",
       "      <th>L1 VAE</th>\n",
       "      <th>Smash RF</th>\n",
       "      <th>SMaSH DNN</th>\n",
       "      <th>RankCorr</th>\n",
       "      <th>Global Gate VAE</th>\n",
       "      <th>MarkerMap Unsupervised</th>\n",
       "      <th>MarkerMap Supervised</th>\n",
       "      <th>MarkerMap Mixed Supervision</th>\n",
       "      <th>Concrete VAE</th>\n",
       "      <th>LassoNet</th>\n",
       "    </tr>\n",
       "  </thead>\n",
       "  <tbody>\n",
       "    <tr>\n",
       "      <th>CITE-seq</th>\n",
       "      <td>(0.00539910732168, 0.005169739098054)</td>\n",
       "      <td>(0.035480685120017, 0.041715519636621)</td>\n",
       "      <td>(0.0, 0.0)</td>\n",
       "      <td>(0.0, 0.0)</td>\n",
       "      <td>(0.004197227961746, 0.005731363246282)</td>\n",
       "      <td>(0.028446175848583, 0.031686438079081)</td>\n",
       "      <td>(0.016218495758032, 0.017209641575839)</td>\n",
       "      <td>(0.004181165032701, 0.005023243442435)</td>\n",
       "      <td>(0.004938576532769, 0.006365682182415)</td>\n",
       "      <td>(0.023597339976126, 0.028182020369063)</td>\n",
       "      <td>(0.0052666169201, 0.007347726268675)</td>\n",
       "    </tr>\n",
       "    <tr>\n",
       "      <th>mouse_brain_broad</th>\n",
       "      <td>(0.006449210299109, 0.006078219914174)</td>\n",
       "      <td>(0.046261663131635, 0.051471007921292)</td>\n",
       "      <td>(0.000113679424024, 9.7971021558e-05)</td>\n",
       "      <td>(0.0, 0.0)</td>\n",
       "      <td>(0.003089549992866, 0.003059013715177)</td>\n",
       "      <td>(0.051279265220486, 0.059101703833484)</td>\n",
       "      <td>(0.007142575144417, 0.007414663177989)</td>\n",
       "      <td>(0.000772458499503, 0.000771996192869)</td>\n",
       "      <td>(0.021229991045893, 0.02166159923359)</td>\n",
       "      <td>(0.03768919263757, 0.043405916281869)</td>\n",
       "      <td>(0.001271978429231, 0.001321228096279)</td>\n",
       "    </tr>\n",
       "    <tr>\n",
       "      <th>paul</th>\n",
       "      <td>(0.016805962999201, 0.022552471198598)</td>\n",
       "      <td>(0.058924568884793, 0.051463852289275)</td>\n",
       "      <td>(0.015949846928262, 0.019118963371908)</td>\n",
       "      <td>(0.018479118323267, 0.023532043605783)</td>\n",
       "      <td>(0.030199793590464, 0.036888726295609)</td>\n",
       "      <td>(0.024455179213481, 0.028860569676006)</td>\n",
       "      <td>(0.014748992252958, 0.013765671748963)</td>\n",
       "      <td>(0.017345202293842, 0.01849414855667)</td>\n",
       "      <td>(0.031699270529407, 0.033154947391888)</td>\n",
       "      <td>(0.034313664603573, 0.035680588292003)</td>\n",
       "      <td>(0.022161172161172, 0.024821649845612)</td>\n",
       "    </tr>\n",
       "    <tr>\n",
       "      <th>zeisel</th>\n",
       "      <td>(0.00825935018036, 0.008494210005314)</td>\n",
       "      <td>(0.035131802366684, 0.036415671495428)</td>\n",
       "      <td>(0.004991680532446, 0.005121891999959)</td>\n",
       "      <td>(0.041907661102749, 0.045803267713357)</td>\n",
       "      <td>(0.006357728177884, 0.006356651137681)</td>\n",
       "      <td>(0.056097892729881, 0.061257961883791)</td>\n",
       "      <td>(0.04963871510874, 0.05202863732319)</td>\n",
       "      <td>(0.004553721192481, 0.004651296218417)</td>\n",
       "      <td>(0.0119765663314, 0.012631493984938)</td>\n",
       "      <td>(0.044263633106143, 0.049575326771285)</td>\n",
       "      <td>(0.01007308543605, 0.01166240504249)</td>\n",
       "    </tr>\n",
       "  </tbody>\n",
       "</table>\n",
       "</div>"
      ],
      "text/plain": [
       "                                              All Markers  \\\n",
       "CITE-seq            (0.00539910732168, 0.005169739098054)   \n",
       "mouse_brain_broad  (0.006449210299109, 0.006078219914174)   \n",
       "paul               (0.016805962999201, 0.022552471198598)   \n",
       "zeisel              (0.00825935018036, 0.008494210005314)   \n",
       "\n",
       "                                                   L1 VAE  \\\n",
       "CITE-seq           (0.035480685120017, 0.041715519636621)   \n",
       "mouse_brain_broad  (0.046261663131635, 0.051471007921292)   \n",
       "paul               (0.058924568884793, 0.051463852289275)   \n",
       "zeisel             (0.035131802366684, 0.036415671495428)   \n",
       "\n",
       "                                                 Smash RF  \\\n",
       "CITE-seq                                       (0.0, 0.0)   \n",
       "mouse_brain_broad   (0.000113679424024, 9.7971021558e-05)   \n",
       "paul               (0.015949846928262, 0.019118963371908)   \n",
       "zeisel             (0.004991680532446, 0.005121891999959)   \n",
       "\n",
       "                                                SMaSH DNN  \\\n",
       "CITE-seq                                       (0.0, 0.0)   \n",
       "mouse_brain_broad                              (0.0, 0.0)   \n",
       "paul               (0.018479118323267, 0.023532043605783)   \n",
       "zeisel             (0.041907661102749, 0.045803267713357)   \n",
       "\n",
       "                                                 RankCorr  \\\n",
       "CITE-seq           (0.004197227961746, 0.005731363246282)   \n",
       "mouse_brain_broad  (0.003089549992866, 0.003059013715177)   \n",
       "paul               (0.030199793590464, 0.036888726295609)   \n",
       "zeisel             (0.006357728177884, 0.006356651137681)   \n",
       "\n",
       "                                          Global Gate VAE  \\\n",
       "CITE-seq           (0.028446175848583, 0.031686438079081)   \n",
       "mouse_brain_broad  (0.051279265220486, 0.059101703833484)   \n",
       "paul               (0.024455179213481, 0.028860569676006)   \n",
       "zeisel             (0.056097892729881, 0.061257961883791)   \n",
       "\n",
       "                                   MarkerMap Unsupervised  \\\n",
       "CITE-seq           (0.016218495758032, 0.017209641575839)   \n",
       "mouse_brain_broad  (0.007142575144417, 0.007414663177989)   \n",
       "paul               (0.014748992252958, 0.013765671748963)   \n",
       "zeisel               (0.04963871510874, 0.05202863732319)   \n",
       "\n",
       "                                     MarkerMap Supervised  \\\n",
       "CITE-seq           (0.004181165032701, 0.005023243442435)   \n",
       "mouse_brain_broad  (0.000772458499503, 0.000771996192869)   \n",
       "paul                (0.017345202293842, 0.01849414855667)   \n",
       "zeisel             (0.004553721192481, 0.004651296218417)   \n",
       "\n",
       "                              MarkerMap Mixed Supervision  \\\n",
       "CITE-seq           (0.004938576532769, 0.006365682182415)   \n",
       "mouse_brain_broad   (0.021229991045893, 0.02166159923359)   \n",
       "paul               (0.031699270529407, 0.033154947391888)   \n",
       "zeisel               (0.0119765663314, 0.012631493984938)   \n",
       "\n",
       "                                             Concrete VAE  \\\n",
       "CITE-seq           (0.023597339976126, 0.028182020369063)   \n",
       "mouse_brain_broad   (0.03768919263757, 0.043405916281869)   \n",
       "paul               (0.034313664603573, 0.035680588292003)   \n",
       "zeisel             (0.044263633106143, 0.049575326771285)   \n",
       "\n",
       "                                                 LassoNet  \n",
       "CITE-seq             (0.0052666169201, 0.007347726268675)  \n",
       "mouse_brain_broad  (0.001271978429231, 0.001321228096279)  \n",
       "paul               (0.022161172161172, 0.024821649845612)  \n",
       "zeisel               (0.01007308543605, 0.01166240504249)  "
      ]
     },
     "execution_count": 10,
     "metadata": {},
     "output_type": "execute_result"
    }
   ],
   "source": [
    "results = {}\n",
    "for e, axis in itertools.product(data_locations, result_axis):\n",
    "    _, _, m, f1 = model_variances(model_save_path.format(e) + axis[2], num_times)\n",
    "    m = round(m, 15)\n",
    "    f1 = round(f1, 15)\n",
    "    if axis[0] in results:\n",
    "        results[axis[0]][e] = (m, f1)\n",
    "    else:\n",
    "        results[axis[0]] = {}\n",
    "        results[axis[0]][e] = (m, f1)\n",
    "\n",
    "tabulated_results2 = pd.DataFrame(results)\n",
    "tabulated_results2"
   ]
  },
  {
   "cell_type": "code",
   "execution_count": 11,
   "metadata": {},
   "outputs": [],
   "source": [
    "indices =  np.load('../data/paul/models/experiment_data_folds/rankcorr_indices_7.npy', allow_pickle = True)"
   ]
  },
  {
   "cell_type": "code",
   "execution_count": 12,
   "metadata": {},
   "outputs": [],
   "source": [
    "indices2 =  np.load('../data/paul/models/experiment_data_folds/rankcorr_indices_9.npy', allow_pickle = True)"
   ]
  },
  {
   "cell_type": "code",
   "execution_count": 13,
   "metadata": {},
   "outputs": [
    {
     "data": {
      "text/plain": [
       "array([1751, 2032,  173, 1158, 1663,  533, 1729,  885, 1905, 2699,  416,\n",
       "       1839, 2566, 1571, 1097, 1154, 1047, 1005, 1754,  627, 1876, 1741,\n",
       "       1730, 1561, 2612, 2479,  624, 2163, 1931, 2440, 1982, 2480,  558,\n",
       "        855, 2188, 1622, 1245,  595,  439, 1844,   79,  930, 2587,  677,\n",
       "         23, 1643,  579,  198,  577,  428, 1667, 1819, 2017, 1393, 2079,\n",
       "       1020,  180,  459,  905,  258, 1765,  137, 1888, 2598,  255, 2646,\n",
       "        316, 1426, 1786,  494,  168,  409, 1866, 1478,  141, 2097, 1830,\n",
       "        860, 1572, 1129, 1959,  451,  985, 1030,  727, 1809, 1467, 1556,\n",
       "       1411,  181,  593,  567,  656, 1666, 1384, 1938, 1070,  804, 2293,\n",
       "        842, 1543,  103, 1328, 2285, 2513, 1604, 2243, 1108,  776, 1305,\n",
       "        993, 1173,  474,  851, 2642, 1948,   69,  583, 2178,  136, 1976,\n",
       "       2469, 1937, 2115,  499, 1167,  726,  426, 1671, 1325, 2013,  616,\n",
       "        862,  476, 1246,  587,  867,   97, 1763, 1816,  105,  538,  442,\n",
       "       2388,  259,  981, 2537, 1947,  223, 1335,  422, 2280,  153, 2247,\n",
       "       2597, 1133,  335, 2224,  427, 1796,  437, 1516,  647, 1749, 2121,\n",
       "       1062,  424, 1049, 1459, 1912, 1493, 1324, 1628, 1597,  939,  403,\n",
       "         16,  667,  774, 2647, 2583,  800, 1022, 1395,   70, 1681, 1089,\n",
       "       2077, 2331,  169, 2458, 2023, 1822,  291, 1517,  475, 1134,  765,\n",
       "        571, 2709, 1778,   51, 2476, 1581, 2047, 1486, 1259, 1269, 2644,\n",
       "        337,  669,  111, 1658,  843, 1647, 1766,  408, 1082, 1061, 1506,\n",
       "       1826, 2342, 1056,  215, 2622, 2525, 2664, 1514, 2106,  210,  205,\n",
       "       2571,  452,  139, 2036,  493, 1027, 1147, 2113, 2161,  799, 2037,\n",
       "       1196, 1988,  162, 2116,  208, 2296, 1879, 1110, 2332, 1828,  333,\n",
       "       1807, 1430, 2254, 1354,  191, 1272,  100, 1346, 1814, 1683,  954,\n",
       "        798,  379, 2695,   91, 2658, 2582,  500,  591, 1965, 2545])"
      ]
     },
     "execution_count": 13,
     "metadata": {},
     "output_type": "execute_result"
    }
   ],
   "source": [
    "indices[1]"
   ]
  },
  {
   "cell_type": "code",
   "execution_count": 14,
   "metadata": {},
   "outputs": [
    {
     "data": {
      "text/plain": [
       "array([1334, 1671, 1732, 1731,  319, 1628, 1454, 2238,  705, 2701, 2590,\n",
       "       1764,  409,  190, 2416,  139,  788,  532,  376, 2167,  327,  731,\n",
       "        184, 2456,  972,  445, 1751, 1462,  338,  758, 1436,  402, 1358,\n",
       "       2223, 1949,  545, 2243,   99, 1490, 1526,  387, 1554, 1267,   55,\n",
       "       2002,  217,  760, 2654,  122, 2267,  369,  548, 2696,   96,  618,\n",
       "       1623, 2001, 2351, 2211, 1326, 1698,  841, 2270, 2685, 2435, 1709,\n",
       "       1119, 1052,  490, 1003,  469, 1532,  602, 2275, 1721,  293, 2304,\n",
       "       1097, 2066,  347, 2645, 2195,  916, 1865,  992, 2252,  709, 2710,\n",
       "       1163,  875, 1631, 1496, 2004,  118,  104, 2301,  806, 2150, 2526,\n",
       "        579, 2334,  198, 1683,  479,  999,  230,  703, 2431,    0, 2535,\n",
       "       1593, 1627,  755, 1614, 2200, 2465, 1223, 1611,  236, 2681,  923,\n",
       "        518,  413, 1202, 1150, 2119, 1643, 2689, 2288,  983, 1854,  838,\n",
       "       2643, 2302, 2594, 1352,  263, 1482,  836, 2309, 1968, 2023,  901,\n",
       "       1941, 2621,  813, 1752, 2380, 1652,  711, 2683,  551,    9, 1522,\n",
       "       1588, 2385, 1810,  140, 2152, 2706,  803, 2488, 1199,  657, 2235,\n",
       "       1134,  808,  357,  336, 1232,  326, 1725, 2216, 1794,  157,  792,\n",
       "        110, 1387, 2312,  456, 2693,  776,  684, 2269,  775,  160, 2551,\n",
       "        988, 1954, 2612, 1642, 1290, 2364, 2086, 1692,  795, 1646, 1996,\n",
       "       2129, 1423,  686, 2201,  917, 2501,  948,  502, 2236, 1015,  455,\n",
       "       1453, 2408,  719, 2368,  167, 1991,  729, 1667, 1550,  454,  478,\n",
       "       1987, 1530, 1197,  521,  640,  264,  516, 2016,  245,  268,  386,\n",
       "       1528, 1105, 1919, 1516, 2582, 1838,  800, 1094, 2444, 1507, 1095,\n",
       "       2093,  206,  796,  644, 1896, 1915, 1501, 1895, 2513,   37, 1651,\n",
       "       2087,  530,   89, 2010,  554, 1340, 2285, 2307,   50,   80,  819,\n",
       "       2316,  628, 1589, 1013,  227, 1411, 2090, 2576, 1880, 1726])"
      ]
     },
     "execution_count": 14,
     "metadata": {},
     "output_type": "execute_result"
    }
   ],
   "source": [
    "indices2[1]"
   ]
  },
  {
   "cell_type": "code",
   "execution_count": 15,
   "metadata": {},
   "outputs": [
    {
     "data": {
      "text/plain": [
       "array([2, 2, 2, ..., 1, 1, 1])"
      ]
     },
     "execution_count": 15,
     "metadata": {},
     "output_type": "execute_result"
    }
   ],
   "source": [
    "from os import path\n",
    "dataset_dir = '../data/zeisel/'\n",
    "model_save_path = '../data/zeisel/models/'\n",
    "viz_save_path = '../data/zeisel/visualizations/'\n",
    "\n",
    "if not path.exists(model_save_path):\n",
    "  os.makedirs(model_save_path)\n",
    "\n",
    "if not path.exists(model_save_path + 'experiment_data_folds/'):\n",
    "  os.makedirs(model_save_path + 'experiment_data_folds/')\n",
    "  \n",
    "if not path.exists(viz_save_path):\n",
    "  os.makedirs(viz_save_path)\n",
    "\n",
    "adata = sc.read_h5ad(dataset_dir + \"Zeisel.h5ad\")\n",
    "X = adata.X.copy()\n",
    "adata.obs['names']=adata.obs['names0']\n",
    "adata.obs['annotation'] = adata.obs['names0']\n",
    "labels = adata.obs['names0'].values\n",
    "encoder = LabelEncoder()\n",
    "encoder.fit(labels)\n",
    "y = encoder.transform(labels)\n",
    "\n",
    "input_size = X.shape[1]\n",
    "y"
   ]
  },
  {
   "cell_type": "code",
   "execution_count": 16,
   "metadata": {},
   "outputs": [
    {
     "ename": "NameError",
     "evalue": "name 'K' is not defined",
     "output_type": "error",
     "traceback": [
      "\u001b[0;31m---------------------------------------------------------------------------\u001b[0m",
      "\u001b[0;31mNameError\u001b[0m                                 Traceback (most recent call last)",
      "\u001b[0;32m<ipython-input-16-94c426e81867>\u001b[0m in \u001b[0;36m<module>\u001b[0;34m\u001b[0m\n\u001b[1;32m      3\u001b[0m \u001b[0;34m\u001b[0m\u001b[0m\n\u001b[1;32m      4\u001b[0m \u001b[0mmarkers\u001b[0m \u001b[0;34m=\u001b[0m \u001b[0mnp\u001b[0m\u001b[0;34m.\u001b[0m\u001b[0mload\u001b[0m\u001b[0;34m(\u001b[0m\u001b[0;34m'../data/zeisel/models/all_markers_1.npy'\u001b[0m\u001b[0;34m,\u001b[0m \u001b[0mallow_pickle\u001b[0m\u001b[0;34m=\u001b[0m\u001b[0;32mTrue\u001b[0m\u001b[0;34m)\u001b[0m\u001b[0;34m\u001b[0m\u001b[0;34m\u001b[0m\u001b[0m\n\u001b[0;32m----> 5\u001b[0;31m \u001b[0mmodel\u001b[0m \u001b[0;34m=\u001b[0m \u001b[0mK\u001b[0m\u001b[0;34m\u001b[0m\u001b[0;34m\u001b[0m\u001b[0m\n\u001b[0m\u001b[1;32m      6\u001b[0m \u001b[0mtrain_x\u001b[0m \u001b[0;34m=\u001b[0m \u001b[0mX\u001b[0m\u001b[0;34m[\u001b[0m\u001b[0mnp\u001b[0m\u001b[0;34m.\u001b[0m\u001b[0mconcatenate\u001b[0m\u001b[0;34m(\u001b[0m\u001b[0;34m[\u001b[0m\u001b[0mtrain_indices\u001b[0m\u001b[0;34m,\u001b[0m \u001b[0mval_indices\u001b[0m\u001b[0;34m]\u001b[0m\u001b[0;34m)\u001b[0m\u001b[0;34m,\u001b[0m \u001b[0;34m:\u001b[0m\u001b[0;34m]\u001b[0m\u001b[0;34m\u001b[0m\u001b[0;34m\u001b[0m\u001b[0m\n\u001b[1;32m      7\u001b[0m \u001b[0mtrain_y\u001b[0m \u001b[0;34m=\u001b[0m \u001b[0my\u001b[0m\u001b[0;34m[\u001b[0m\u001b[0mnp\u001b[0m\u001b[0;34m.\u001b[0m\u001b[0mconcatenate\u001b[0m\u001b[0;34m(\u001b[0m\u001b[0;34m[\u001b[0m\u001b[0mtrain_indices\u001b[0m\u001b[0;34m,\u001b[0m \u001b[0mval_indices\u001b[0m\u001b[0;34m]\u001b[0m\u001b[0;34m)\u001b[0m\u001b[0;34m]\u001b[0m\u001b[0;34m\u001b[0m\u001b[0;34m\u001b[0m\u001b[0m\n",
      "\u001b[0;31mNameError\u001b[0m: name 'K' is not defined"
     ]
    }
   ],
   "source": [
    "_, _, _, train_indices, val_indices, test_indices = split_data_into_dataloaders(X, y, 0.7, 0.1)\n",
    "train_X_y = adata[np.concatenate([train_indices, val_indices]), :]    \n",
    "\n",
    "markers = np.load('../data/zeisel/models/all_markers_1.npy', allow_pickle=True)\n",
    "model = K\n",
    "train_x = X[np.concatenate([train_indices, val_indices]), :]\n",
    "train_y = y[np.concatenate([train_indices, val_indices])]\n",
    "test_x = X[test_indices,:]\n",
    "test_y = y[test_indices]\n",
    "    \n",
    "if markers is not None:\n",
    "    train_x = train_x[:, markers]\n",
    "    test_x = test_x[:, markers]\n",
    "\n",
    "if model is None:\n",
    "    model = RandomForestClassifier()\n",
    "model.fit(train_x, train_y)\n",
    "pred_y = model.predict(test_x)\n",
    "train_rep = classification_report(train_y, model.predict(train_x), output_dict=True)\n",
    "test_rep = classification_report(test_y, pred_y, output_dict=True)\n",
    "cm = confusion_matrix(test_y, pred_y)\n",
    "if cm is None:\n",
    "    raise Exception(\"Some error in generating confusion matrix\")\n",
    "misclass_rate = 1 - accuracy_score(test_y, pred_y)\n"
   ]
  },
  {
   "cell_type": "code",
   "execution_count": null,
   "metadata": {},
   "outputs": [],
   "source": []
  },
  {
   "cell_type": "code",
   "execution_count": null,
   "metadata": {},
   "outputs": [],
   "source": [
    "train_indices"
   ]
  },
  {
   "cell_type": "code",
   "execution_count": null,
   "metadata": {},
   "outputs": [],
   "source": [
    "np.load('../data/zeisel/models/all_markers_1.npy', allow_pickle=True)"
   ]
  }
 ],
 "metadata": {
  "colab": {
   "collapsed_sections": [],
   "name": "SummaryTable.ipynb",
   "provenance": []
  },
  "kernelspec": {
   "display_name": "Python 3",
   "language": "python",
   "name": "python3"
  },
  "language_info": {
   "codemirror_mode": {
    "name": "ipython",
    "version": 3
   },
   "file_extension": ".py",
   "mimetype": "text/x-python",
   "name": "python",
   "nbconvert_exporter": "python",
   "pygments_lexer": "ipython3",
   "version": "3.9.7"
  }
 },
 "nbformat": 4,
 "nbformat_minor": 1
}
