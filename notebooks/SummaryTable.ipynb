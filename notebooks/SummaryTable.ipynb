{
 "cells": [
  {
   "cell_type": "markdown",
   "metadata": {
    "id": "kuKoVgDwzrgo"
   },
   "source": [
    "# All the Imports"
   ]
  },
  {
   "cell_type": "code",
   "execution_count": 1,
   "metadata": {},
   "outputs": [],
   "source": [
    "import sys\n",
    "import os\n",
    "import logging\n",
    "sys.path.insert(1, '../src/')"
   ]
  },
  {
   "cell_type": "code",
   "execution_count": 2,
   "metadata": {
    "colab": {
     "base_uri": "https://localhost:8080/"
    },
    "id": "ZgkcUm9Pzn7_",
    "outputId": "2c04a937-e1cb-4cd7-95ba-b42eb697609f"
   },
   "outputs": [
    {
     "name": "stdout",
     "output_type": "stream",
     "text": [
      "CPU times: user 7.8 s, sys: 653 ms, total: 8.45 s\n",
      "Wall time: 7.86 s\n"
     ]
    }
   ],
   "source": [
    "%%time \n",
    "import itertools \n",
    "import numpy as np\n",
    "import pandas as pd\n",
    "import scanpy as sc\n",
    "import matplotlib.pyplot as plt\n",
    "import seaborn as sns\n",
    "import os\n",
    "from sklearn.preprocessing import LabelEncoder\n",
    "from lassonet import LassoNetClassifier\n",
    "\n",
    "\n",
    "from RankCorr.picturedRocks import Rocks\n",
    "import smashpy as smashpy\n",
    "\n",
    "\n",
    "import torch\n",
    "from torch import nn\n",
    "from torch.autograd import Variable\n",
    "from torch.nn import functional as F\n",
    "\n",
    "from utils import *\n"
   ]
  },
  {
   "cell_type": "code",
   "execution_count": 3,
   "metadata": {
    "id": "VH7bxl6U3CUC"
   },
   "outputs": [],
   "source": [
    "from os import path"
   ]
  },
  {
   "cell_type": "code",
   "execution_count": 4,
   "metadata": {
    "id": "2BQ8JwQoyXhv"
   },
   "outputs": [],
   "source": [
    "model_save_path = '../data/{}/models/'\n",
    "num_times = 10\n",
    "\n",
    "  "
   ]
  },
  {
   "cell_type": "markdown",
   "metadata": {
    "id": "r49opYsbRZm0"
   },
   "source": []
  },
  {
   "cell_type": "code",
   "execution_count": 5,
   "metadata": {
    "id": "tKWyrk-evGB-"
   },
   "outputs": [],
   "source": [
    "data_locations = [\n",
    "                  'CITE-seq',\n",
    "                 # 'developmental_mouse',\n",
    "                  'mouse_brain_broad',\n",
    "                  'paul',\n",
    "                  'zeisel'\n",
    "                 # 'synthetic'\n",
    "]"
   ]
  },
  {
   "cell_type": "code",
   "execution_count": 6,
   "metadata": {
    "id": "ERHoimmNx4HT"
   },
   "outputs": [],
   "source": [
    "result_axis = [\n",
    " ('All Markers', 'all_markers_results_{}.npy', 'all_markers_knn_results_{}.npy'), \n",
    " ('L1 VAE', 'l1_vae_results_{}.npy', 'l1_vae_knn_results_{}.npy'),\n",
    " ('Smash RF', 'smash_rf_results_{}.npy', 'smash_rf_knn_results_{}.npy'),\n",
    " ('SMaSH DNN', 'smash_results_{}.npy', 'smash_knn_results_{}.npy'),\n",
    " ('RankCorr', 'rankcorr_results_{}.npy', 'rankcorr_knn_results_{}.npy'),\n",
    " ('Global Gate VAE', 'globalgate_vae_results_{}.npy', 'globalgate_vae_knn_results_{}.npy'),\n",
    " ('MarkerMap Unsupervised', 'marker_map_unsupervised_results_{}.npy', 'marker_map_unsupervised_knn_results_{}.npy'),\n",
    " ('MarkerMap Supervised', 'marker_map_supervised_results_{}.npy', 'marker_map_supervised_knn_results_{}.npy'),\n",
    " ('MarkerMap Mixed Supervision', 'marker_map_mixed_results_{}.npy', 'marker_map_mixed_knn_results_{}.npy'),\n",
    " ('Concrete VAE',  'concrete_vae_results_{}.npy', 'concrete_vae_knn_results_{}.npy'),\n",
    " ('LassoNet', 'lasso_net_results_{}.npy', 'lasso_net_knn_results_{}.npy')\n",
    "]"
   ]
  },
  {
   "cell_type": "markdown",
   "metadata": {},
   "source": [
    "## Mean Accuracies and F1"
   ]
  },
  {
   "cell_type": "markdown",
   "metadata": {
    "id": "5UIJ7yMcyFSK"
   },
   "source": [
    "### Random Forest"
   ]
  },
  {
   "cell_type": "code",
   "execution_count": 7,
   "metadata": {
    "colab": {
     "base_uri": "https://localhost:8080/",
     "height": 235
    },
    "id": "MSIKDmNsvkbe",
    "outputId": "4bb6e285-5a90-4a7f-fe98-b779bdc474d1"
   },
   "outputs": [
    {
     "data": {
      "text/html": [
       "<div>\n",
       "<style scoped>\n",
       "    .dataframe tbody tr th:only-of-type {\n",
       "        vertical-align: middle;\n",
       "    }\n",
       "\n",
       "    .dataframe tbody tr th {\n",
       "        vertical-align: top;\n",
       "    }\n",
       "\n",
       "    .dataframe thead th {\n",
       "        text-align: right;\n",
       "    }\n",
       "</style>\n",
       "<table border=\"1\" class=\"dataframe\">\n",
       "  <thead>\n",
       "    <tr style=\"text-align: right;\">\n",
       "      <th></th>\n",
       "      <th>All Markers</th>\n",
       "      <th>L1 VAE</th>\n",
       "      <th>Smash RF</th>\n",
       "      <th>SMaSH DNN</th>\n",
       "      <th>RankCorr</th>\n",
       "      <th>Global Gate VAE</th>\n",
       "      <th>MarkerMap Unsupervised</th>\n",
       "      <th>MarkerMap Supervised</th>\n",
       "      <th>MarkerMap Mixed Supervision</th>\n",
       "      <th>Concrete VAE</th>\n",
       "      <th>LassoNet</th>\n",
       "    </tr>\n",
       "  </thead>\n",
       "  <tbody>\n",
       "    <tr>\n",
       "      <th>CITE-seq</th>\n",
       "      <td>(0.076, 0.901)</td>\n",
       "      <td>(0.132, 0.83)</td>\n",
       "      <td>(0.07, 0.91)</td>\n",
       "      <td>(0.063, 0.922)</td>\n",
       "      <td>(0.066, 0.916)</td>\n",
       "      <td>(0.132, 0.83)</td>\n",
       "      <td>(0.091, 0.885)</td>\n",
       "      <td>(0.063, 0.924)</td>\n",
       "      <td>(0.065, 0.92)</td>\n",
       "      <td>(0.127, 0.836)</td>\n",
       "      <td>(0.062, 0.924)</td>\n",
       "    </tr>\n",
       "    <tr>\n",
       "      <th>mouse_brain_broad</th>\n",
       "      <td>(0.009, 0.991)</td>\n",
       "      <td>(0.163, 0.827)</td>\n",
       "      <td>(0.016, 0.984)</td>\n",
       "      <td>(0.013, 0.987)</td>\n",
       "      <td>(0.031, 0.969)</td>\n",
       "      <td>(0.089, 0.906)</td>\n",
       "      <td>(0.013, 0.987)</td>\n",
       "      <td>(0.006, 0.994)</td>\n",
       "      <td>(0.031, 0.969)</td>\n",
       "      <td>(0.126, 0.865)</td>\n",
       "      <td>(0.008, 0.991)</td>\n",
       "    </tr>\n",
       "    <tr>\n",
       "      <th>paul</th>\n",
       "      <td>(0.184, 0.796)</td>\n",
       "      <td>(0.531, 0.406)</td>\n",
       "      <td>(0.113, 0.885)</td>\n",
       "      <td>(0.161, 0.823)</td>\n",
       "      <td>(0.146, 0.846)</td>\n",
       "      <td>(0.382, 0.573)</td>\n",
       "      <td>(0.139, 0.856)</td>\n",
       "      <td>(0.108, 0.889)</td>\n",
       "      <td>(0.138, 0.857)</td>\n",
       "      <td>(0.398, 0.555)</td>\n",
       "      <td>(0.126, 0.868)</td>\n",
       "    </tr>\n",
       "    <tr>\n",
       "      <th>zeisel</th>\n",
       "      <td>(0.042, 0.957)</td>\n",
       "      <td>(0.192, 0.794)</td>\n",
       "      <td>(0.054, 0.945)</td>\n",
       "      <td>(0.07, 0.928)</td>\n",
       "      <td>(0.05, 0.95)</td>\n",
       "      <td>(0.187, 0.801)</td>\n",
       "      <td>(0.124, 0.868)</td>\n",
       "      <td>(0.045, 0.955)</td>\n",
       "      <td>(0.066, 0.931)</td>\n",
       "      <td>(0.2, 0.785)</td>\n",
       "      <td>(0.054, 0.945)</td>\n",
       "    </tr>\n",
       "  </tbody>\n",
       "</table>\n",
       "</div>"
      ],
      "text/plain": [
       "                      All Markers          L1 VAE        Smash RF  \\\n",
       "CITE-seq           (0.076, 0.901)   (0.132, 0.83)    (0.07, 0.91)   \n",
       "mouse_brain_broad  (0.009, 0.991)  (0.163, 0.827)  (0.016, 0.984)   \n",
       "paul               (0.184, 0.796)  (0.531, 0.406)  (0.113, 0.885)   \n",
       "zeisel             (0.042, 0.957)  (0.192, 0.794)  (0.054, 0.945)   \n",
       "\n",
       "                        SMaSH DNN        RankCorr Global Gate VAE  \\\n",
       "CITE-seq           (0.063, 0.922)  (0.066, 0.916)   (0.132, 0.83)   \n",
       "mouse_brain_broad  (0.013, 0.987)  (0.031, 0.969)  (0.089, 0.906)   \n",
       "paul               (0.161, 0.823)  (0.146, 0.846)  (0.382, 0.573)   \n",
       "zeisel              (0.07, 0.928)    (0.05, 0.95)  (0.187, 0.801)   \n",
       "\n",
       "                  MarkerMap Unsupervised MarkerMap Supervised  \\\n",
       "CITE-seq                  (0.091, 0.885)       (0.063, 0.924)   \n",
       "mouse_brain_broad         (0.013, 0.987)       (0.006, 0.994)   \n",
       "paul                      (0.139, 0.856)       (0.108, 0.889)   \n",
       "zeisel                    (0.124, 0.868)       (0.045, 0.955)   \n",
       "\n",
       "                  MarkerMap Mixed Supervision    Concrete VAE        LassoNet  \n",
       "CITE-seq                        (0.065, 0.92)  (0.127, 0.836)  (0.062, 0.924)  \n",
       "mouse_brain_broad              (0.031, 0.969)  (0.126, 0.865)  (0.008, 0.991)  \n",
       "paul                           (0.138, 0.857)  (0.398, 0.555)  (0.126, 0.868)  \n",
       "zeisel                         (0.066, 0.931)    (0.2, 0.785)  (0.054, 0.945)  "
      ]
     },
     "execution_count": 7,
     "metadata": {},
     "output_type": "execute_result"
    }
   ],
   "source": [
    "results = {}\n",
    "for e, axis in itertools.product(data_locations, result_axis):\n",
    "    m, f1, _, _ = model_variances(model_save_path.format(e) + axis[1], num_times)\n",
    "    m = round(m, 3)\n",
    "    f1 = round(f1, 3)\n",
    "    if axis[0] in results:\n",
    "        results[axis[0]][e] = (m, f1)\n",
    "    else:\n",
    "        results[axis[0]] = {}\n",
    "        results[axis[0]][e] = (m, f1)\n",
    "\n",
    "tabulated_results1 = pd.DataFrame(results)\n",
    "tabulated_results1"
   ]
  },
  {
   "cell_type": "markdown",
   "metadata": {
    "id": "Hd-5oYbQyGz6"
   },
   "source": [
    "### KNN"
   ]
  },
  {
   "cell_type": "code",
   "execution_count": 8,
   "metadata": {
    "colab": {
     "base_uri": "https://localhost:8080/",
     "height": 235
    },
    "id": "bp0vY2tL2eRX",
    "outputId": "a4b9713a-b8a8-40c2-ac44-54c4bb296992"
   },
   "outputs": [
    {
     "data": {
      "text/html": [
       "<div>\n",
       "<style scoped>\n",
       "    .dataframe tbody tr th:only-of-type {\n",
       "        vertical-align: middle;\n",
       "    }\n",
       "\n",
       "    .dataframe tbody tr th {\n",
       "        vertical-align: top;\n",
       "    }\n",
       "\n",
       "    .dataframe thead th {\n",
       "        text-align: right;\n",
       "    }\n",
       "</style>\n",
       "<table border=\"1\" class=\"dataframe\">\n",
       "  <thead>\n",
       "    <tr style=\"text-align: right;\">\n",
       "      <th></th>\n",
       "      <th>All Markers</th>\n",
       "      <th>L1 VAE</th>\n",
       "      <th>Smash RF</th>\n",
       "      <th>SMaSH DNN</th>\n",
       "      <th>RankCorr</th>\n",
       "      <th>Global Gate VAE</th>\n",
       "      <th>MarkerMap Unsupervised</th>\n",
       "      <th>MarkerMap Supervised</th>\n",
       "      <th>MarkerMap Mixed Supervision</th>\n",
       "      <th>Concrete VAE</th>\n",
       "      <th>LassoNet</th>\n",
       "    </tr>\n",
       "  </thead>\n",
       "  <tbody>\n",
       "    <tr>\n",
       "      <th>CITE-seq</th>\n",
       "      <td>(0.098, 0.898)</td>\n",
       "      <td>(0.191, 0.782)</td>\n",
       "      <td>(0.071, 0.912)</td>\n",
       "      <td>(0.066, 0.925)</td>\n",
       "      <td>(0.073, 0.913)</td>\n",
       "      <td>(0.18, 0.796)</td>\n",
       "      <td>(0.104, 0.885)</td>\n",
       "      <td>(0.062, 0.929)</td>\n",
       "      <td>(0.07, 0.92)</td>\n",
       "      <td>(0.18, 0.795)</td>\n",
       "      <td>(0.064, 0.926)</td>\n",
       "    </tr>\n",
       "    <tr>\n",
       "      <th>mouse_brain_broad</th>\n",
       "      <td>(0.103, 0.885)</td>\n",
       "      <td>(0.234, 0.744)</td>\n",
       "      <td>(0.027, 0.973)</td>\n",
       "      <td>(0.013, 0.987)</td>\n",
       "      <td>(0.041, 0.958)</td>\n",
       "      <td>(0.14, 0.848)</td>\n",
       "      <td>(0.015, 0.985)</td>\n",
       "      <td>(0.006, 0.994)</td>\n",
       "      <td>(0.041, 0.958)</td>\n",
       "      <td>(0.198, 0.782)</td>\n",
       "      <td>(0.009, 0.991)</td>\n",
       "    </tr>\n",
       "    <tr>\n",
       "      <th>paul</th>\n",
       "      <td>(0.321, 0.608)</td>\n",
       "      <td>(0.632, 0.375)</td>\n",
       "      <td>(0.222, 0.759)</td>\n",
       "      <td>(0.269, 0.704)</td>\n",
       "      <td>(0.245, 0.741)</td>\n",
       "      <td>(0.447, 0.521)</td>\n",
       "      <td>(0.268, 0.721)</td>\n",
       "      <td>(0.203, 0.789)</td>\n",
       "      <td>(0.253, 0.735)</td>\n",
       "      <td>(0.461, 0.513)</td>\n",
       "      <td>(0.228, 0.761)</td>\n",
       "    </tr>\n",
       "    <tr>\n",
       "      <th>zeisel</th>\n",
       "      <td>(0.054, 0.945)</td>\n",
       "      <td>(0.261, 0.726)</td>\n",
       "      <td>(0.054, 0.945)</td>\n",
       "      <td>(0.07, 0.929)</td>\n",
       "      <td>(0.054, 0.945)</td>\n",
       "      <td>(0.273, 0.717)</td>\n",
       "      <td>(0.153, 0.84)</td>\n",
       "      <td>(0.038, 0.961)</td>\n",
       "      <td>(0.067, 0.93)</td>\n",
       "      <td>(0.286, 0.7)</td>\n",
       "      <td>(0.059, 0.938)</td>\n",
       "    </tr>\n",
       "  </tbody>\n",
       "</table>\n",
       "</div>"
      ],
      "text/plain": [
       "                      All Markers          L1 VAE        Smash RF  \\\n",
       "CITE-seq           (0.098, 0.898)  (0.191, 0.782)  (0.071, 0.912)   \n",
       "mouse_brain_broad  (0.103, 0.885)  (0.234, 0.744)  (0.027, 0.973)   \n",
       "paul               (0.321, 0.608)  (0.632, 0.375)  (0.222, 0.759)   \n",
       "zeisel             (0.054, 0.945)  (0.261, 0.726)  (0.054, 0.945)   \n",
       "\n",
       "                        SMaSH DNN        RankCorr Global Gate VAE  \\\n",
       "CITE-seq           (0.066, 0.925)  (0.073, 0.913)   (0.18, 0.796)   \n",
       "mouse_brain_broad  (0.013, 0.987)  (0.041, 0.958)   (0.14, 0.848)   \n",
       "paul               (0.269, 0.704)  (0.245, 0.741)  (0.447, 0.521)   \n",
       "zeisel              (0.07, 0.929)  (0.054, 0.945)  (0.273, 0.717)   \n",
       "\n",
       "                  MarkerMap Unsupervised MarkerMap Supervised  \\\n",
       "CITE-seq                  (0.104, 0.885)       (0.062, 0.929)   \n",
       "mouse_brain_broad         (0.015, 0.985)       (0.006, 0.994)   \n",
       "paul                      (0.268, 0.721)       (0.203, 0.789)   \n",
       "zeisel                     (0.153, 0.84)       (0.038, 0.961)   \n",
       "\n",
       "                  MarkerMap Mixed Supervision    Concrete VAE        LassoNet  \n",
       "CITE-seq                         (0.07, 0.92)   (0.18, 0.795)  (0.064, 0.926)  \n",
       "mouse_brain_broad              (0.041, 0.958)  (0.198, 0.782)  (0.009, 0.991)  \n",
       "paul                           (0.253, 0.735)  (0.461, 0.513)  (0.228, 0.761)  \n",
       "zeisel                          (0.067, 0.93)    (0.286, 0.7)  (0.059, 0.938)  "
      ]
     },
     "execution_count": 8,
     "metadata": {},
     "output_type": "execute_result"
    }
   ],
   "source": [
    "results = {}\n",
    "for e, axis in itertools.product(data_locations, result_axis):\n",
    "    m, f1, _, _ = model_variances(model_save_path.format(e) + axis[2], num_times)\n",
    "    m = round(m, 3)\n",
    "    f1 = round(f1, 3)\n",
    "    if axis[0] in results:\n",
    "        results[axis[0]][e] = (m, f1)\n",
    "    else:\n",
    "        results[axis[0]] = {}\n",
    "        results[axis[0]][e] = (m, f1)\n",
    "\n",
    "tabulated_results2 = pd.DataFrame(results)\n",
    "tabulated_results2"
   ]
  },
  {
   "cell_type": "markdown",
   "metadata": {
    "id": "wEV2Mxvvx9jM"
   },
   "source": [
    "## Variances"
   ]
  },
  {
   "cell_type": "markdown",
   "metadata": {},
   "source": [
    "### Random Forest"
   ]
  },
  {
   "cell_type": "code",
   "execution_count": 68,
   "metadata": {},
   "outputs": [
    {
     "data": {
      "text/html": [
       "<div>\n",
       "<style scoped>\n",
       "    .dataframe tbody tr th:only-of-type {\n",
       "        vertical-align: middle;\n",
       "    }\n",
       "\n",
       "    .dataframe tbody tr th {\n",
       "        vertical-align: top;\n",
       "    }\n",
       "\n",
       "    .dataframe thead th {\n",
       "        text-align: right;\n",
       "    }\n",
       "</style>\n",
       "<table border=\"1\" class=\"dataframe\">\n",
       "  <thead>\n",
       "    <tr style=\"text-align: right;\">\n",
       "      <th></th>\n",
       "      <th>All Markers</th>\n",
       "      <th>L1 VAE</th>\n",
       "      <th>Smash RF</th>\n",
       "      <th>SMaSH DNN</th>\n",
       "      <th>RankCorr</th>\n",
       "      <th>Global Gate VAE</th>\n",
       "      <th>MarkerMap Unsupervised</th>\n",
       "      <th>MarkerMap Supervised</th>\n",
       "      <th>MarkerMap Mixed Supervision</th>\n",
       "      <th>Concrete VAE</th>\n",
       "      <th>LassoNet</th>\n",
       "    </tr>\n",
       "  </thead>\n",
       "  <tbody>\n",
       "    <tr>\n",
       "      <th>CITE-seq</th>\n",
       "      <td>(0.006990333290383, 0.007214134999314)</td>\n",
       "      <td>(0.035409671167187, 0.040280393656022)</td>\n",
       "      <td>(0.002495840266223, 0.002588876583652)</td>\n",
       "      <td>(0.0, 0.0)</td>\n",
       "      <td>(0.00946519976927, 0.009624897773903)</td>\n",
       "      <td>(0.045678043992489, 0.049285721054077)</td>\n",
       "      <td>(0.048104654907401, 0.05401823739169)</td>\n",
       "      <td>(0.006261193917546, 0.006478326264052)</td>\n",
       "      <td>(0.010784546038668, 0.01218630903284)</td>\n",
       "      <td>(0.044230783929963, 0.051432224503959)</td>\n",
       "      <td>(0.009552545819905, 0.009544864725478)</td>\n",
       "    </tr>\n",
       "    <tr>\n",
       "      <th>mouse_brain_broad</th>\n",
       "      <td>(0.006990333290383, 0.007214134999314)</td>\n",
       "      <td>(0.035409671167187, 0.040280393656022)</td>\n",
       "      <td>(0.002495840266223, 0.002588876583652)</td>\n",
       "      <td>(0.0, 0.0)</td>\n",
       "      <td>(0.00946519976927, 0.009624897773903)</td>\n",
       "      <td>(0.045678043992489, 0.049285721054077)</td>\n",
       "      <td>(0.048104654907401, 0.05401823739169)</td>\n",
       "      <td>(0.006261193917546, 0.006478326264052)</td>\n",
       "      <td>(0.010784546038668, 0.01218630903284)</td>\n",
       "      <td>(0.044230783929963, 0.051432224503959)</td>\n",
       "      <td>(0.009552545819905, 0.009544864725478)</td>\n",
       "    </tr>\n",
       "    <tr>\n",
       "      <th>paul</th>\n",
       "      <td>(0.006990333290383, 0.007214134999314)</td>\n",
       "      <td>(0.035409671167187, 0.040280393656022)</td>\n",
       "      <td>(0.002495840266223, 0.002588876583652)</td>\n",
       "      <td>(0.0, 0.0)</td>\n",
       "      <td>(0.00946519976927, 0.009624897773903)</td>\n",
       "      <td>(0.045678043992489, 0.049285721054077)</td>\n",
       "      <td>(0.048104654907401, 0.05401823739169)</td>\n",
       "      <td>(0.006261193917546, 0.006478326264052)</td>\n",
       "      <td>(0.010784546038668, 0.01218630903284)</td>\n",
       "      <td>(0.044230783929963, 0.051432224503959)</td>\n",
       "      <td>(0.009552545819905, 0.009544864725478)</td>\n",
       "    </tr>\n",
       "    <tr>\n",
       "      <th>zeisel</th>\n",
       "      <td>(0.006990333290383, 0.007214134999314)</td>\n",
       "      <td>(0.035409671167187, 0.040280393656022)</td>\n",
       "      <td>(0.002495840266223, 0.002588876583652)</td>\n",
       "      <td>(0.0, 0.0)</td>\n",
       "      <td>(0.00946519976927, 0.009624897773903)</td>\n",
       "      <td>(0.045678043992489, 0.049285721054077)</td>\n",
       "      <td>(0.048104654907401, 0.05401823739169)</td>\n",
       "      <td>(0.006261193917546, 0.006478326264052)</td>\n",
       "      <td>(0.010784546038668, 0.01218630903284)</td>\n",
       "      <td>(0.044230783929963, 0.051432224503959)</td>\n",
       "      <td>(0.009552545819905, 0.009544864725478)</td>\n",
       "    </tr>\n",
       "  </tbody>\n",
       "</table>\n",
       "</div>"
      ],
      "text/plain": [
       "                                              All Markers  \\\n",
       "CITE-seq           (0.006990333290383, 0.007214134999314)   \n",
       "mouse_brain_broad  (0.006990333290383, 0.007214134999314)   \n",
       "paul               (0.006990333290383, 0.007214134999314)   \n",
       "zeisel             (0.006990333290383, 0.007214134999314)   \n",
       "\n",
       "                                                   L1 VAE  \\\n",
       "CITE-seq           (0.035409671167187, 0.040280393656022)   \n",
       "mouse_brain_broad  (0.035409671167187, 0.040280393656022)   \n",
       "paul               (0.035409671167187, 0.040280393656022)   \n",
       "zeisel             (0.035409671167187, 0.040280393656022)   \n",
       "\n",
       "                                                 Smash RF   SMaSH DNN  \\\n",
       "CITE-seq           (0.002495840266223, 0.002588876583652)  (0.0, 0.0)   \n",
       "mouse_brain_broad  (0.002495840266223, 0.002588876583652)  (0.0, 0.0)   \n",
       "paul               (0.002495840266223, 0.002588876583652)  (0.0, 0.0)   \n",
       "zeisel             (0.002495840266223, 0.002588876583652)  (0.0, 0.0)   \n",
       "\n",
       "                                                RankCorr  \\\n",
       "CITE-seq           (0.00946519976927, 0.009624897773903)   \n",
       "mouse_brain_broad  (0.00946519976927, 0.009624897773903)   \n",
       "paul               (0.00946519976927, 0.009624897773903)   \n",
       "zeisel             (0.00946519976927, 0.009624897773903)   \n",
       "\n",
       "                                          Global Gate VAE  \\\n",
       "CITE-seq           (0.045678043992489, 0.049285721054077)   \n",
       "mouse_brain_broad  (0.045678043992489, 0.049285721054077)   \n",
       "paul               (0.045678043992489, 0.049285721054077)   \n",
       "zeisel             (0.045678043992489, 0.049285721054077)   \n",
       "\n",
       "                                  MarkerMap Unsupervised  \\\n",
       "CITE-seq           (0.048104654907401, 0.05401823739169)   \n",
       "mouse_brain_broad  (0.048104654907401, 0.05401823739169)   \n",
       "paul               (0.048104654907401, 0.05401823739169)   \n",
       "zeisel             (0.048104654907401, 0.05401823739169)   \n",
       "\n",
       "                                     MarkerMap Supervised  \\\n",
       "CITE-seq           (0.006261193917546, 0.006478326264052)   \n",
       "mouse_brain_broad  (0.006261193917546, 0.006478326264052)   \n",
       "paul               (0.006261193917546, 0.006478326264052)   \n",
       "zeisel             (0.006261193917546, 0.006478326264052)   \n",
       "\n",
       "                             MarkerMap Mixed Supervision  \\\n",
       "CITE-seq           (0.010784546038668, 0.01218630903284)   \n",
       "mouse_brain_broad  (0.010784546038668, 0.01218630903284)   \n",
       "paul               (0.010784546038668, 0.01218630903284)   \n",
       "zeisel             (0.010784546038668, 0.01218630903284)   \n",
       "\n",
       "                                             Concrete VAE  \\\n",
       "CITE-seq           (0.044230783929963, 0.051432224503959)   \n",
       "mouse_brain_broad  (0.044230783929963, 0.051432224503959)   \n",
       "paul               (0.044230783929963, 0.051432224503959)   \n",
       "zeisel             (0.044230783929963, 0.051432224503959)   \n",
       "\n",
       "                                                 LassoNet  \n",
       "CITE-seq           (0.009552545819905, 0.009544864725478)  \n",
       "mouse_brain_broad  (0.009552545819905, 0.009544864725478)  \n",
       "paul               (0.009552545819905, 0.009544864725478)  \n",
       "zeisel             (0.009552545819905, 0.009544864725478)  "
      ]
     },
     "execution_count": 68,
     "metadata": {},
     "output_type": "execute_result"
    }
   ],
   "source": [
    "results = {}\n",
    "for e, axis in itertools.product(data_locations, result_axis):\n",
    "    _, _, m, f1 = model_variances(model_save_path.format(e) + axis[1], num_times)\n",
    "    m = round(m, 15)\n",
    "    f1 = round(f1, 15)\n",
    "    if axis[0] in results:\n",
    "        results[axis[0]][e] = (m, f1)\n",
    "    else:\n",
    "        results[axis[0]] = {}\n",
    "        results[axis[0]][e] = (m, f1)\n",
    "\n",
    "tabulated_results1 = pd.DataFrame(results)\n",
    "tabulated_results1"
   ]
  },
  {
   "cell_type": "markdown",
   "metadata": {
    "id": "-aGZeycHRS6D"
   },
   "source": [
    "### KNN"
   ]
  },
  {
   "cell_type": "code",
   "execution_count": 67,
   "metadata": {
    "id": "4zqvDbQ3fi_p"
   },
   "outputs": [
    {
     "data": {
      "text/html": [
       "<div>\n",
       "<style scoped>\n",
       "    .dataframe tbody tr th:only-of-type {\n",
       "        vertical-align: middle;\n",
       "    }\n",
       "\n",
       "    .dataframe tbody tr th {\n",
       "        vertical-align: top;\n",
       "    }\n",
       "\n",
       "    .dataframe thead th {\n",
       "        text-align: right;\n",
       "    }\n",
       "</style>\n",
       "<table border=\"1\" class=\"dataframe\">\n",
       "  <thead>\n",
       "    <tr style=\"text-align: right;\">\n",
       "      <th></th>\n",
       "      <th>All Markers</th>\n",
       "      <th>L1 VAE</th>\n",
       "      <th>Smash RF</th>\n",
       "      <th>SMaSH DNN</th>\n",
       "      <th>RankCorr</th>\n",
       "      <th>Global Gate VAE</th>\n",
       "      <th>MarkerMap Unsupervised</th>\n",
       "      <th>MarkerMap Supervised</th>\n",
       "      <th>MarkerMap Mixed Supervision</th>\n",
       "      <th>Concrete VAE</th>\n",
       "      <th>LassoNet</th>\n",
       "    </tr>\n",
       "  </thead>\n",
       "  <tbody>\n",
       "    <tr>\n",
       "      <th>CITE-seq</th>\n",
       "      <td>(0.00825935018036, 0.008494210005314)</td>\n",
       "      <td>(0.035131802366684, 0.036415671495428)</td>\n",
       "      <td>(0.001996672212978, 0.002073402621801)</td>\n",
       "      <td>(0.0, 0.0)</td>\n",
       "      <td>(0.009270141948209, 0.009687345155385)</td>\n",
       "      <td>(0.056097892729881, 0.061257961883791)</td>\n",
       "      <td>(0.04963871510874, 0.05202863732319)</td>\n",
       "      <td>(0.004553721192481, 0.004651296218417)</td>\n",
       "      <td>(0.0119765663314, 0.012631493984938)</td>\n",
       "      <td>(0.044263633106143, 0.049575326771285)</td>\n",
       "      <td>(0.01007308543605, 0.01166240504249)</td>\n",
       "    </tr>\n",
       "    <tr>\n",
       "      <th>mouse_brain_broad</th>\n",
       "      <td>(0.00825935018036, 0.008494210005314)</td>\n",
       "      <td>(0.035131802366684, 0.036415671495428)</td>\n",
       "      <td>(0.001996672212978, 0.002073402621801)</td>\n",
       "      <td>(0.0, 0.0)</td>\n",
       "      <td>(0.009270141948209, 0.009687345155385)</td>\n",
       "      <td>(0.056097892729881, 0.061257961883791)</td>\n",
       "      <td>(0.04963871510874, 0.05202863732319)</td>\n",
       "      <td>(0.004553721192481, 0.004651296218417)</td>\n",
       "      <td>(0.0119765663314, 0.012631493984938)</td>\n",
       "      <td>(0.044263633106143, 0.049575326771285)</td>\n",
       "      <td>(0.01007308543605, 0.01166240504249)</td>\n",
       "    </tr>\n",
       "    <tr>\n",
       "      <th>paul</th>\n",
       "      <td>(0.00825935018036, 0.008494210005314)</td>\n",
       "      <td>(0.035131802366684, 0.036415671495428)</td>\n",
       "      <td>(0.001996672212978, 0.002073402621801)</td>\n",
       "      <td>(0.0, 0.0)</td>\n",
       "      <td>(0.009270141948209, 0.009687345155385)</td>\n",
       "      <td>(0.056097892729881, 0.061257961883791)</td>\n",
       "      <td>(0.04963871510874, 0.05202863732319)</td>\n",
       "      <td>(0.004553721192481, 0.004651296218417)</td>\n",
       "      <td>(0.0119765663314, 0.012631493984938)</td>\n",
       "      <td>(0.044263633106143, 0.049575326771285)</td>\n",
       "      <td>(0.01007308543605, 0.01166240504249)</td>\n",
       "    </tr>\n",
       "    <tr>\n",
       "      <th>zeisel</th>\n",
       "      <td>(0.00825935018036, 0.008494210005314)</td>\n",
       "      <td>(0.035131802366684, 0.036415671495428)</td>\n",
       "      <td>(0.001996672212978, 0.002073402621801)</td>\n",
       "      <td>(0.0, 0.0)</td>\n",
       "      <td>(0.009270141948209, 0.009687345155385)</td>\n",
       "      <td>(0.056097892729881, 0.061257961883791)</td>\n",
       "      <td>(0.04963871510874, 0.05202863732319)</td>\n",
       "      <td>(0.004553721192481, 0.004651296218417)</td>\n",
       "      <td>(0.0119765663314, 0.012631493984938)</td>\n",
       "      <td>(0.044263633106143, 0.049575326771285)</td>\n",
       "      <td>(0.01007308543605, 0.01166240504249)</td>\n",
       "    </tr>\n",
       "  </tbody>\n",
       "</table>\n",
       "</div>"
      ],
      "text/plain": [
       "                                             All Markers  \\\n",
       "CITE-seq           (0.00825935018036, 0.008494210005314)   \n",
       "mouse_brain_broad  (0.00825935018036, 0.008494210005314)   \n",
       "paul               (0.00825935018036, 0.008494210005314)   \n",
       "zeisel             (0.00825935018036, 0.008494210005314)   \n",
       "\n",
       "                                                   L1 VAE  \\\n",
       "CITE-seq           (0.035131802366684, 0.036415671495428)   \n",
       "mouse_brain_broad  (0.035131802366684, 0.036415671495428)   \n",
       "paul               (0.035131802366684, 0.036415671495428)   \n",
       "zeisel             (0.035131802366684, 0.036415671495428)   \n",
       "\n",
       "                                                 Smash RF   SMaSH DNN  \\\n",
       "CITE-seq           (0.001996672212978, 0.002073402621801)  (0.0, 0.0)   \n",
       "mouse_brain_broad  (0.001996672212978, 0.002073402621801)  (0.0, 0.0)   \n",
       "paul               (0.001996672212978, 0.002073402621801)  (0.0, 0.0)   \n",
       "zeisel             (0.001996672212978, 0.002073402621801)  (0.0, 0.0)   \n",
       "\n",
       "                                                 RankCorr  \\\n",
       "CITE-seq           (0.009270141948209, 0.009687345155385)   \n",
       "mouse_brain_broad  (0.009270141948209, 0.009687345155385)   \n",
       "paul               (0.009270141948209, 0.009687345155385)   \n",
       "zeisel             (0.009270141948209, 0.009687345155385)   \n",
       "\n",
       "                                          Global Gate VAE  \\\n",
       "CITE-seq           (0.056097892729881, 0.061257961883791)   \n",
       "mouse_brain_broad  (0.056097892729881, 0.061257961883791)   \n",
       "paul               (0.056097892729881, 0.061257961883791)   \n",
       "zeisel             (0.056097892729881, 0.061257961883791)   \n",
       "\n",
       "                                 MarkerMap Unsupervised  \\\n",
       "CITE-seq           (0.04963871510874, 0.05202863732319)   \n",
       "mouse_brain_broad  (0.04963871510874, 0.05202863732319)   \n",
       "paul               (0.04963871510874, 0.05202863732319)   \n",
       "zeisel             (0.04963871510874, 0.05202863732319)   \n",
       "\n",
       "                                     MarkerMap Supervised  \\\n",
       "CITE-seq           (0.004553721192481, 0.004651296218417)   \n",
       "mouse_brain_broad  (0.004553721192481, 0.004651296218417)   \n",
       "paul               (0.004553721192481, 0.004651296218417)   \n",
       "zeisel             (0.004553721192481, 0.004651296218417)   \n",
       "\n",
       "                            MarkerMap Mixed Supervision  \\\n",
       "CITE-seq           (0.0119765663314, 0.012631493984938)   \n",
       "mouse_brain_broad  (0.0119765663314, 0.012631493984938)   \n",
       "paul               (0.0119765663314, 0.012631493984938)   \n",
       "zeisel             (0.0119765663314, 0.012631493984938)   \n",
       "\n",
       "                                             Concrete VAE  \\\n",
       "CITE-seq           (0.044263633106143, 0.049575326771285)   \n",
       "mouse_brain_broad  (0.044263633106143, 0.049575326771285)   \n",
       "paul               (0.044263633106143, 0.049575326771285)   \n",
       "zeisel             (0.044263633106143, 0.049575326771285)   \n",
       "\n",
       "                                               LassoNet  \n",
       "CITE-seq           (0.01007308543605, 0.01166240504249)  \n",
       "mouse_brain_broad  (0.01007308543605, 0.01166240504249)  \n",
       "paul               (0.01007308543605, 0.01166240504249)  \n",
       "zeisel             (0.01007308543605, 0.01166240504249)  "
      ]
     },
     "execution_count": 67,
     "metadata": {},
     "output_type": "execute_result"
    }
   ],
   "source": [
    "results = {}\n",
    "for e, axis in itertools.product(data_locations, result_axis):\n",
    "    _, _, m, f1 = model_variances(model_save_path.format(e) + axis[2], num_times)\n",
    "    m = round(m, 15)\n",
    "    f1 = round(f1, 15)\n",
    "    if axis[0] in results:\n",
    "        results[axis[0]][e] = (m, f1)\n",
    "    else:\n",
    "        results[axis[0]] = {}\n",
    "        results[axis[0]][e] = (m, f1)\n",
    "\n",
    "tabulated_results2 = pd.DataFrame(results)\n",
    "tabulated_results2"
   ]
  },
  {
   "cell_type": "code",
   "execution_count": 119,
   "metadata": {},
   "outputs": [],
   "source": [
    "indices =  np.load('../data/paul/models/experiment_data_folds/rankcorr_indices_7.npy', allow_pickle = True)"
   ]
  },
  {
   "cell_type": "code",
   "execution_count": 120,
   "metadata": {},
   "outputs": [],
   "source": [
    "indices2 =  np.load('../data/paul/models/experiment_data_folds/rankcorr_indices_9.npy', allow_pickle = True)"
   ]
  },
  {
   "cell_type": "code",
   "execution_count": 121,
   "metadata": {},
   "outputs": [
    {
     "data": {
      "text/plain": [
       "array([ 304, 2705, 1875, 1094, 2581,  943, 2628,  768,  957,  368, 1016,\n",
       "       1263, 2137, 1248,  384,  767,  331, 1621,   29,  282, 1384, 2719,\n",
       "        125, 1344,  358,  973,  244,   65, 1697, 1681,  609, 2069, 2351,\n",
       "       2117, 1492, 1355, 2361, 1425, 1220,  123, 1930, 1980, 2380, 1528,\n",
       "       2439, 1275, 1157,  762, 1979,  716, 1958, 2433, 1653,  404, 1688,\n",
       "       2209,  481, 1289, 2253, 2136,  953, 2514, 2498,  714,  917, 1757,\n",
       "        537,  806, 2724, 2432,  725, 2683, 1338, 2702, 1322,  144,  153,\n",
       "       1646,  867, 1612, 1025,  732,  843, 1072,  534, 1307, 1018, 2164,\n",
       "        418, 2445, 2370, 1953, 2630,   85,  899, 2480,  189, 1034, 1244,\n",
       "       1241,   46,  175, 2218,  576, 2332, 2267, 2045, 1057, 1442,  897,\n",
       "        828, 1729, 1837,   98,  350, 1389, 1397,  946,  781, 1906, 1033,\n",
       "       1365, 1023, 1041, 1007,  878, 1479, 1967, 1027, 2130,   63, 2185,\n",
       "       1465,  950, 2572,  348,  962,   39,  502,  399, 2595,  512,  690,\n",
       "        652, 1991,  626,  414, 1763, 1933, 1546,  975, 1146, 2065, 2072,\n",
       "       2318, 1359, 1664, 1159,  261, 2355, 1313, 2075, 2002,  257, 1335,\n",
       "       2461, 1923, 1613, 2413,  955, 1017, 1624,  698,  766,  317,  826,\n",
       "       1617,  972,  864, 1076, 1111, 1315, 1672, 2493,  819,   51, 1113,\n",
       "        983, 2397, 1733,  128, 2259,  462,  846, 1235, 2079, 1519, 1451,\n",
       "         70, 2722,  617, 1218, 2642, 1461, 1737, 2535,  860, 1882,  237,\n",
       "        561, 1825, 2236, 2141, 2189,  515, 1812, 1641,  759,  302,  442,\n",
       "       2017, 1497, 2028, 2207,  353, 1804, 1052, 1320,  500,  793, 2491,\n",
       "       2055, 1068, 2454, 1207, 1463, 2163,  910, 1353,  687,   55,  939,\n",
       "       1043, 2537,   60, 1706, 1356, 1579, 2453,  424,  562, 1300,  752,\n",
       "        203, 1204,  468,  483, 2423, 1704, 2658, 1099,  796, 1044, 2196,\n",
       "       2393,  377,  420, 2046, 2386,  256,  156, 2024,  117, 1795])"
      ]
     },
     "execution_count": 121,
     "metadata": {},
     "output_type": "execute_result"
    }
   ],
   "source": [
    "indices[1]"
   ]
  },
  {
   "cell_type": "code",
   "execution_count": 122,
   "metadata": {},
   "outputs": [
    {
     "data": {
      "text/plain": [
       "array([2053,  940, 1440, 2240,  999, 1463,  598, 1814,  183, 2312,  145,\n",
       "        356, 2344, 1534, 1574,  460, 1941, 1257, 1670,  754, 2025, 1655,\n",
       "       1492,  412,  608,  850,  423,  165,  863,  175, 1860, 1103,  351,\n",
       "       1777, 1387, 1593, 2481, 1010, 1135,  372, 1352, 1286, 2475,  988,\n",
       "       2583, 2711, 2271, 1000,  690,  686,  853,  322,   18, 2704, 2562,\n",
       "        269,  593, 1335,  875, 2298, 1443,  410,  975, 2283, 2286, 1804,\n",
       "        478, 1690, 1472, 2251, 1518,  308, 2551, 1347,  494,  630, 1031,\n",
       "       2571, 1559, 1825, 2680, 2653, 1491,  429, 1503, 2668, 1328, 1255,\n",
       "       1859, 1368, 1448, 1366,   10,  416, 2154,  436, 2119,  307, 1373,\n",
       "       1869, 1358,  107, 2301,  683,  966,   20,  512,  218, 2229,  929,\n",
       "       2428, 1009, 2249,  475, 2494,  676,  195, 2699,  777,  496, 1827,\n",
       "        155,  679, 2441, 1759, 1644, 1073, 2690, 2280, 2348,   68,  136,\n",
       "       2729, 2050,  722,  525, 1397, 1750, 1737,  418, 2065,  363, 2104,\n",
       "       1641, 2713,  440, 2021, 1526,   88, 1272,  553, 1034,   61, 2519,\n",
       "        764, 2034,  349,  531, 2225,  576, 1438, 1088,  607, 1736,  151,\n",
       "        296, 1945, 2187, 2497, 1647, 1188, 1139, 2172, 1720, 1296, 2684,\n",
       "       1196,  259,  204, 2170, 1148, 1252, 2392, 1843, 2164, 1664,  843,\n",
       "       1938, 2106, 1864,  830, 2439,  214, 1569,  465,  857,  395,  946,\n",
       "       2567,  885, 2262,   23,  849, 1297, 2661, 1279, 1718, 2693, 1610,\n",
       "        256, 2628,   71, 1735, 1262, 1889, 2354, 2486, 2644, 2127, 1712,\n",
       "         65,  385,  841, 2323,  986, 1524,  380, 2659,  488,  484,   72,\n",
       "       2579, 1249, 2087,  691,  573, 1813, 2235, 1667, 2253,   34, 1263,\n",
       "       2688,  135,  578,  634, 1163, 1400,  276, 2708, 2343, 1746, 1756,\n",
       "       1331, 2702, 1265,  627, 2553, 1523,  374, 2484,  828,  775,  688,\n",
       "       1581,  262, 1544,  367, 1760, 2081, 2619, 1787, 1598,  640])"
      ]
     },
     "execution_count": 122,
     "metadata": {},
     "output_type": "execute_result"
    }
   ],
   "source": [
    "indices2[1]"
   ]
  },
  {
   "cell_type": "code",
   "execution_count": 55,
   "metadata": {},
   "outputs": [
    {
     "data": {
      "text/plain": [
       "array([2, 2, 2, ..., 1, 1, 1])"
      ]
     },
     "execution_count": 55,
     "metadata": {},
     "output_type": "execute_result"
    }
   ],
   "source": [
    "from os import path\n",
    "dataset_dir = '../data/zeisel/'\n",
    "model_save_path = '../data/zeisel/models/'\n",
    "viz_save_path = '../data/zeisel/visualizations/'\n",
    "\n",
    "if not path.exists(model_save_path):\n",
    "  os.makedirs(model_save_path)\n",
    "\n",
    "if not path.exists(model_save_path + 'experiment_data_folds/'):\n",
    "  os.makedirs(model_save_path + 'experiment_data_folds/')\n",
    "  \n",
    "if not path.exists(viz_save_path):\n",
    "  os.makedirs(viz_save_path)\n",
    "\n",
    "adata = sc.read_h5ad(dataset_dir + \"Zeisel.h5ad\")\n",
    "X = adata.X.copy()\n",
    "adata.obs['names']=adata.obs['names0']\n",
    "adata.obs['annotation'] = adata.obs['names0']\n",
    "labels = adata.obs['names0'].values\n",
    "encoder = LabelEncoder()\n",
    "encoder.fit(labels)\n",
    "y = encoder.transform(labels)\n",
    "\n",
    "input_size = X.shape[1]\n",
    "y"
   ]
  },
  {
   "cell_type": "code",
   "execution_count": 65,
   "metadata": {},
   "outputs": [],
   "source": [
    "_, _, _, train_indices, val_indices, test_indices = split_data_into_dataloaders(X, y, 0.7, 0.1)\n",
    "train_X_y = adata[np.concatenate([train_indices, val_indices]), :]    \n",
    "\n",
    "markers = np.load('../data/zeisel/models/all_markers_1.npy', allow_pickle=True)\n",
    "model = K\n",
    "train_x = X[np.concatenate([train_indices, val_indices]), :]\n",
    "train_y = y[np.concatenate([train_indices, val_indices])]\n",
    "test_x = X[test_indices,:]\n",
    "test_y = y[test_indices]\n",
    "    \n",
    "if markers is not None:\n",
    "    train_x = train_x[:, markers]\n",
    "    test_x = test_x[:, markers]\n",
    "\n",
    "if model is None:\n",
    "    model = RandomForestClassifier()\n",
    "model.fit(train_x, train_y)\n",
    "pred_y = model.predict(test_x)\n",
    "train_rep = classification_report(train_y, model.predict(train_x), output_dict=True)\n",
    "test_rep = classification_report(test_y, pred_y, output_dict=True)\n",
    "cm = confusion_matrix(test_y, pred_y)\n",
    "if cm is None:\n",
    "    raise Exception(\"Some error in generating confusion matrix\")\n",
    "misclass_rate = 1 - accuracy_score(test_y, pred_y)\n"
   ]
  },
  {
   "cell_type": "code",
   "execution_count": null,
   "metadata": {},
   "outputs": [],
   "source": []
  },
  {
   "cell_type": "code",
   "execution_count": 66,
   "metadata": {},
   "outputs": [
    {
     "data": {
      "text/plain": [
       "array([1356, 2490, 2466, ..., 2135, 2748, 1673])"
      ]
     },
     "execution_count": 66,
     "metadata": {},
     "output_type": "execute_result"
    }
   ],
   "source": [
    "train_indices"
   ]
  },
  {
   "cell_type": "code",
   "execution_count": 64,
   "metadata": {},
   "outputs": [
    {
     "data": {
      "text/plain": [
       "array([   0,    1,    2, ..., 3997, 3998, 3999])"
      ]
     },
     "execution_count": 64,
     "metadata": {},
     "output_type": "execute_result"
    }
   ],
   "source": [
    "np.load('../data/zeisel/models/all_markers_1.npy', allow_pickle=True)"
   ]
  }
 ],
 "metadata": {
  "colab": {
   "collapsed_sections": [],
   "name": "SummaryTable.ipynb",
   "provenance": []
  },
  "kernelspec": {
   "display_name": "Python 3",
   "language": "python",
   "name": "python3"
  },
  "language_info": {
   "codemirror_mode": {
    "name": "ipython",
    "version": 3
   },
   "file_extension": ".py",
   "mimetype": "text/x-python",
   "name": "python",
   "nbconvert_exporter": "python",
   "pygments_lexer": "ipython3",
   "version": "3.9.7"
  }
 },
 "nbformat": 4,
 "nbformat_minor": 1
}
