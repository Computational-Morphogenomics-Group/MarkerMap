{
 "cells": [
  {
   "cell_type": "markdown",
   "metadata": {
    "id": "kuKoVgDwzrgo"
   },
   "source": [
    "# All the Imports"
   ]
  },
  {
   "cell_type": "code",
   "execution_count": 1,
   "metadata": {},
   "outputs": [],
   "source": [
    "import sys\n",
    "import os\n",
    "import logging\n",
    "sys.path.insert(1, '../src/')"
   ]
  },
  {
   "cell_type": "code",
   "execution_count": 2,
   "metadata": {
    "colab": {
     "base_uri": "https://localhost:8080/"
    },
    "id": "ZgkcUm9Pzn7_",
    "outputId": "2c04a937-e1cb-4cd7-95ba-b42eb697609f"
   },
   "outputs": [
    {
     "name": "stdout",
     "output_type": "stream",
     "text": [
      "CPU times: user 8.03 s, sys: 705 ms, total: 8.73 s\n",
      "Wall time: 8.15 s\n"
     ]
    }
   ],
   "source": [
    "%%time \n",
    "import itertools \n",
    "import numpy as np\n",
    "import pandas as pd\n",
    "import scanpy as sc\n",
    "import matplotlib.pyplot as plt\n",
    "import seaborn as sns\n",
    "import os\n",
    "from sklearn.preprocessing import LabelEncoder\n",
    "from lassonet import LassoNetClassifier\n",
    "\n",
    "\n",
    "from RankCorr.picturedRocks import Rocks\n",
    "import smashpy as smashpy\n",
    "\n",
    "\n",
    "import torch\n",
    "from torch import nn\n",
    "from torch.autograd import Variable\n",
    "from torch.nn import functional as F\n",
    "\n",
    "from utils import *\n"
   ]
  },
  {
   "cell_type": "code",
   "execution_count": 3,
   "metadata": {
    "id": "VH7bxl6U3CUC"
   },
   "outputs": [],
   "source": [
    "from os import path"
   ]
  },
  {
   "cell_type": "code",
   "execution_count": 4,
   "metadata": {
    "id": "2BQ8JwQoyXhv"
   },
   "outputs": [],
   "source": [
    "model_save_path = '../data/{}/models/'\n",
    "num_times = 10\n",
    "\n",
    "  "
   ]
  },
  {
   "cell_type": "markdown",
   "metadata": {
    "id": "r49opYsbRZm0"
   },
   "source": []
  },
  {
   "cell_type": "code",
   "execution_count": 5,
   "metadata": {
    "id": "tKWyrk-evGB-"
   },
   "outputs": [],
   "source": [
    "data_locations = [\n",
    "                  'CITE-seq',\n",
    "                 # 'developmental_mouse',\n",
    "                  'mouse_brain_broad',\n",
    "                  'paul',\n",
    "                  'zeisel'\n",
    "                 # 'synthetic'\n",
    "]"
   ]
  },
  {
   "cell_type": "code",
   "execution_count": 6,
   "metadata": {
    "id": "ERHoimmNx4HT"
   },
   "outputs": [],
   "source": [
    "result_axis = [\n",
    " ('All Markers', 'all_markers_results_{}.npy', 'all_markers_knn_results_{}.npy'), \n",
    " ('L1 VAE', 'l1_vae_results_{}.npy', 'l1_vae_knn_results_{}.npy'),\n",
    " ('Smash RF', 'smash_rf_results_{}.npy', 'smash_rf_knn_results_{}.npy'),\n",
    " ('SMaSH DNN', 'smash_results_{}.npy', 'smash_knn_results_{}.npy'),\n",
    " ('RankCorr', 'rankcorr_results_{}.npy', 'rankcorr_knn_results_{}.npy'),\n",
    " ('Global Gate VAE', 'globalgate_vae_results_{}.npy', 'globalgate_vae_knn_results_{}.npy'),\n",
    " ('MarkerMap Unsupervised', 'marker_map_unsupervised_results_{}.npy', 'marker_map_unsupervised_knn_results_{}.npy'),\n",
    " ('MarkerMap Supervised', 'marker_map_supervised_results_{}.npy', 'marker_map_supervised_knn_results_{}.npy'),\n",
    " ('MarkerMap Mixed Supervision', 'marker_map_mixed_results_{}.npy', 'marker_map_mixed_knn_results_{}.npy'),\n",
    " ('Concrete VAE',  'concrete_vae_results_{}.npy', 'concrete_vae_knn_results_{}.npy'),\n",
    " ('LassoNet', 'lasso_net_results_{}.npy', 'lasso_net_knn_results_{}.npy')\n",
    "]"
   ]
  },
  {
   "cell_type": "markdown",
   "metadata": {},
   "source": [
    "## Mean Accuracies and F1"
   ]
  },
  {
   "cell_type": "markdown",
   "metadata": {
    "id": "5UIJ7yMcyFSK"
   },
   "source": [
    "### Random Forest"
   ]
  },
  {
   "cell_type": "code",
   "execution_count": 7,
   "metadata": {
    "colab": {
     "base_uri": "https://localhost:8080/",
     "height": 235
    },
    "id": "MSIKDmNsvkbe",
    "outputId": "4bb6e285-5a90-4a7f-fe98-b779bdc474d1"
   },
   "outputs": [
    {
     "data": {
      "text/html": [
       "<div>\n",
       "<style scoped>\n",
       "    .dataframe tbody tr th:only-of-type {\n",
       "        vertical-align: middle;\n",
       "    }\n",
       "\n",
       "    .dataframe tbody tr th {\n",
       "        vertical-align: top;\n",
       "    }\n",
       "\n",
       "    .dataframe thead th {\n",
       "        text-align: right;\n",
       "    }\n",
       "</style>\n",
       "<table border=\"1\" class=\"dataframe\">\n",
       "  <thead>\n",
       "    <tr style=\"text-align: right;\">\n",
       "      <th></th>\n",
       "      <th>All Markers</th>\n",
       "      <th>L1 VAE</th>\n",
       "      <th>Smash RF</th>\n",
       "      <th>SMaSH DNN</th>\n",
       "      <th>RankCorr</th>\n",
       "      <th>Global Gate VAE</th>\n",
       "      <th>MarkerMap Unsupervised</th>\n",
       "      <th>MarkerMap Supervised</th>\n",
       "      <th>MarkerMap Mixed Supervision</th>\n",
       "      <th>Concrete VAE</th>\n",
       "      <th>LassoNet</th>\n",
       "    </tr>\n",
       "  </thead>\n",
       "  <tbody>\n",
       "    <tr>\n",
       "      <th>CITE-seq</th>\n",
       "      <td>(0.076, 0.901)</td>\n",
       "      <td>(0.132, 0.83)</td>\n",
       "      <td>(0.064, 0.919)</td>\n",
       "      <td>(0.067, 0.917)</td>\n",
       "      <td>(0.072, 0.909)</td>\n",
       "      <td>(0.132, 0.83)</td>\n",
       "      <td>(0.091, 0.885)</td>\n",
       "      <td>(0.063, 0.924)</td>\n",
       "      <td>(0.065, 0.92)</td>\n",
       "      <td>(0.127, 0.836)</td>\n",
       "      <td>(0.062, 0.924)</td>\n",
       "    </tr>\n",
       "    <tr>\n",
       "      <th>mouse_brain_broad</th>\n",
       "      <td>(0.009, 0.991)</td>\n",
       "      <td>(0.163, 0.827)</td>\n",
       "      <td>(0.018, 0.982)</td>\n",
       "      <td>(0.015, 0.984)</td>\n",
       "      <td>(0.032, 0.968)</td>\n",
       "      <td>(0.089, 0.906)</td>\n",
       "      <td>(0.013, 0.987)</td>\n",
       "      <td>(0.006, 0.994)</td>\n",
       "      <td>(0.031, 0.969)</td>\n",
       "      <td>(0.126, 0.865)</td>\n",
       "      <td>(0.008, 0.991)</td>\n",
       "    </tr>\n",
       "    <tr>\n",
       "      <th>paul</th>\n",
       "      <td>(0.184, 0.796)</td>\n",
       "      <td>(0.531, 0.406)</td>\n",
       "      <td>(0.114, 0.883)</td>\n",
       "      <td>(0.17, 0.817)</td>\n",
       "      <td>(0.149, 0.845)</td>\n",
       "      <td>(0.382, 0.573)</td>\n",
       "      <td>(0.139, 0.856)</td>\n",
       "      <td>(0.108, 0.889)</td>\n",
       "      <td>(0.138, 0.857)</td>\n",
       "      <td>(0.398, 0.555)</td>\n",
       "      <td>(0.126, 0.868)</td>\n",
       "    </tr>\n",
       "    <tr>\n",
       "      <th>zeisel</th>\n",
       "      <td>(0.042, 0.957)</td>\n",
       "      <td>(0.192, 0.794)</td>\n",
       "      <td>(0.049, 0.951)</td>\n",
       "      <td>(0.086, 0.911)</td>\n",
       "      <td>(0.045, 0.954)</td>\n",
       "      <td>(0.187, 0.801)</td>\n",
       "      <td>(0.124, 0.868)</td>\n",
       "      <td>(0.045, 0.955)</td>\n",
       "      <td>(0.066, 0.931)</td>\n",
       "      <td>(0.2, 0.785)</td>\n",
       "      <td>(0.054, 0.945)</td>\n",
       "    </tr>\n",
       "  </tbody>\n",
       "</table>\n",
       "</div>"
      ],
      "text/plain": [
       "                      All Markers          L1 VAE        Smash RF  \\\n",
       "CITE-seq           (0.076, 0.901)   (0.132, 0.83)  (0.064, 0.919)   \n",
       "mouse_brain_broad  (0.009, 0.991)  (0.163, 0.827)  (0.018, 0.982)   \n",
       "paul               (0.184, 0.796)  (0.531, 0.406)  (0.114, 0.883)   \n",
       "zeisel             (0.042, 0.957)  (0.192, 0.794)  (0.049, 0.951)   \n",
       "\n",
       "                        SMaSH DNN        RankCorr Global Gate VAE  \\\n",
       "CITE-seq           (0.067, 0.917)  (0.072, 0.909)   (0.132, 0.83)   \n",
       "mouse_brain_broad  (0.015, 0.984)  (0.032, 0.968)  (0.089, 0.906)   \n",
       "paul                (0.17, 0.817)  (0.149, 0.845)  (0.382, 0.573)   \n",
       "zeisel             (0.086, 0.911)  (0.045, 0.954)  (0.187, 0.801)   \n",
       "\n",
       "                  MarkerMap Unsupervised MarkerMap Supervised  \\\n",
       "CITE-seq                  (0.091, 0.885)       (0.063, 0.924)   \n",
       "mouse_brain_broad         (0.013, 0.987)       (0.006, 0.994)   \n",
       "paul                      (0.139, 0.856)       (0.108, 0.889)   \n",
       "zeisel                    (0.124, 0.868)       (0.045, 0.955)   \n",
       "\n",
       "                  MarkerMap Mixed Supervision    Concrete VAE        LassoNet  \n",
       "CITE-seq                        (0.065, 0.92)  (0.127, 0.836)  (0.062, 0.924)  \n",
       "mouse_brain_broad              (0.031, 0.969)  (0.126, 0.865)  (0.008, 0.991)  \n",
       "paul                           (0.138, 0.857)  (0.398, 0.555)  (0.126, 0.868)  \n",
       "zeisel                         (0.066, 0.931)    (0.2, 0.785)  (0.054, 0.945)  "
      ]
     },
     "execution_count": 7,
     "metadata": {},
     "output_type": "execute_result"
    }
   ],
   "source": [
    "results = {}\n",
    "for e, axis in itertools.product(data_locations, result_axis):\n",
    "    m, f1, _, _ = model_variances(model_save_path.format(e) + axis[1], num_times)\n",
    "    m = round(m, 3)\n",
    "    f1 = round(f1, 3)\n",
    "    if axis[0] in results:\n",
    "        results[axis[0]][e] = (m, f1)\n",
    "    else:\n",
    "        results[axis[0]] = {}\n",
    "        results[axis[0]][e] = (m, f1)\n",
    "\n",
    "tabulated_results1 = pd.DataFrame(results)\n",
    "tabulated_results1"
   ]
  },
  {
   "cell_type": "markdown",
   "metadata": {
    "id": "Hd-5oYbQyGz6"
   },
   "source": [
    "### KNN"
   ]
  },
  {
   "cell_type": "code",
   "execution_count": 8,
   "metadata": {
    "colab": {
     "base_uri": "https://localhost:8080/",
     "height": 235
    },
    "id": "bp0vY2tL2eRX",
    "outputId": "a4b9713a-b8a8-40c2-ac44-54c4bb296992"
   },
   "outputs": [
    {
     "data": {
      "text/html": [
       "<div>\n",
       "<style scoped>\n",
       "    .dataframe tbody tr th:only-of-type {\n",
       "        vertical-align: middle;\n",
       "    }\n",
       "\n",
       "    .dataframe tbody tr th {\n",
       "        vertical-align: top;\n",
       "    }\n",
       "\n",
       "    .dataframe thead th {\n",
       "        text-align: right;\n",
       "    }\n",
       "</style>\n",
       "<table border=\"1\" class=\"dataframe\">\n",
       "  <thead>\n",
       "    <tr style=\"text-align: right;\">\n",
       "      <th></th>\n",
       "      <th>All Markers</th>\n",
       "      <th>L1 VAE</th>\n",
       "      <th>Smash RF</th>\n",
       "      <th>SMaSH DNN</th>\n",
       "      <th>RankCorr</th>\n",
       "      <th>Global Gate VAE</th>\n",
       "      <th>MarkerMap Unsupervised</th>\n",
       "      <th>MarkerMap Supervised</th>\n",
       "      <th>MarkerMap Mixed Supervision</th>\n",
       "      <th>Concrete VAE</th>\n",
       "      <th>LassoNet</th>\n",
       "    </tr>\n",
       "  </thead>\n",
       "  <tbody>\n",
       "    <tr>\n",
       "      <th>CITE-seq</th>\n",
       "      <td>(0.098, 0.898)</td>\n",
       "      <td>(0.191, 0.782)</td>\n",
       "      <td>(0.066, 0.922)</td>\n",
       "      <td>(0.067, 0.923)</td>\n",
       "      <td>(0.078, 0.907)</td>\n",
       "      <td>(0.18, 0.796)</td>\n",
       "      <td>(0.104, 0.885)</td>\n",
       "      <td>(0.062, 0.929)</td>\n",
       "      <td>(0.07, 0.92)</td>\n",
       "      <td>(0.18, 0.795)</td>\n",
       "      <td>(0.064, 0.926)</td>\n",
       "    </tr>\n",
       "    <tr>\n",
       "      <th>mouse_brain_broad</th>\n",
       "      <td>(0.103, 0.885)</td>\n",
       "      <td>(0.234, 0.744)</td>\n",
       "      <td>(0.025, 0.974)</td>\n",
       "      <td>(0.016, 0.983)</td>\n",
       "      <td>(0.041, 0.959)</td>\n",
       "      <td>(0.14, 0.848)</td>\n",
       "      <td>(0.015, 0.985)</td>\n",
       "      <td>(0.006, 0.994)</td>\n",
       "      <td>(0.041, 0.958)</td>\n",
       "      <td>(0.198, 0.782)</td>\n",
       "      <td>(0.009, 0.991)</td>\n",
       "    </tr>\n",
       "    <tr>\n",
       "      <th>paul</th>\n",
       "      <td>(0.321, 0.608)</td>\n",
       "      <td>(0.632, 0.375)</td>\n",
       "      <td>(0.217, 0.768)</td>\n",
       "      <td>(0.291, 0.676)</td>\n",
       "      <td>(0.257, 0.729)</td>\n",
       "      <td>(0.447, 0.521)</td>\n",
       "      <td>(0.268, 0.721)</td>\n",
       "      <td>(0.203, 0.789)</td>\n",
       "      <td>(0.253, 0.735)</td>\n",
       "      <td>(0.461, 0.513)</td>\n",
       "      <td>(0.228, 0.761)</td>\n",
       "    </tr>\n",
       "    <tr>\n",
       "      <th>zeisel</th>\n",
       "      <td>(0.054, 0.945)</td>\n",
       "      <td>(0.261, 0.726)</td>\n",
       "      <td>(0.047, 0.953)</td>\n",
       "      <td>(0.103, 0.892)</td>\n",
       "      <td>(0.047, 0.953)</td>\n",
       "      <td>(0.273, 0.717)</td>\n",
       "      <td>(0.153, 0.84)</td>\n",
       "      <td>(0.038, 0.961)</td>\n",
       "      <td>(0.067, 0.93)</td>\n",
       "      <td>(0.286, 0.7)</td>\n",
       "      <td>(0.059, 0.938)</td>\n",
       "    </tr>\n",
       "  </tbody>\n",
       "</table>\n",
       "</div>"
      ],
      "text/plain": [
       "                      All Markers          L1 VAE        Smash RF  \\\n",
       "CITE-seq           (0.098, 0.898)  (0.191, 0.782)  (0.066, 0.922)   \n",
       "mouse_brain_broad  (0.103, 0.885)  (0.234, 0.744)  (0.025, 0.974)   \n",
       "paul               (0.321, 0.608)  (0.632, 0.375)  (0.217, 0.768)   \n",
       "zeisel             (0.054, 0.945)  (0.261, 0.726)  (0.047, 0.953)   \n",
       "\n",
       "                        SMaSH DNN        RankCorr Global Gate VAE  \\\n",
       "CITE-seq           (0.067, 0.923)  (0.078, 0.907)   (0.18, 0.796)   \n",
       "mouse_brain_broad  (0.016, 0.983)  (0.041, 0.959)   (0.14, 0.848)   \n",
       "paul               (0.291, 0.676)  (0.257, 0.729)  (0.447, 0.521)   \n",
       "zeisel             (0.103, 0.892)  (0.047, 0.953)  (0.273, 0.717)   \n",
       "\n",
       "                  MarkerMap Unsupervised MarkerMap Supervised  \\\n",
       "CITE-seq                  (0.104, 0.885)       (0.062, 0.929)   \n",
       "mouse_brain_broad         (0.015, 0.985)       (0.006, 0.994)   \n",
       "paul                      (0.268, 0.721)       (0.203, 0.789)   \n",
       "zeisel                     (0.153, 0.84)       (0.038, 0.961)   \n",
       "\n",
       "                  MarkerMap Mixed Supervision    Concrete VAE        LassoNet  \n",
       "CITE-seq                         (0.07, 0.92)   (0.18, 0.795)  (0.064, 0.926)  \n",
       "mouse_brain_broad              (0.041, 0.958)  (0.198, 0.782)  (0.009, 0.991)  \n",
       "paul                           (0.253, 0.735)  (0.461, 0.513)  (0.228, 0.761)  \n",
       "zeisel                          (0.067, 0.93)    (0.286, 0.7)  (0.059, 0.938)  "
      ]
     },
     "execution_count": 8,
     "metadata": {},
     "output_type": "execute_result"
    }
   ],
   "source": [
    "results = {}\n",
    "for e, axis in itertools.product(data_locations, result_axis):\n",
    "    m, f1, _, _ = model_variances(model_save_path.format(e) + axis[2], num_times)\n",
    "    m = round(m, 3)\n",
    "    f1 = round(f1, 3)\n",
    "    if axis[0] in results:\n",
    "        results[axis[0]][e] = (m, f1)\n",
    "    else:\n",
    "        results[axis[0]] = {}\n",
    "        results[axis[0]][e] = (m, f1)\n",
    "\n",
    "tabulated_results2 = pd.DataFrame(results)\n",
    "tabulated_results2"
   ]
  },
  {
   "cell_type": "markdown",
   "metadata": {
    "id": "wEV2Mxvvx9jM"
   },
   "source": [
    "## Variances"
   ]
  },
  {
   "cell_type": "markdown",
   "metadata": {},
   "source": [
    "### Random Forest"
   ]
  },
  {
   "cell_type": "code",
   "execution_count": 9,
   "metadata": {},
   "outputs": [
    {
     "data": {
      "text/html": [
       "<div>\n",
       "<style scoped>\n",
       "    .dataframe tbody tr th:only-of-type {\n",
       "        vertical-align: middle;\n",
       "    }\n",
       "\n",
       "    .dataframe tbody tr th {\n",
       "        vertical-align: top;\n",
       "    }\n",
       "\n",
       "    .dataframe thead th {\n",
       "        text-align: right;\n",
       "    }\n",
       "</style>\n",
       "<table border=\"1\" class=\"dataframe\">\n",
       "  <thead>\n",
       "    <tr style=\"text-align: right;\">\n",
       "      <th></th>\n",
       "      <th>All Markers</th>\n",
       "      <th>L1 VAE</th>\n",
       "      <th>Smash RF</th>\n",
       "      <th>SMaSH DNN</th>\n",
       "      <th>RankCorr</th>\n",
       "      <th>Global Gate VAE</th>\n",
       "      <th>MarkerMap Unsupervised</th>\n",
       "      <th>MarkerMap Supervised</th>\n",
       "      <th>MarkerMap Mixed Supervision</th>\n",
       "      <th>Concrete VAE</th>\n",
       "      <th>LassoNet</th>\n",
       "    </tr>\n",
       "  </thead>\n",
       "  <tbody>\n",
       "    <tr>\n",
       "      <th>CITE-seq</th>\n",
       "      <td>(0.00687, 0.01014)</td>\n",
       "      <td>(0.02216, 0.02942)</td>\n",
       "      <td>(0.00321, 0.00556)</td>\n",
       "      <td>(0.00688, 0.01011)</td>\n",
       "      <td>(0.00703, 0.00992)</td>\n",
       "      <td>(0.02341, 0.02825)</td>\n",
       "      <td>(0.01366, 0.01846)</td>\n",
       "      <td>(0.00575, 0.00769)</td>\n",
       "      <td>(0.00461, 0.00651)</td>\n",
       "      <td>(0.01707, 0.02263)</td>\n",
       "      <td>(0.00775, 0.01074)</td>\n",
       "    </tr>\n",
       "    <tr>\n",
       "      <th>mouse_brain_broad</th>\n",
       "      <td>(0.00118, 0.00125)</td>\n",
       "      <td>(0.03373, 0.03731)</td>\n",
       "      <td>(0.00264, 0.00262)</td>\n",
       "      <td>(0.00215, 0.00217)</td>\n",
       "      <td>(0.00319, 0.0032)</td>\n",
       "      <td>(0.03134, 0.03361)</td>\n",
       "      <td>(0.004, 0.00419)</td>\n",
       "      <td>(0.00065, 0.00069)</td>\n",
       "      <td>(0.01458, 0.01496)</td>\n",
       "      <td>(0.02833, 0.03041)</td>\n",
       "      <td>(0.00103, 0.00112)</td>\n",
       "    </tr>\n",
       "    <tr>\n",
       "      <th>paul</th>\n",
       "      <td>(0.01397, 0.01625)</td>\n",
       "      <td>(0.03289, 0.03068)</td>\n",
       "      <td>(0.0173, 0.01711)</td>\n",
       "      <td>(0.02674, 0.03112)</td>\n",
       "      <td>(0.01125, 0.01261)</td>\n",
       "      <td>(0.02965, 0.03472)</td>\n",
       "      <td>(0.01457, 0.01584)</td>\n",
       "      <td>(0.01222, 0.01232)</td>\n",
       "      <td>(0.0213, 0.02101)</td>\n",
       "      <td>(0.02604, 0.03466)</td>\n",
       "      <td>(0.00899, 0.01009)</td>\n",
       "    </tr>\n",
       "    <tr>\n",
       "      <th>zeisel</th>\n",
       "      <td>(0.00699, 0.00721)</td>\n",
       "      <td>(0.03541, 0.04028)</td>\n",
       "      <td>(0.00556, 0.00584)</td>\n",
       "      <td>(0.02172, 0.02375)</td>\n",
       "      <td>(0.00514, 0.00523)</td>\n",
       "      <td>(0.04568, 0.04929)</td>\n",
       "      <td>(0.0481, 0.05402)</td>\n",
       "      <td>(0.00626, 0.00648)</td>\n",
       "      <td>(0.01078, 0.01219)</td>\n",
       "      <td>(0.04423, 0.05143)</td>\n",
       "      <td>(0.00955, 0.00954)</td>\n",
       "    </tr>\n",
       "  </tbody>\n",
       "</table>\n",
       "</div>"
      ],
      "text/plain": [
       "                          All Markers              L1 VAE            Smash RF  \\\n",
       "CITE-seq           (0.00687, 0.01014)  (0.02216, 0.02942)  (0.00321, 0.00556)   \n",
       "mouse_brain_broad  (0.00118, 0.00125)  (0.03373, 0.03731)  (0.00264, 0.00262)   \n",
       "paul               (0.01397, 0.01625)  (0.03289, 0.03068)   (0.0173, 0.01711)   \n",
       "zeisel             (0.00699, 0.00721)  (0.03541, 0.04028)  (0.00556, 0.00584)   \n",
       "\n",
       "                            SMaSH DNN            RankCorr     Global Gate VAE  \\\n",
       "CITE-seq           (0.00688, 0.01011)  (0.00703, 0.00992)  (0.02341, 0.02825)   \n",
       "mouse_brain_broad  (0.00215, 0.00217)   (0.00319, 0.0032)  (0.03134, 0.03361)   \n",
       "paul               (0.02674, 0.03112)  (0.01125, 0.01261)  (0.02965, 0.03472)   \n",
       "zeisel             (0.02172, 0.02375)  (0.00514, 0.00523)  (0.04568, 0.04929)   \n",
       "\n",
       "                  MarkerMap Unsupervised MarkerMap Supervised  \\\n",
       "CITE-seq              (0.01366, 0.01846)   (0.00575, 0.00769)   \n",
       "mouse_brain_broad       (0.004, 0.00419)   (0.00065, 0.00069)   \n",
       "paul                  (0.01457, 0.01584)   (0.01222, 0.01232)   \n",
       "zeisel                 (0.0481, 0.05402)   (0.00626, 0.00648)   \n",
       "\n",
       "                  MarkerMap Mixed Supervision        Concrete VAE  \\\n",
       "CITE-seq                   (0.00461, 0.00651)  (0.01707, 0.02263)   \n",
       "mouse_brain_broad          (0.01458, 0.01496)  (0.02833, 0.03041)   \n",
       "paul                        (0.0213, 0.02101)  (0.02604, 0.03466)   \n",
       "zeisel                     (0.01078, 0.01219)  (0.04423, 0.05143)   \n",
       "\n",
       "                             LassoNet  \n",
       "CITE-seq           (0.00775, 0.01074)  \n",
       "mouse_brain_broad  (0.00103, 0.00112)  \n",
       "paul               (0.00899, 0.01009)  \n",
       "zeisel             (0.00955, 0.00954)  "
      ]
     },
     "execution_count": 9,
     "metadata": {},
     "output_type": "execute_result"
    }
   ],
   "source": [
    "results = {}\n",
    "for e, axis in itertools.product(data_locations, result_axis):\n",
    "    _, _, m, f1 = model_variances(model_save_path.format(e) + axis[1], num_times)\n",
    "    m = round(m, 5)\n",
    "    f1 = round(f1, 5)\n",
    "    if axis[0] in results:\n",
    "        results[axis[0]][e] = (m, f1)\n",
    "    else:\n",
    "        results[axis[0]] = {}\n",
    "        results[axis[0]][e] = (m, f1)\n",
    "\n",
    "tabulated_results1 = pd.DataFrame(results)\n",
    "tabulated_results1"
   ]
  },
  {
   "cell_type": "markdown",
   "metadata": {
    "id": "-aGZeycHRS6D"
   },
   "source": [
    "### KNN"
   ]
  },
  {
   "cell_type": "code",
   "execution_count": 10,
   "metadata": {
    "id": "4zqvDbQ3fi_p"
   },
   "outputs": [
    {
     "data": {
      "text/html": [
       "<div>\n",
       "<style scoped>\n",
       "    .dataframe tbody tr th:only-of-type {\n",
       "        vertical-align: middle;\n",
       "    }\n",
       "\n",
       "    .dataframe tbody tr th {\n",
       "        vertical-align: top;\n",
       "    }\n",
       "\n",
       "    .dataframe thead th {\n",
       "        text-align: right;\n",
       "    }\n",
       "</style>\n",
       "<table border=\"1\" class=\"dataframe\">\n",
       "  <thead>\n",
       "    <tr style=\"text-align: right;\">\n",
       "      <th></th>\n",
       "      <th>All Markers</th>\n",
       "      <th>L1 VAE</th>\n",
       "      <th>Smash RF</th>\n",
       "      <th>SMaSH DNN</th>\n",
       "      <th>RankCorr</th>\n",
       "      <th>Global Gate VAE</th>\n",
       "      <th>MarkerMap Unsupervised</th>\n",
       "      <th>MarkerMap Supervised</th>\n",
       "      <th>MarkerMap Mixed Supervision</th>\n",
       "      <th>Concrete VAE</th>\n",
       "      <th>LassoNet</th>\n",
       "    </tr>\n",
       "  </thead>\n",
       "  <tbody>\n",
       "    <tr>\n",
       "      <th>CITE-seq</th>\n",
       "      <td>(0.0054, 0.00517)</td>\n",
       "      <td>(0.03548, 0.04172)</td>\n",
       "      <td>(0.00445, 0.00537)</td>\n",
       "      <td>(0.00613, 0.00717)</td>\n",
       "      <td>(0.00629, 0.00834)</td>\n",
       "      <td>(0.02845, 0.03169)</td>\n",
       "      <td>(0.01622, 0.01721)</td>\n",
       "      <td>(0.00418, 0.00502)</td>\n",
       "      <td>(0.00494, 0.00637)</td>\n",
       "      <td>(0.0236, 0.02818)</td>\n",
       "      <td>(0.00527, 0.00735)</td>\n",
       "    </tr>\n",
       "    <tr>\n",
       "      <th>mouse_brain_broad</th>\n",
       "      <td>(0.00645, 0.00608)</td>\n",
       "      <td>(0.04626, 0.05147)</td>\n",
       "      <td>(0.00465, 0.00472)</td>\n",
       "      <td>(0.00345, 0.00345)</td>\n",
       "      <td>(0.00333, 0.00334)</td>\n",
       "      <td>(0.05128, 0.0591)</td>\n",
       "      <td>(0.00714, 0.00741)</td>\n",
       "      <td>(0.00077, 0.00077)</td>\n",
       "      <td>(0.02123, 0.02166)</td>\n",
       "      <td>(0.03769, 0.04341)</td>\n",
       "      <td>(0.00127, 0.00132)</td>\n",
       "    </tr>\n",
       "    <tr>\n",
       "      <th>paul</th>\n",
       "      <td>(0.01681, 0.02255)</td>\n",
       "      <td>(0.05892, 0.05146)</td>\n",
       "      <td>(0.01595, 0.01912)</td>\n",
       "      <td>(0.01848, 0.02353)</td>\n",
       "      <td>(0.0302, 0.03689)</td>\n",
       "      <td>(0.02446, 0.02886)</td>\n",
       "      <td>(0.01475, 0.01377)</td>\n",
       "      <td>(0.01735, 0.01849)</td>\n",
       "      <td>(0.0317, 0.03315)</td>\n",
       "      <td>(0.03431, 0.03568)</td>\n",
       "      <td>(0.02216, 0.02482)</td>\n",
       "    </tr>\n",
       "    <tr>\n",
       "      <th>zeisel</th>\n",
       "      <td>(0.00826, 0.00849)</td>\n",
       "      <td>(0.03513, 0.03642)</td>\n",
       "      <td>(0.00499, 0.00512)</td>\n",
       "      <td>(0.04191, 0.0458)</td>\n",
       "      <td>(0.00636, 0.00636)</td>\n",
       "      <td>(0.0561, 0.06126)</td>\n",
       "      <td>(0.04964, 0.05203)</td>\n",
       "      <td>(0.00455, 0.00465)</td>\n",
       "      <td>(0.01198, 0.01263)</td>\n",
       "      <td>(0.04426, 0.04958)</td>\n",
       "      <td>(0.01007, 0.01166)</td>\n",
       "    </tr>\n",
       "  </tbody>\n",
       "</table>\n",
       "</div>"
      ],
      "text/plain": [
       "                          All Markers              L1 VAE            Smash RF  \\\n",
       "CITE-seq            (0.0054, 0.00517)  (0.03548, 0.04172)  (0.00445, 0.00537)   \n",
       "mouse_brain_broad  (0.00645, 0.00608)  (0.04626, 0.05147)  (0.00465, 0.00472)   \n",
       "paul               (0.01681, 0.02255)  (0.05892, 0.05146)  (0.01595, 0.01912)   \n",
       "zeisel             (0.00826, 0.00849)  (0.03513, 0.03642)  (0.00499, 0.00512)   \n",
       "\n",
       "                            SMaSH DNN            RankCorr     Global Gate VAE  \\\n",
       "CITE-seq           (0.00613, 0.00717)  (0.00629, 0.00834)  (0.02845, 0.03169)   \n",
       "mouse_brain_broad  (0.00345, 0.00345)  (0.00333, 0.00334)   (0.05128, 0.0591)   \n",
       "paul               (0.01848, 0.02353)   (0.0302, 0.03689)  (0.02446, 0.02886)   \n",
       "zeisel              (0.04191, 0.0458)  (0.00636, 0.00636)   (0.0561, 0.06126)   \n",
       "\n",
       "                  MarkerMap Unsupervised MarkerMap Supervised  \\\n",
       "CITE-seq              (0.01622, 0.01721)   (0.00418, 0.00502)   \n",
       "mouse_brain_broad     (0.00714, 0.00741)   (0.00077, 0.00077)   \n",
       "paul                  (0.01475, 0.01377)   (0.01735, 0.01849)   \n",
       "zeisel                (0.04964, 0.05203)   (0.00455, 0.00465)   \n",
       "\n",
       "                  MarkerMap Mixed Supervision        Concrete VAE  \\\n",
       "CITE-seq                   (0.00494, 0.00637)   (0.0236, 0.02818)   \n",
       "mouse_brain_broad          (0.02123, 0.02166)  (0.03769, 0.04341)   \n",
       "paul                        (0.0317, 0.03315)  (0.03431, 0.03568)   \n",
       "zeisel                     (0.01198, 0.01263)  (0.04426, 0.04958)   \n",
       "\n",
       "                             LassoNet  \n",
       "CITE-seq           (0.00527, 0.00735)  \n",
       "mouse_brain_broad  (0.00127, 0.00132)  \n",
       "paul               (0.02216, 0.02482)  \n",
       "zeisel             (0.01007, 0.01166)  "
      ]
     },
     "execution_count": 10,
     "metadata": {},
     "output_type": "execute_result"
    }
   ],
   "source": [
    "results = {}\n",
    "for e, axis in itertools.product(data_locations, result_axis):\n",
    "    _, _, m, f1 = model_variances(model_save_path.format(e) + axis[2], num_times)\n",
    "    m = round(m, 5)\n",
    "    f1 = round(f1, 5)\n",
    "    if axis[0] in results:\n",
    "        results[axis[0]][e] = (m, f1)\n",
    "    else:\n",
    "        results[axis[0]] = {}\n",
    "        results[axis[0]][e] = (m, f1)\n",
    "\n",
    "tabulated_results2 = pd.DataFrame(results)\n",
    "tabulated_results2"
   ]
  },
  {
   "cell_type": "code",
   "execution_count": 17,
   "metadata": {},
   "outputs": [],
   "source": [
    "indices =  np.load('../data/paul/models/experiment_data_folds/rankcorr_indices_7.npy', allow_pickle = True)"
   ]
  },
  {
   "cell_type": "code",
   "execution_count": 18,
   "metadata": {},
   "outputs": [],
   "source": [
    "indices2 =  np.load('../data/paul/models/experiment_data_folds/marker_map_mixed_indices_7.npy', allow_pickle = True)"
   ]
  },
  {
   "cell_type": "code",
   "execution_count": 19,
   "metadata": {},
   "outputs": [
    {
     "data": {
      "text/plain": [
       "array([1751, 2032,  173, 1158, 1663,  533, 1729,  885, 1905, 2699,  416,\n",
       "       1839, 2566, 1571, 1097, 1154, 1047, 1005, 1754,  627, 1876, 1741,\n",
       "       1730, 1561, 2612, 2479,  624, 2163, 1931, 2440, 1982, 2480,  558,\n",
       "        855, 2188, 1622, 1245,  595,  439, 1844,   79,  930, 2587,  677,\n",
       "         23, 1643,  579,  198,  577,  428, 1667, 1819, 2017, 1393, 2079,\n",
       "       1020,  180,  459,  905,  258, 1765,  137, 1888, 2598,  255, 2646,\n",
       "        316, 1426, 1786,  494,  168,  409, 1866, 1478,  141, 2097, 1830,\n",
       "        860, 1572, 1129, 1959,  451,  985, 1030,  727, 1809, 1467, 1556,\n",
       "       1411,  181,  593,  567,  656, 1666, 1384, 1938, 1070,  804, 2293,\n",
       "        842, 1543,  103, 1328, 2285, 2513, 1604, 2243, 1108,  776, 1305,\n",
       "        993, 1173,  474,  851, 2642, 1948,   69,  583, 2178,  136, 1976,\n",
       "       2469, 1937, 2115,  499, 1167,  726,  426, 1671, 1325, 2013,  616,\n",
       "        862,  476, 1246,  587,  867,   97, 1763, 1816,  105,  538,  442,\n",
       "       2388,  259,  981, 2537, 1947,  223, 1335,  422, 2280,  153, 2247,\n",
       "       2597, 1133,  335, 2224,  427, 1796,  437, 1516,  647, 1749, 2121,\n",
       "       1062,  424, 1049, 1459, 1912, 1493, 1324, 1628, 1597,  939,  403,\n",
       "         16,  667,  774, 2647, 2583,  800, 1022, 1395,   70, 1681, 1089,\n",
       "       2077, 2331,  169, 2458, 2023, 1822,  291, 1517,  475, 1134,  765,\n",
       "        571, 2709, 1778,   51, 2476, 1581, 2047, 1486, 1259, 1269, 2644,\n",
       "        337,  669,  111, 1658,  843, 1647, 1766,  408, 1082, 1061, 1506,\n",
       "       1826, 2342, 1056,  215, 2622, 2525, 2664, 1514, 2106,  210,  205,\n",
       "       2571,  452,  139, 2036,  493, 1027, 1147, 2113, 2161,  799, 2037,\n",
       "       1196, 1988,  162, 2116,  208, 2296, 1879, 1110, 2332, 1828,  333,\n",
       "       1807, 1430, 2254, 1354,  191, 1272,  100, 1346, 1814, 1683,  954,\n",
       "        798,  379, 2695,   91, 2658, 2582,  500,  591, 1965, 2545])"
      ]
     },
     "execution_count": 19,
     "metadata": {},
     "output_type": "execute_result"
    }
   ],
   "source": [
    "indices[1]"
   ]
  },
  {
   "cell_type": "code",
   "execution_count": 20,
   "metadata": {},
   "outputs": [
    {
     "data": {
      "text/plain": [
       "array([1325,  300,  672, 1246,  655,  898, 1642, 1785,  897, 2595, 2382,\n",
       "       1765, 2346, 2569,  781, 2135, 2296, 2116,  501, 1390, 2635, 2124,\n",
       "       1180,  531,  837, 2099, 2183, 1840,  111,  259, 2312, 1055, 1371,\n",
       "       2496, 1346, 2474,  963, 1712, 1677, 1123,  358, 2188, 1175, 1156,\n",
       "       2157,  529, 1574, 2132, 2133,  362, 2139,  900, 2441, 1357, 1529,\n",
       "       2503, 2162, 1413, 2628, 1613, 1894,  991,  123, 1002, 1295, 2365,\n",
       "         64, 2253,   26, 2028, 1779, 1986, 2472, 2487,   97, 1703, 2502,\n",
       "        727, 2332,  823, 2061, 1286, 2165,  249,  908, 2059, 2449, 1145,\n",
       "        406,  198, 2233,  675, 2646, 1696, 1367, 1756, 1396, 2395, 1086,\n",
       "       1947, 2004,  260, 1053, 2348, 2358, 2338, 1098, 2678, 1914, 2543,\n",
       "       1663, 1479,  643, 2531, 2010, 1252,  859, 1219,  120, 1023,  234,\n",
       "        839,  515,  600, 1849, 2171,  977,  296, 1487, 1929,  890,  100,\n",
       "        185,  811,  647, 1401, 1630,  961, 2391, 1775,  470,  207,  755,\n",
       "       2653,  812, 1339, 2584, 2202,  293,   90,  424, 2722,  633, 1291,\n",
       "        429,  117, 1956,  779, 1027,  524,  919,    7, 1408,  520, 1439,\n",
       "       1174,  784,  169, 2201,  420,  390, 1231, 1936,   75, 1620, 1826,\n",
       "        695,  881, 2199,  493, 2436, 2024, 2661, 1441, 1152,  883, 1050,\n",
       "       2272, 2097, 1400, 2633,  168, 2624,  742, 1497,  691, 1982,  832,\n",
       "       1942,  625, 1602, 1737, 2674, 1492, 1273,  199, 2146,  822, 1141,\n",
       "       1755, 1192,  122, 2372, 2242,  658,  603, 2119,  478, 2136, 2337,\n",
       "       2029,  138, 1000, 1940, 1032, 1639,  262, 2333, 2323, 1452,  724,\n",
       "        871,  484,  244, 2643, 1069,  719,  646, 1212, 1667, 2160,  352,\n",
       "         20, 2517,  155, 1316, 1209, 1216, 2598,  624,  570,   84,  161,\n",
       "        797, 1895,  920, 1945,  163,  827, 1829, 1471, 1425, 2034, 2652,\n",
       "       1576,  235,  726, 2518, 1214, 2257,   23,  238,  743, 1591])"
      ]
     },
     "execution_count": 20,
     "metadata": {},
     "output_type": "execute_result"
    }
   ],
   "source": [
    "indices2[1]"
   ]
  },
  {
   "cell_type": "code",
   "execution_count": null,
   "metadata": {},
   "outputs": [],
   "source": []
  }
 ],
 "metadata": {
  "colab": {
   "collapsed_sections": [],
   "name": "SummaryTable.ipynb",
   "provenance": []
  },
  "kernelspec": {
   "display_name": "Python 3",
   "language": "python",
   "name": "python3"
  },
  "language_info": {
   "codemirror_mode": {
    "name": "ipython",
    "version": 3
   },
   "file_extension": ".py",
   "mimetype": "text/x-python",
   "name": "python",
   "nbconvert_exporter": "python",
   "pygments_lexer": "ipython3",
   "version": "3.9.7"
  }
 },
 "nbformat": 4,
 "nbformat_minor": 1
}
